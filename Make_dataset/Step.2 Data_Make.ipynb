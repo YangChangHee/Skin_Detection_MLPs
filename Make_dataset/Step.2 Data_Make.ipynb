{
 "cells": [
  {
   "cell_type": "code",
   "execution_count": 16,
   "id": "based-favor",
   "metadata": {},
   "outputs": [],
   "source": [
    "import numpy as np"
   ]
  },
  {
   "cell_type": "code",
   "execution_count": 17,
   "id": "accomplished-window",
   "metadata": {},
   "outputs": [],
   "source": [
    "SFA_S=np.load(\"SFA_Skin.npy\")\n",
    "SFA_NS=np.load(\"SFA_NonSkin.npy\")"
   ]
  },
  {
   "cell_type": "code",
   "execution_count": 18,
   "id": "played-exhaust",
   "metadata": {},
   "outputs": [],
   "source": [
    "from tqdm import tqdm, tqdm_notebook\n",
    "from tqdm import trange\n",
    "import time"
   ]
  },
  {
   "cell_type": "code",
   "execution_count": 19,
   "id": "adolescent-complexity",
   "metadata": {},
   "outputs": [],
   "source": [
    "def YCbCrTransform(x):\n",
    "    #================= exponancial function ==================#\n",
    "    exponancial=[[65.738, 129.057, 25.064],\n",
    "                 [-37.945, -74.494, 112.439],\n",
    "                 [112.439, -94.154, -18.285]]\n",
    "    exponancial=np.matrix(exponancial)\n",
    "    exponancial=(1/256)*exponancial\n",
    "    \n",
    "    A=[[16],[128],[128]]\n",
    "    A=np.matrix(A)\n",
    "    #=========================================================#\n",
    "    x=np.matrix(x)\n",
    "    x=np.transpose(x)\n",
    "    Answer=A+exponancial*x\n",
    "    Answer=np.array(Answer)\n",
    "    Answer=Answer.tolist()\n",
    "    Cb=Answer[1][0]\n",
    "    Cr=Answer[2][0]\n",
    "    \n",
    "    return Cb,Cr"
   ]
  },
  {
   "cell_type": "code",
   "execution_count": 20,
   "id": "driving-feeling",
   "metadata": {},
   "outputs": [],
   "source": [
    "def Make_redemention1(x):\n",
    "    before_result=[]\n",
    "    for i in tqdm(range(x.shape[0])):    #x.shape[0]\n",
    "        time.sleep(0.0000001)\n",
    "        before_result3=[]\n",
    "        before=x[i]\n",
    "        Cb,Cr=YCbCrTransform(before)\n",
    "        before_result3.append(before[0])\n",
    "        before_result3.append(before[1])\n",
    "        before_result3.append(before[2])\n",
    "        before_result3.append(Cb)\n",
    "        before_result3.append(Cr)\n",
    "        before_result.append(before_result3)\n",
    "    return before_result"
   ]
  },
  {
   "cell_type": "code",
   "execution_count": 21,
   "id": "chief-silly",
   "metadata": {},
   "outputs": [
    {
     "name": "stderr",
     "output_type": "stream",
     "text": [
      "100%|██████████| 1615510/1615510 [03:02<00:00, 8871.70it/s]\n"
     ]
    }
   ],
   "source": [
    "AAA=Make_redemention1(SFA_S)"
   ]
  },
  {
   "cell_type": "code",
   "execution_count": 22,
   "id": "bigger-miller",
   "metadata": {},
   "outputs": [
    {
     "name": "stderr",
     "output_type": "stream",
     "text": [
      "100%|██████████| 969306/969306 [01:49<00:00, 8875.05it/s]\n"
     ]
    }
   ],
   "source": [
    "AAA=np.array(AAA,dtype=np.uint8)\n",
    "BBB=Make_redemention1(SFA_NS)\n",
    "BBB=np.array(BBB,dtype=np.uint8)"
   ]
  },
  {
   "cell_type": "code",
   "execution_count": 23,
   "id": "rising-retrieval",
   "metadata": {},
   "outputs": [],
   "source": [
    "np.save('SFA_Skin_RGBCBCR.npy',AAA)\n",
    "np.save('SFA_NSkin_RGBCBCR.npy',BBB)"
   ]
  },
  {
   "cell_type": "code",
   "execution_count": 24,
   "id": "structured-prospect",
   "metadata": {},
   "outputs": [],
   "source": [
    "img_YCrCb_value_X_s = []\n",
    "img_YCrCb_value_Y_s = []\n",
    "img_YCrCb_value_X_ns = []\n",
    "img_YCrCb_value_Y_ns = []"
   ]
  },
  {
   "cell_type": "code",
   "execution_count": 25,
   "id": "hollow-circuit",
   "metadata": {},
   "outputs": [],
   "source": [
    "for i in range(len(AAA)):\n",
    "    X=AAA[i][3]\n",
    "    Y=AAA[i][4]\n",
    "    img_YCrCb_value_X_s.append(X)\n",
    "    img_YCrCb_value_Y_s.append(Y)"
   ]
  },
  {
   "cell_type": "code",
   "execution_count": 26,
   "id": "selective-present",
   "metadata": {},
   "outputs": [],
   "source": [
    "for i in range(len(BBB)):\n",
    "    X=BBB[i][3]\n",
    "    Y=BBB[i][4]\n",
    "    img_YCrCb_value_X_ns.append(X)\n",
    "    img_YCrCb_value_Y_ns.append(Y)"
   ]
  },
  {
   "cell_type": "code",
   "execution_count": 28,
   "id": "quick-bahrain",
   "metadata": {},
   "outputs": [
    {
     "data": {
      "text/plain": [
       "<function matplotlib.pyplot.show(close=None, block=None)>"
      ]
     },
     "execution_count": 28,
     "metadata": {},
     "output_type": "execute_result"
    },
    {
     "data": {
      "image/png": "[encoded data removed]",
      "text/plain": [
       "<Figure size 432x288 with 2 Axes>"
      ]
     },
     "metadata": {
      "needs_background": "light"
     },
     "output_type": "display_data"
    }
   ],
   "source": [
    "import matplotlib.pyplot as plt\n",
    "plt.subplot(221)\n",
    "plt.ylabel(\"img_YCbCr_Value_Cr\")\n",
    "plt.scatter(img_YCrCb_value_X_s,img_YCrCb_value_Y_s)\n",
    "plt.xlabel(\"Nonskin(cb)\")\n",
    "plt.axis([0,255,0,255])\n",
    "plt.subplot(222)\n",
    "plt.scatter(img_YCrCb_value_X_ns,img_YCrCb_value_Y_ns)\n",
    "plt.xlabel(\"skin(cb)\")\n",
    "plt.title('graph')\n",
    "plt.axis([0,255,0,255])\n",
    "plt.show"
   ]
  },
  {
   "cell_type": "code",
   "execution_count": null,
   "id": "clear-utilization",
   "metadata": {},
   "outputs": [],
   "source": []
  }
 ],
 "metadata": {
  "kernelspec": {
   "display_name": "Python 3",
   "language": "python",
   "name": "python3"
  },
  "language_info": {
   "codemirror_mode": {
    "name": "ipython",
    "version": 3
   },
   "file_extension": ".py",
   "mimetype": "text/x-python",
   "name": "python",
   "nbconvert_exporter": "python",
   "pygments_lexer": "ipython3",
   "version": "3.6.12"
  }
 },
 "nbformat": 4,
 "nbformat_minor": 5
}
