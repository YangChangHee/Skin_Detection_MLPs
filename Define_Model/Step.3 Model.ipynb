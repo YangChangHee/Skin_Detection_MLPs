{
 "cells": [
  {
   "cell_type": "code",
   "execution_count": 2,
   "id": "functional-platinum",
   "metadata": {},
   "outputs": [],
   "source": [
    "import matplotlib.pyplot as plt\n",
    "import numpy as np\n",
    "import random\n",
    "import torch\n",
    "import torchvision\n",
    "import torchvision.transforms as transforms\n",
    "import torch.nn as nn\n",
    "import torch.nn.functional as F\n",
    "import torch.optim as optim\n",
    "import argparse\n",
    "import numpy as np\n",
    "import time\n",
    "from copy import deepcopy # Add Deepcopy for args\n",
    "import seaborn as sns \n",
    "import matplotlib.pyplot as plt"
   ]
  },
  {
   "cell_type": "code",
   "execution_count": 3,
   "id": "honest-round",
   "metadata": {},
   "outputs": [],
   "source": [
    "from tqdm import tqdm, tqdm_notebook\n",
    "from tqdm import trange\n",
    "import time"
   ]
  },
  {
   "cell_type": "code",
   "execution_count": 4,
   "id": "taken-leader",
   "metadata": {},
   "outputs": [],
   "source": [
    "AAA=np.load('SFA_Skin_RGBCBCR.npy')\n",
    "BBB=np.load('SFA_NSkin_RGBCBCR.npy')"
   ]
  },
  {
   "cell_type": "code",
   "execution_count": 5,
   "id": "periodic-forest",
   "metadata": {},
   "outputs": [],
   "source": [
    "input_data=[]\n",
    "for i in range(2):\n",
    "    if i == 0:\n",
    "        for j in range(len(AAA)):\n",
    "            input_data.append(AAA[j])\n",
    "    else :\n",
    "        for j in range(len(BBB)):\n",
    "            input_data.append(BBB[j])"
   ]
  },
  {
   "cell_type": "code",
   "execution_count": 6,
   "id": "molecular-chemistry",
   "metadata": {},
   "outputs": [],
   "source": [
    "label=[]\n",
    "for i in range(len(AAA)+len(BBB)):\n",
    "    if i>=len(AAA):\n",
    "        label.append(0)\n",
    "    else:\n",
    "        label.append(1)"
   ]
  },
  {
   "cell_type": "code",
   "execution_count": 7,
   "id": "rubber-inspector",
   "metadata": {},
   "outputs": [],
   "source": [
    "label=np.array(label)\n",
    "input_data=np.array(input_data)"
   ]
  },
  {
   "cell_type": "code",
   "execution_count": 8,
   "id": "worthy-rouge",
   "metadata": {},
   "outputs": [],
   "source": [
    "input_data= (input_data*(1/256)-0.5)/0.5"
   ]
  },
  {
   "cell_type": "code",
   "execution_count": 9,
   "id": "advisory-soldier",
   "metadata": {},
   "outputs": [],
   "source": [
    "input_data=torch.FloatTensor(input_data)\n",
    "label=torch.LongTensor(label)"
   ]
  },
  {
   "cell_type": "code",
   "execution_count": 10,
   "id": "several-hours",
   "metadata": {},
   "outputs": [
    {
     "data": {
      "text/plain": [
       "torch.Size([2584816, 5])"
      ]
     },
     "execution_count": 10,
     "metadata": {},
     "output_type": "execute_result"
    }
   ],
   "source": [
    "input_data.shape"
   ]
  },
  {
   "cell_type": "code",
   "execution_count": 11,
   "id": "loving-framework",
   "metadata": {},
   "outputs": [],
   "source": [
    "from torch.utils.data import TensorDataset\n",
    "from torch.utils.data import DataLoader\n",
    "dataset = TensorDataset(input_data,label)"
   ]
  },
  {
   "cell_type": "code",
   "execution_count": 12,
   "id": "solar-orange",
   "metadata": {},
   "outputs": [],
   "source": [
    "trainset,valset=torch.utils.data.random_split(dataset,[1809416,775400])\n",
    "trainset,testset=torch.utils.data.random_split(trainset,[1034016,775400])\n",
    "\n",
    "partition={'train':trainset,'val':valset,'test':testset}"
   ]
  },
  {
   "cell_type": "code",
   "execution_count": 13,
   "id": "decimal-latitude",
   "metadata": {},
   "outputs": [],
   "source": [
    "class MLP(nn.Module):\n",
    "    \n",
    "    def __init__(self,hid_dim,hid_dim1,act):\n",
    "        super(MLP,self).__init__()\n",
    "        self.act = act\n",
    "        self.hid_dim=hid_dim\n",
    "        self.hid_dim1=hid_dim1\n",
    "        \n",
    "        if self.act =='ReLU':\n",
    "            self.act = nn.ReLU()\n",
    "        elif self.act == 'Tanh':\n",
    "            self.act = nn.Tanh()\n",
    "        elif self.act == 'Sigmoid':\n",
    "            self.act = nn.Sigmoid()\n",
    "        else :\n",
    "            raise ValueError('no valid activation function selected!')\n",
    "        if self.hid_dim1 == 0:\n",
    "            self.models=nn.Sequential(\n",
    "                nn.Linear(5,self.hid_dim),\n",
    "                self.act,\n",
    "                nn.Linear(self.hid_dim,2),\n",
    "            )\n",
    "        else :\n",
    "            self.models=nn.Sequential(\n",
    "                nn.Linear(5,self.hid_dim),\n",
    "                self.act,\n",
    "                nn.Linear(self.hid_dim,self.hid_dim1),\n",
    "                self.act,\n",
    "                nn.Linear(self.hid_dim1,2),\n",
    "            )\n",
    "    def forward(self,x):\n",
    "        x=self.models(x)\n",
    "        return x"
   ]
  },
  {
   "cell_type": "code",
   "execution_count": 23,
   "id": "occasional-vitamin",
   "metadata": {},
   "outputs": [],
   "source": [
    "def train(net,partition,optimizer,criterion):\n",
    "    trainloader = torch.utils.data.DataLoader(partition['train'],\n",
    "                                             batch_size=4096,\n",
    "                                             shuffle=True)\n",
    "    net.train()\n",
    "    correct = 0\n",
    "    total =0\n",
    "    train_loss = 0.0\n",
    "    for i, data in enumerate(tqdm(trainloader, 0)):\n",
    "        time.sleep(0.0000001)\n",
    "        optimizer.zero_grad()\n",
    "        inputs, labels = data\n",
    "        inputs = inputs.cuda()\n",
    "        labels = labels.cuda()\n",
    "        outputs = net(inputs)\n",
    "        loss = criterion(outputs, labels)\n",
    "        loss.backward()\n",
    "        optimizer.step()\n",
    "        \n",
    "        train_loss += loss.item()\n",
    "        _, predicted = torch.max(outputs.data, 1)\n",
    "        total += labels.size(0)\n",
    "        correct += (predicted == labels).sum().item()\n",
    "        #if i % 200 == 0:\n",
    "        #    print(correct,train_loss)\n",
    "    train_loss = train_loss / len(trainloader)\n",
    "    train_acc = 100 * correct / total\n",
    "    return net, train_loss, train_acc"
   ]
  },
  {
   "cell_type": "code",
   "execution_count": 15,
   "id": "every-planning",
   "metadata": {},
   "outputs": [],
   "source": [
    "def test(net, partition, args):\n",
    "    testloader = torch.utils.data.DataLoader(partition['test'], \n",
    "                                             batch_size=4096, \n",
    "                                             shuffle=False, num_workers=2)\n",
    "    net.eval()\n",
    "    \n",
    "    correct = 0\n",
    "    total = 0\n",
    "    with torch.no_grad():\n",
    "        for data in tqdm(testloader):\n",
    "            time.sleep(0.0000001)\n",
    "            images, labels = data\n",
    "            images = images.cuda()\n",
    "            labels = labels.cuda()\n",
    "\n",
    "            outputs = net(images)\n",
    "            _, predicted = torch.max(outputs.data, 1)\n",
    "            total += labels.size(0)\n",
    "            correct += (predicted == labels).sum().item()\n",
    "\n",
    "        test_acc = 100 * correct / total\n",
    "    return test_acc"
   ]
  },
  {
   "cell_type": "code",
   "execution_count": 16,
   "id": "interpreted-conclusion",
   "metadata": {},
   "outputs": [],
   "source": [
    "def validate(net, partition, criterion):\n",
    "    valloader = torch.utils.data.DataLoader(partition['val'], \n",
    "                                            batch_size=4096, \n",
    "                                            shuffle=False, num_workers=2)\n",
    "    net.eval()\n",
    "\n",
    "    correct = 0\n",
    "    total = 0\n",
    "    val_loss = 0 \n",
    "    with torch.no_grad():\n",
    "        for data in tqdm(valloader):\n",
    "            time.sleep(0.0000001)\n",
    "            images, labels = data\n",
    "            images = images.cuda()\n",
    "            labels = labels.cuda()\n",
    "            outputs = net(images)\n",
    "\n",
    "            loss = criterion(outputs, labels)\n",
    "            \n",
    "            val_loss += loss.item()\n",
    "            _, predicted = torch.max(outputs.data, 1)\n",
    "            total += labels.size(0)\n",
    "            correct += (predicted == labels).sum().item()\n",
    "\n",
    "        val_loss = val_loss / len(valloader)\n",
    "        val_acc = 100 * correct / total\n",
    "    return val_loss, val_acc"
   ]
  },
  {
   "cell_type": "code",
   "execution_count": 27,
   "id": "cloudy-massachusetts",
   "metadata": {},
   "outputs": [],
   "source": [
    "def experiment(partition, args):\n",
    "    net=MLP(args.hid_dim,args.hid_dim1,'ReLU')\n",
    "    net.cuda()\n",
    "    criterion = nn.CrossEntropyLoss()\n",
    "    optimizer = optim.Adam(net.parameters(), lr=0.0015, weight_decay=0.00001)\n",
    "    train_losses=[]\n",
    "    val_losses=[]\n",
    "    train_accs=[]\n",
    "    val_accs=[]\n",
    "    for epoch in range(args.epoch):\n",
    "        ts=time.time()\n",
    "        net, train_loss,train_acc=train(net, partition, optimizer, criterion)\n",
    "        val_loss, val_acc = validate(net, partition, criterion)\n",
    "        te=time.time()\n",
    "        print('time : {:2.2f}, train_loss : {:2.2f}, train_acc : {:2.2f},val_acc : {:2.2f},val_loss : {:2.2f}'.format(te-ts,train_loss,train_acc,val_acc,val_loss))\n",
    "\n",
    "        train_loss=round(train_loss,2)#리스트에 넣기 위해 3번째 자릿수 반올림\n",
    "        val_loss=round(val_loss,2)\n",
    "        train_acc=round(train_acc,2)\n",
    "        val_acc=round(val_acc,2)\n",
    "\n",
    "        train_losses.append(train_loss)\n",
    "        val_losses.append(val_loss)\n",
    "        train_accs.append(train_acc)\n",
    "        val_accs.append(val_acc)    \n",
    "\n",
    "\n",
    "    torch.save(net,'/home/lab/양창희/pytorch/Skin_MLP/model/model_h_{}h1_{}.pt'.format(args.hid_dim,args.hid_dim1))\n",
    "    test_acc = test(net,partition,criterion)\n",
    "    test_acc=round(test_acc,2)\n",
    "    result = {}\n",
    "    result['train_losses'] = train_losses\n",
    "    result['val_losses'] = val_losses\n",
    "    result['train_accs'] = train_accs\n",
    "    result['val_accs'] = val_accs\n",
    "    result['train_acc'] = train_acc\n",
    "    result['val_acc'] = val_acc\n",
    "    result['test_acc'] = test_acc\n",
    "    return vars(args), result"
   ]
  },
  {
   "cell_type": "code",
   "execution_count": 30,
   "id": "rural-pipeline",
   "metadata": {},
   "outputs": [],
   "source": [
    "import hashlib\n",
    "import json\n",
    "from os import listdir\n",
    "from os.path import isfile, join\n",
    "import pandas as pd\n",
    "\n",
    "def save_exp_result(setting, result):\n",
    "    exp_name = setting['exp_name']\n",
    "    del setting['epoch']# epoch값에 따라 파일이 여러개 생김.\n",
    "    #del setting['test_batch_size']# 실험에 영향이 없기 때문에\n",
    "\n",
    "    hash_key = hashlib.sha1(str(setting).encode()).hexdigest()[:6]\n",
    "    filename = './results/{}-{}.json'.format(exp_name, hash_key)\n",
    "    result.update(setting) # uodate는 딕셔너리를 합치는거임.\n",
    "    with open(filename, 'w') as f:\n",
    "        json.dump(result, f)\n",
    "\n",
    "    \n",
    "def load_exp_result(exp_name):\n",
    "    dir_path = './results'\n",
    "    filenames = [f for f in listdir(dir_path) if isfile(join(dir_path, f)) if '.json' in f]\n",
    "    list_result = []\n",
    "    for filename in filenames:\n",
    "        if exp_name in filename:\n",
    "            with open(join(dir_path, filename), 'r') as infile:\n",
    "                results = json.load(infile)\n",
    "                list_result.append(results)\n",
    "    df = pd.DataFrame(list_result) # .drop(columns=[])\n",
    "    return df"
   ]
  },
  {
   "cell_type": "code",
   "execution_count": 31,
   "id": "lovely-publicity",
   "metadata": {},
   "outputs": [
    {
     "name": "stderr",
     "output_type": "stream",
     "text": [
      "  0%|          | 1/253 [00:00<00:32,  7.76it/s]"
     ]
    },
    {
     "name": "stdout",
     "output_type": "stream",
     "text": [
      "Namespace(epoch=20, exp_name='exp_hid', hid_dim=3, hid_dim1=3)\n"
     ]
    },
    {
     "name": "stderr",
     "output_type": "stream",
     "text": [
      "100%|██████████| 253/253 [00:09<00:00, 26.22it/s]\n",
      "100%|██████████| 190/190 [00:03<00:00, 51.93it/s]\n",
      "  1%|          | 2/253 [00:00<00:13, 18.90it/s]"
     ]
    },
    {
     "name": "stdout",
     "output_type": "stream",
     "text": [
      "time : 13.31, train_loss : 0.60, train_acc : 59.57,val_acc : 71.81,val_loss : 0.48\n"
     ]
    },
    {
     "name": "stderr",
     "output_type": "stream",
     "text": [
      "100%|██████████| 253/253 [00:09<00:00, 26.93it/s]\n",
      "100%|██████████| 190/190 [00:03<00:00, 55.84it/s]\n",
      "  1%|          | 2/253 [00:00<00:13, 19.00it/s]"
     ]
    },
    {
     "name": "stdout",
     "output_type": "stream",
     "text": [
      "time : 12.80, train_loss : 0.41, train_acc : 80.60,val_acc : 83.58,val_loss : 0.36\n"
     ]
    },
    {
     "name": "stderr",
     "output_type": "stream",
     "text": [
      "100%|██████████| 253/253 [00:09<00:00, 27.01it/s]\n",
      "100%|██████████| 190/190 [00:03<00:00, 51.13it/s]\n",
      "  0%|          | 1/253 [00:00<00:42,  5.90it/s]"
     ]
    },
    {
     "name": "stdout",
     "output_type": "stream",
     "text": [
      "time : 13.09, train_loss : 0.34, train_acc : 85.24,val_acc : 88.97,val_loss : 0.29\n"
     ]
    },
    {
     "name": "stderr",
     "output_type": "stream",
     "text": [
      "100%|██████████| 253/253 [00:09<00:00, 25.80it/s]\n",
      "100%|██████████| 190/190 [00:03<00:00, 55.34it/s]\n",
      "  1%|          | 2/253 [00:00<00:16, 15.02it/s]"
     ]
    },
    {
     "name": "stdout",
     "output_type": "stream",
     "text": [
      "time : 13.24, train_loss : 0.23, train_acc : 92.29,val_acc : 92.69,val_loss : 0.21\n"
     ]
    },
    {
     "name": "stderr",
     "output_type": "stream",
     "text": [
      "100%|██████████| 253/253 [00:09<00:00, 25.83it/s]\n",
      "100%|██████████| 190/190 [00:03<00:00, 54.41it/s]\n",
      "  1%|          | 2/253 [00:00<00:16, 15.05it/s]"
     ]
    },
    {
     "name": "stdout",
     "output_type": "stream",
     "text": [
      "time : 13.29, train_loss : 0.20, train_acc : 92.83,val_acc : 92.87,val_loss : 0.20\n"
     ]
    },
    {
     "name": "stderr",
     "output_type": "stream",
     "text": [
      "100%|██████████| 253/253 [00:09<00:00, 26.83it/s]\n",
      "100%|██████████| 190/190 [00:03<00:00, 54.15it/s]\n",
      "  0%|          | 1/253 [00:00<00:37,  6.78it/s]"
     ]
    },
    {
     "name": "stdout",
     "output_type": "stream",
     "text": [
      "time : 12.94, train_loss : 0.19, train_acc : 92.98,val_acc : 93.03,val_loss : 0.19\n"
     ]
    },
    {
     "name": "stderr",
     "output_type": "stream",
     "text": [
      "100%|██████████| 253/253 [00:09<00:00, 25.64it/s]\n",
      "100%|██████████| 190/190 [00:03<00:00, 54.83it/s]\n",
      "  1%|          | 2/253 [00:00<00:16, 15.28it/s]"
     ]
    },
    {
     "name": "stdout",
     "output_type": "stream",
     "text": [
      "time : 13.33, train_loss : 0.19, train_acc : 93.14,val_acc : 93.19,val_loss : 0.18\n"
     ]
    },
    {
     "name": "stderr",
     "output_type": "stream",
     "text": [
      "100%|██████████| 253/253 [00:09<00:00, 25.83it/s]\n",
      "100%|██████████| 190/190 [00:03<00:00, 53.95it/s]\n",
      "  1%|          | 2/253 [00:00<00:16, 15.55it/s]"
     ]
    },
    {
     "name": "stdout",
     "output_type": "stream",
     "text": [
      "time : 13.32, train_loss : 0.18, train_acc : 93.32,val_acc : 93.40,val_loss : 0.18\n"
     ]
    },
    {
     "name": "stderr",
     "output_type": "stream",
     "text": [
      "100%|██████████| 253/253 [00:09<00:00, 26.92it/s]\n",
      "100%|██████████| 190/190 [00:03<00:00, 54.63it/s]\n",
      "  0%|          | 1/253 [00:00<00:43,  5.79it/s]"
     ]
    },
    {
     "name": "stdout",
     "output_type": "stream",
     "text": [
      "time : 12.88, train_loss : 0.17, train_acc : 93.53,val_acc : 93.59,val_loss : 0.17\n"
     ]
    },
    {
     "name": "stderr",
     "output_type": "stream",
     "text": [
      "100%|██████████| 253/253 [00:09<00:00, 25.62it/s]\n",
      "100%|██████████| 190/190 [00:03<00:00, 56.16it/s]\n",
      "  1%|          | 2/253 [00:00<00:16, 15.01it/s]"
     ]
    },
    {
     "name": "stdout",
     "output_type": "stream",
     "text": [
      "time : 13.26, train_loss : 0.17, train_acc : 93.76,val_acc : 93.85,val_loss : 0.17\n"
     ]
    },
    {
     "name": "stderr",
     "output_type": "stream",
     "text": [
      "100%|██████████| 253/253 [00:09<00:00, 25.84it/s]\n",
      "100%|██████████| 190/190 [00:03<00:00, 54.97it/s]\n",
      "  1%|          | 2/253 [00:00<00:13, 18.97it/s]"
     ]
    },
    {
     "name": "stdout",
     "output_type": "stream",
     "text": [
      "time : 13.25, train_loss : 0.16, train_acc : 94.00,val_acc : 94.10,val_loss : 0.16\n"
     ]
    },
    {
     "name": "stderr",
     "output_type": "stream",
     "text": [
      "100%|██████████| 253/253 [00:09<00:00, 26.45it/s]\n",
      "100%|██████████| 190/190 [00:03<00:00, 52.83it/s]\n",
      "  1%|          | 2/253 [00:00<00:20, 12.00it/s]"
     ]
    },
    {
     "name": "stdout",
     "output_type": "stream",
     "text": [
      "time : 13.17, train_loss : 0.16, train_acc : 94.30,val_acc : 94.44,val_loss : 0.15\n"
     ]
    },
    {
     "name": "stderr",
     "output_type": "stream",
     "text": [
      "100%|██████████| 253/253 [00:09<00:00, 25.98it/s]\n",
      "100%|██████████| 190/190 [00:03<00:00, 55.03it/s]\n",
      "  1%|          | 2/253 [00:00<00:16, 14.97it/s]"
     ]
    },
    {
     "name": "stdout",
     "output_type": "stream",
     "text": [
      "time : 13.19, train_loss : 0.15, train_acc : 94.59,val_acc : 94.66,val_loss : 0.15\n"
     ]
    },
    {
     "name": "stderr",
     "output_type": "stream",
     "text": [
      "100%|██████████| 253/253 [00:09<00:00, 26.56it/s]\n",
      "100%|██████████| 190/190 [00:03<00:00, 53.53it/s]\n",
      "  1%|          | 2/253 [00:00<00:16, 14.91it/s]"
     ]
    },
    {
     "name": "stdout",
     "output_type": "stream",
     "text": [
      "time : 13.08, train_loss : 0.14, train_acc : 94.83,val_acc : 94.84,val_loss : 0.14\n"
     ]
    },
    {
     "name": "stderr",
     "output_type": "stream",
     "text": [
      "100%|██████████| 253/253 [00:09<00:00, 26.44it/s]\n",
      "100%|██████████| 190/190 [00:03<00:00, 50.15it/s]\n",
      "  1%|          | 2/253 [00:00<00:24, 10.30it/s]"
     ]
    },
    {
     "name": "stdout",
     "output_type": "stream",
     "text": [
      "time : 13.36, train_loss : 0.14, train_acc : 94.97,val_acc : 94.96,val_loss : 0.14\n"
     ]
    },
    {
     "name": "stderr",
     "output_type": "stream",
     "text": [
      "100%|██████████| 253/253 [00:09<00:00, 26.73it/s]\n",
      "100%|██████████| 190/190 [00:03<00:00, 55.72it/s]\n",
      "  1%|          | 2/253 [00:00<00:13, 19.08it/s]"
     ]
    },
    {
     "name": "stdout",
     "output_type": "stream",
     "text": [
      "time : 12.88, train_loss : 0.14, train_acc : 95.01,val_acc : 94.95,val_loss : 0.14\n"
     ]
    },
    {
     "name": "stderr",
     "output_type": "stream",
     "text": [
      "100%|██████████| 253/253 [00:09<00:00, 26.64it/s]\n",
      "100%|██████████| 190/190 [00:03<00:00, 55.97it/s]\n",
      "  1%|          | 2/253 [00:00<00:13, 18.95it/s]"
     ]
    },
    {
     "name": "stdout",
     "output_type": "stream",
     "text": [
      "time : 12.90, train_loss : 0.14, train_acc : 95.02,val_acc : 94.97,val_loss : 0.14\n"
     ]
    },
    {
     "name": "stderr",
     "output_type": "stream",
     "text": [
      "100%|██████████| 253/253 [00:09<00:00, 26.67it/s]\n",
      "100%|██████████| 190/190 [00:03<00:00, 53.57it/s]\n",
      "  1%|          | 2/253 [00:00<00:23, 10.75it/s]"
     ]
    },
    {
     "name": "stdout",
     "output_type": "stream",
     "text": [
      "time : 13.03, train_loss : 0.14, train_acc : 95.02,val_acc : 94.97,val_loss : 0.14\n"
     ]
    },
    {
     "name": "stderr",
     "output_type": "stream",
     "text": [
      "100%|██████████| 253/253 [00:09<00:00, 26.11it/s]\n",
      "100%|██████████| 190/190 [00:03<00:00, 53.02it/s]\n",
      "  1%|          | 2/253 [00:00<00:16, 14.79it/s]"
     ]
    },
    {
     "name": "stdout",
     "output_type": "stream",
     "text": [
      "time : 13.28, train_loss : 0.14, train_acc : 95.03,val_acc : 95.01,val_loss : 0.14\n"
     ]
    },
    {
     "name": "stderr",
     "output_type": "stream",
     "text": [
      "100%|██████████| 253/253 [00:09<00:00, 25.78it/s]\n",
      "100%|██████████| 190/190 [00:03<00:00, 53.30it/s]\n",
      "  0%|          | 0/190 [00:00<?, ?it/s]"
     ]
    },
    {
     "name": "stdout",
     "output_type": "stream",
     "text": [
      "time : 13.38, train_loss : 0.14, train_acc : 95.04,val_acc : 95.00,val_loss : 0.14\n"
     ]
    },
    {
     "name": "stderr",
     "output_type": "stream",
     "text": [
      "100%|██████████| 190/190 [00:03<00:00, 51.24it/s]\n",
      "  1%|          | 2/253 [00:00<00:16, 15.26it/s]"
     ]
    },
    {
     "name": "stdout",
     "output_type": "stream",
     "text": [
      "Namespace(epoch=20, exp_name='exp_hid', hid_dim=3, hid_dim1=4)\n"
     ]
    },
    {
     "name": "stderr",
     "output_type": "stream",
     "text": [
      "100%|██████████| 253/253 [00:09<00:00, 26.49it/s]\n",
      "100%|██████████| 190/190 [00:03<00:00, 49.99it/s]\n",
      "  1%|          | 2/253 [00:00<00:21, 11.66it/s]"
     ]
    },
    {
     "name": "stdout",
     "output_type": "stream",
     "text": [
      "time : 13.36, train_loss : 0.55, train_acc : 70.99,val_acc : 86.65,val_loss : 0.35\n"
     ]
    },
    {
     "name": "stderr",
     "output_type": "stream",
     "text": [
      "100%|██████████| 253/253 [00:09<00:00, 25.95it/s]\n",
      "100%|██████████| 190/190 [00:03<00:00, 55.42it/s]\n",
      "  1%|          | 2/253 [00:00<00:13, 19.11it/s]"
     ]
    },
    {
     "name": "stdout",
     "output_type": "stream",
     "text": [
      "time : 13.18, train_loss : 0.24, train_acc : 91.49,val_acc : 92.74,val_loss : 0.19\n"
     ]
    },
    {
     "name": "stderr",
     "output_type": "stream",
     "text": [
      "100%|██████████| 253/253 [00:09<00:00, 26.18it/s]\n",
      "100%|██████████| 190/190 [00:03<00:00, 53.53it/s]\n",
      "  0%|          | 1/253 [00:00<00:39,  6.38it/s]"
     ]
    },
    {
     "name": "stdout",
     "output_type": "stream",
     "text": [
      "time : 13.22, train_loss : 0.19, train_acc : 92.97,val_acc : 93.16,val_loss : 0.18\n"
     ]
    },
    {
     "name": "stderr",
     "output_type": "stream",
     "text": [
      "100%|██████████| 253/253 [00:09<00:00, 26.36it/s]\n",
      "100%|██████████| 190/190 [00:03<00:00, 54.12it/s]\n",
      "  1%|          | 2/253 [00:00<00:13, 18.77it/s]"
     ]
    },
    {
     "name": "stdout",
     "output_type": "stream",
     "text": [
      "time : 13.11, train_loss : 0.18, train_acc : 93.36,val_acc : 93.51,val_loss : 0.17\n"
     ]
    },
    {
     "name": "stderr",
     "output_type": "stream",
     "text": [
      "100%|██████████| 253/253 [00:09<00:00, 25.66it/s]\n",
      "100%|██████████| 190/190 [00:03<00:00, 54.32it/s]\n",
      "  1%|          | 2/253 [00:00<00:15, 16.50it/s]"
     ]
    },
    {
     "name": "stdout",
     "output_type": "stream",
     "text": [
      "time : 13.36, train_loss : 0.17, train_acc : 93.78,val_acc : 94.14,val_loss : 0.16\n"
     ]
    },
    {
     "name": "stderr",
     "output_type": "stream",
     "text": [
      "100%|██████████| 253/253 [00:09<00:00, 26.03it/s]\n",
      "100%|██████████| 190/190 [00:03<00:00, 55.41it/s]\n",
      "  0%|          | 1/253 [00:00<00:43,  5.81it/s]"
     ]
    },
    {
     "name": "stdout",
     "output_type": "stream",
     "text": [
      "time : 13.15, train_loss : 0.15, train_acc : 94.58,val_acc : 94.81,val_loss : 0.14\n"
     ]
    },
    {
     "name": "stderr",
     "output_type": "stream",
     "text": [
      "100%|██████████| 253/253 [00:09<00:00, 25.62it/s]\n",
      "100%|██████████| 190/190 [00:03<00:00, 54.89it/s]\n",
      "  1%|          | 2/253 [00:00<00:13, 18.82it/s]"
     ]
    },
    {
     "name": "stdout",
     "output_type": "stream",
     "text": [
      "time : 13.34, train_loss : 0.14, train_acc : 94.99,val_acc : 95.04,val_loss : 0.14\n"
     ]
    },
    {
     "name": "stderr",
     "output_type": "stream",
     "text": [
      "100%|██████████| 253/253 [00:09<00:00, 25.93it/s]\n",
      "100%|██████████| 190/190 [00:03<00:00, 54.83it/s]\n",
      "  1%|          | 2/253 [00:00<00:13, 18.07it/s]"
     ]
    },
    {
     "name": "stdout",
     "output_type": "stream",
     "text": [
      "time : 13.22, train_loss : 0.14, train_acc : 95.12,val_acc : 95.14,val_loss : 0.13\n"
     ]
    },
    {
     "name": "stderr",
     "output_type": "stream",
     "text": [
      "100%|██████████| 253/253 [00:09<00:00, 25.95it/s]\n",
      "100%|██████████| 190/190 [00:03<00:00, 49.43it/s]\n",
      "  0%|          | 1/253 [00:00<00:35,  7.14it/s]"
     ]
    },
    {
     "name": "stdout",
     "output_type": "stream",
     "text": [
      "time : 13.60, train_loss : 0.13, train_acc : 95.19,val_acc : 95.18,val_loss : 0.13\n"
     ]
    },
    {
     "name": "stderr",
     "output_type": "stream",
     "text": [
      "100%|██████████| 253/253 [00:09<00:00, 25.53it/s]\n",
      "100%|██████████| 190/190 [00:03<00:00, 51.77it/s]\n",
      "  1%|          | 2/253 [00:00<00:16, 15.31it/s]"
     ]
    },
    {
     "name": "stdout",
     "output_type": "stream",
     "text": [
      "time : 13.58, train_loss : 0.13, train_acc : 95.26,val_acc : 95.26,val_loss : 0.13\n"
     ]
    },
    {
     "name": "stderr",
     "output_type": "stream",
     "text": [
      "100%|██████████| 253/253 [00:09<00:00, 25.86it/s]\n",
      "100%|██████████| 190/190 [00:03<00:00, 56.28it/s]\n",
      "  1%|          | 2/253 [00:00<00:13, 18.54it/s]"
     ]
    },
    {
     "name": "stdout",
     "output_type": "stream",
     "text": [
      "time : 13.16, train_loss : 0.13, train_acc : 95.33,val_acc : 95.33,val_loss : 0.13\n"
     ]
    },
    {
     "name": "stderr",
     "output_type": "stream",
     "text": [
      "100%|██████████| 253/253 [00:09<00:00, 26.02it/s]\n",
      "100%|██████████| 190/190 [00:03<00:00, 54.01it/s]\n",
      "  0%|          | 1/253 [00:00<00:37,  6.76it/s]"
     ]
    },
    {
     "name": "stdout",
     "output_type": "stream",
     "text": [
      "time : 13.24, train_loss : 0.13, train_acc : 95.36,val_acc : 95.31,val_loss : 0.13\n"
     ]
    },
    {
     "name": "stderr",
     "output_type": "stream",
     "text": [
      "100%|██████████| 253/253 [00:09<00:00, 26.76it/s]\n",
      "100%|██████████| 190/190 [00:03<00:00, 52.92it/s]\n",
      "  1%|          | 2/253 [00:00<00:12, 19.75it/s]"
     ]
    },
    {
     "name": "stdout",
     "output_type": "stream",
     "text": [
      "time : 13.05, train_loss : 0.13, train_acc : 95.36,val_acc : 95.33,val_loss : 0.13\n"
     ]
    },
    {
     "name": "stderr",
     "output_type": "stream",
     "text": [
      "100%|██████████| 253/253 [00:09<00:00, 25.71it/s]\n",
      "100%|██████████| 190/190 [00:03<00:00, 51.93it/s]\n",
      "  1%|          | 2/253 [00:00<00:13, 19.05it/s]"
     ]
    },
    {
     "name": "stdout",
     "output_type": "stream",
     "text": [
      "time : 13.50, train_loss : 0.13, train_acc : 95.39,val_acc : 95.35,val_loss : 0.13\n"
     ]
    },
    {
     "name": "stderr",
     "output_type": "stream",
     "text": [
      "100%|██████████| 253/253 [00:09<00:00, 26.62it/s]\n",
      "100%|██████████| 190/190 [00:03<00:00, 53.60it/s]\n",
      "  0%|          | 1/253 [00:00<00:33,  7.51it/s]"
     ]
    },
    {
     "name": "stdout",
     "output_type": "stream",
     "text": [
      "time : 13.05, train_loss : 0.13, train_acc : 95.39,val_acc : 95.34,val_loss : 0.13\n"
     ]
    },
    {
     "name": "stderr",
     "output_type": "stream",
     "text": [
      "100%|██████████| 253/253 [00:09<00:00, 26.44it/s]\n",
      "100%|██████████| 190/190 [00:03<00:00, 54.56it/s]\n",
      "  1%|          | 2/253 [00:00<00:13, 19.19it/s]"
     ]
    },
    {
     "name": "stdout",
     "output_type": "stream",
     "text": [
      "time : 13.05, train_loss : 0.13, train_acc : 95.41,val_acc : 95.36,val_loss : 0.13\n"
     ]
    },
    {
     "name": "stderr",
     "output_type": "stream",
     "text": [
      "100%|██████████| 253/253 [00:09<00:00, 26.64it/s]\n",
      "100%|██████████| 190/190 [00:03<00:00, 53.52it/s]\n",
      "  1%|          | 2/253 [00:00<00:13, 18.83it/s]"
     ]
    },
    {
     "name": "stdout",
     "output_type": "stream",
     "text": [
      "time : 13.05, train_loss : 0.13, train_acc : 95.44,val_acc : 95.40,val_loss : 0.13\n"
     ]
    },
    {
     "name": "stderr",
     "output_type": "stream",
     "text": [
      "100%|██████████| 253/253 [00:09<00:00, 25.93it/s]\n",
      "100%|██████████| 190/190 [00:03<00:00, 53.04it/s]\n",
      "  1%|          | 2/253 [00:00<00:24, 10.24it/s]"
     ]
    },
    {
     "name": "stdout",
     "output_type": "stream",
     "text": [
      "time : 13.34, train_loss : 0.13, train_acc : 95.47,val_acc : 95.45,val_loss : 0.13\n"
     ]
    },
    {
     "name": "stderr",
     "output_type": "stream",
     "text": [
      "100%|██████████| 253/253 [00:09<00:00, 26.28it/s]\n",
      "100%|██████████| 190/190 [00:03<00:00, 55.99it/s]\n",
      "  1%|          | 2/253 [00:00<00:16, 15.07it/s]"
     ]
    },
    {
     "name": "stdout",
     "output_type": "stream",
     "text": [
      "time : 13.02, train_loss : 0.12, train_acc : 95.50,val_acc : 95.48,val_loss : 0.12\n"
     ]
    },
    {
     "name": "stderr",
     "output_type": "stream",
     "text": [
      "100%|██████████| 253/253 [00:09<00:00, 26.15it/s]\n",
      "100%|██████████| 190/190 [00:03<00:00, 56.12it/s]\n",
      "  0%|          | 0/190 [00:00<?, ?it/s]"
     ]
    },
    {
     "name": "stdout",
     "output_type": "stream",
     "text": [
      "time : 13.06, train_loss : 0.12, train_acc : 95.51,val_acc : 95.46,val_loss : 0.12\n"
     ]
    },
    {
     "name": "stderr",
     "output_type": "stream",
     "text": [
      "100%|██████████| 190/190 [00:03<00:00, 48.59it/s]\n",
      "  1%|          | 2/253 [00:00<00:13, 19.01it/s]"
     ]
    },
    {
     "name": "stdout",
     "output_type": "stream",
     "text": [
      "Namespace(epoch=20, exp_name='exp_hid', hid_dim=3, hid_dim1=5)\n"
     ]
    },
    {
     "name": "stderr",
     "output_type": "stream",
     "text": [
      "100%|██████████| 253/253 [00:09<00:00, 26.22it/s]\n",
      "100%|██████████| 190/190 [00:03<00:00, 52.54it/s]\n",
      "  1%|          | 2/253 [00:00<00:20, 12.01it/s]"
     ]
    },
    {
     "name": "stdout",
     "output_type": "stream",
     "text": [
      "time : 13.27, train_loss : 0.54, train_acc : 72.10,val_acc : 90.14,val_loss : 0.29\n"
     ]
    },
    {
     "name": "stderr",
     "output_type": "stream",
     "text": [
      "100%|██████████| 253/253 [00:09<00:00, 26.41it/s]\n",
      "100%|██████████| 190/190 [00:03<00:00, 53.81it/s]\n",
      "  1%|          | 2/253 [00:00<00:16, 14.78it/s]"
     ]
    },
    {
     "name": "stdout",
     "output_type": "stream",
     "text": [
      "time : 13.11, train_loss : 0.23, train_acc : 91.80,val_acc : 92.82,val_loss : 0.20\n"
     ]
    },
    {
     "name": "stderr",
     "output_type": "stream",
     "text": [
      "100%|██████████| 253/253 [00:09<00:00, 26.49it/s]\n",
      "100%|██████████| 190/190 [00:03<00:00, 55.43it/s]\n",
      "  1%|          | 2/253 [00:00<00:16, 15.55it/s]"
     ]
    },
    {
     "name": "stdout",
     "output_type": "stream",
     "text": [
      "time : 12.98, train_loss : 0.19, train_acc : 93.22,val_acc : 93.48,val_loss : 0.18\n"
     ]
    },
    {
     "name": "stderr",
     "output_type": "stream",
     "text": [
      "100%|██████████| 253/253 [00:09<00:00, 26.41it/s]\n",
      "100%|██████████| 190/190 [00:03<00:00, 53.37it/s]\n",
      "  1%|          | 2/253 [00:00<00:21, 11.88it/s]"
     ]
    },
    {
     "name": "stdout",
     "output_type": "stream",
     "text": [
      "time : 13.14, train_loss : 0.17, train_acc : 93.74,val_acc : 94.00,val_loss : 0.17\n"
     ]
    },
    {
     "name": "stderr",
     "output_type": "stream",
     "text": [
      "100%|██████████| 253/253 [00:09<00:00, 25.66it/s]\n",
      "100%|██████████| 190/190 [00:03<00:00, 55.87it/s]\n",
      "  1%|          | 2/253 [00:00<00:16, 14.91it/s]"
     ]
    },
    {
     "name": "stdout",
     "output_type": "stream",
     "text": [
      "time : 13.26, train_loss : 0.16, train_acc : 94.14,val_acc : 94.22,val_loss : 0.16\n"
     ]
    },
    {
     "name": "stderr",
     "output_type": "stream",
     "text": [
      "100%|██████████| 253/253 [00:09<00:00, 25.71it/s]\n",
      "100%|██████████| 190/190 [00:03<00:00, 53.22it/s]\n",
      "  1%|          | 2/253 [00:00<00:13, 18.61it/s]"
     ]
    },
    {
     "name": "stdout",
     "output_type": "stream",
     "text": [
      "time : 13.41, train_loss : 0.15, train_acc : 94.40,val_acc : 94.44,val_loss : 0.15\n"
     ]
    },
    {
     "name": "stderr",
     "output_type": "stream",
     "text": [
      "100%|██████████| 253/253 [00:09<00:00, 26.38it/s]\n",
      "100%|██████████| 190/190 [00:03<00:00, 53.74it/s]\n",
      "  0%|          | 0/253 [00:00<?, ?it/s]"
     ]
    },
    {
     "name": "stdout",
     "output_type": "stream",
     "text": [
      "time : 13.13, train_loss : 0.15, train_acc : 94.57,val_acc : 94.54,val_loss : 0.15\n"
     ]
    },
    {
     "name": "stderr",
     "output_type": "stream",
     "text": [
      "100%|██████████| 253/253 [00:09<00:00, 25.97it/s]\n",
      "100%|██████████| 190/190 [00:03<00:00, 53.08it/s]\n",
      "  1%|          | 2/253 [00:00<00:16, 15.04it/s]"
     ]
    },
    {
     "name": "stdout",
     "output_type": "stream",
     "text": [
      "time : 13.33, train_loss : 0.15, train_acc : 94.72,val_acc : 94.72,val_loss : 0.15\n"
     ]
    },
    {
     "name": "stderr",
     "output_type": "stream",
     "text": [
      "100%|██████████| 253/253 [00:09<00:00, 26.42it/s]\n",
      "100%|██████████| 190/190 [00:03<00:00, 54.55it/s]\n",
      "  1%|          | 2/253 [00:00<00:16, 15.05it/s]"
     ]
    },
    {
     "name": "stdout",
     "output_type": "stream",
     "text": [
      "time : 13.06, train_loss : 0.15, train_acc : 94.82,val_acc : 94.78,val_loss : 0.15\n"
     ]
    },
    {
     "name": "stderr",
     "output_type": "stream",
     "text": [
      "100%|██████████| 253/253 [00:09<00:00, 26.15it/s]\n",
      "100%|██████████| 190/190 [00:03<00:00, 54.24it/s]\n",
      "  1%|          | 2/253 [00:00<00:21, 11.77it/s]"
     ]
    },
    {
     "name": "stdout",
     "output_type": "stream",
     "text": [
      "time : 13.18, train_loss : 0.14, train_acc : 94.88,val_acc : 94.87,val_loss : 0.14\n"
     ]
    },
    {
     "name": "stderr",
     "output_type": "stream",
     "text": [
      "100%|██████████| 253/253 [00:09<00:00, 25.88it/s]\n",
      "100%|██████████| 190/190 [00:03<00:00, 53.29it/s]\n",
      "  1%|          | 2/253 [00:00<00:13, 18.97it/s]"
     ]
    },
    {
     "name": "stdout",
     "output_type": "stream",
     "text": [
      "time : 13.34, train_loss : 0.14, train_acc : 94.90,val_acc : 94.87,val_loss : 0.14\n"
     ]
    },
    {
     "name": "stderr",
     "output_type": "stream",
     "text": [
      "100%|██████████| 253/253 [00:09<00:00, 26.75it/s]\n",
      "100%|██████████| 190/190 [00:03<00:00, 50.11it/s]\n",
      "  0%|          | 1/253 [00:00<00:42,  5.91it/s]"
     ]
    },
    {
     "name": "stdout",
     "output_type": "stream",
     "text": [
      "time : 13.25, train_loss : 0.14, train_acc : 94.90,val_acc : 94.90,val_loss : 0.14\n"
     ]
    },
    {
     "name": "stderr",
     "output_type": "stream",
     "text": [
      "100%|██████████| 253/253 [00:09<00:00, 25.52it/s]\n",
      "100%|██████████| 190/190 [00:03<00:00, 54.72it/s]\n",
      "  1%|          | 2/253 [00:00<00:16, 15.25it/s]"
     ]
    },
    {
     "name": "stdout",
     "output_type": "stream",
     "text": [
      "time : 13.39, train_loss : 0.14, train_acc : 94.92,val_acc : 94.89,val_loss : 0.14\n"
     ]
    },
    {
     "name": "stderr",
     "output_type": "stream",
     "text": [
      "100%|██████████| 253/253 [00:09<00:00, 26.33it/s]\n",
      "100%|██████████| 190/190 [00:03<00:00, 56.00it/s]\n",
      "  1%|          | 2/253 [00:00<00:17, 14.69it/s]"
     ]
    },
    {
     "name": "stdout",
     "output_type": "stream",
     "text": [
      "time : 13.00, train_loss : 0.14, train_acc : 94.92,val_acc : 94.90,val_loss : 0.14\n"
     ]
    },
    {
     "name": "stderr",
     "output_type": "stream",
     "text": [
      "100%|██████████| 253/253 [00:09<00:00, 26.64it/s]\n",
      "100%|██████████| 190/190 [00:03<00:00, 54.85it/s]\n",
      "  0%|          | 1/253 [00:00<00:36,  6.94it/s]"
     ]
    },
    {
     "name": "stdout",
     "output_type": "stream",
     "text": [
      "time : 12.96, train_loss : 0.14, train_acc : 94.93,val_acc : 94.90,val_loss : 0.14\n"
     ]
    },
    {
     "name": "stderr",
     "output_type": "stream",
     "text": [
      "100%|██████████| 253/253 [00:09<00:00, 25.54it/s]\n",
      "100%|██████████| 190/190 [00:03<00:00, 53.74it/s]\n",
      "  1%|          | 2/253 [00:00<00:13, 18.86it/s]"
     ]
    },
    {
     "name": "stdout",
     "output_type": "stream",
     "text": [
      "time : 13.44, train_loss : 0.14, train_acc : 94.93,val_acc : 94.91,val_loss : 0.14\n"
     ]
    },
    {
     "name": "stderr",
     "output_type": "stream",
     "text": [
      "100%|██████████| 253/253 [00:09<00:00, 26.51it/s]\n",
      "100%|██████████| 190/190 [00:03<00:00, 54.07it/s]\n",
      "  1%|          | 2/253 [00:00<00:13, 19.16it/s]"
     ]
    },
    {
     "name": "stdout",
     "output_type": "stream",
     "text": [
      "time : 13.06, train_loss : 0.14, train_acc : 94.93,val_acc : 94.92,val_loss : 0.14\n"
     ]
    },
    {
     "name": "stderr",
     "output_type": "stream",
     "text": [
      "100%|██████████| 253/253 [00:09<00:00, 26.82it/s]\n",
      "100%|██████████| 190/190 [00:03<00:00, 52.45it/s]\n",
      "  0%|          | 1/253 [00:00<00:42,  5.92it/s]"
     ]
    },
    {
     "name": "stdout",
     "output_type": "stream",
     "text": [
      "time : 13.06, train_loss : 0.14, train_acc : 94.94,val_acc : 94.89,val_loss : 0.14\n"
     ]
    },
    {
     "name": "stderr",
     "output_type": "stream",
     "text": [
      "100%|██████████| 253/253 [00:09<00:00, 25.98it/s]\n",
      "100%|██████████| 190/190 [00:03<00:00, 54.96it/s]\n",
      "  1%|          | 2/253 [00:00<00:17, 14.46it/s]"
     ]
    },
    {
     "name": "stdout",
     "output_type": "stream",
     "text": [
      "time : 13.20, train_loss : 0.14, train_acc : 94.93,val_acc : 94.86,val_loss : 0.14\n"
     ]
    },
    {
     "name": "stderr",
     "output_type": "stream",
     "text": [
      "100%|██████████| 253/253 [00:09<00:00, 26.49it/s]\n",
      "100%|██████████| 190/190 [00:03<00:00, 52.44it/s]\n",
      "  0%|          | 0/190 [00:00<?, ?it/s]"
     ]
    },
    {
     "name": "stdout",
     "output_type": "stream",
     "text": [
      "time : 13.18, train_loss : 0.14, train_acc : 94.94,val_acc : 94.93,val_loss : 0.14\n"
     ]
    },
    {
     "name": "stderr",
     "output_type": "stream",
     "text": [
      "100%|██████████| 190/190 [00:04<00:00, 46.46it/s]\n",
      "  1%|          | 2/253 [00:00<00:16, 15.14it/s]"
     ]
    },
    {
     "name": "stdout",
     "output_type": "stream",
     "text": [
      "Namespace(epoch=20, exp_name='exp_hid', hid_dim=3, hid_dim1=6)\n"
     ]
    },
    {
     "name": "stderr",
     "output_type": "stream",
     "text": [
      "100%|██████████| 253/253 [00:09<00:00, 25.91it/s]\n",
      "100%|██████████| 190/190 [00:03<00:00, 53.94it/s]\n",
      "  0%|          | 1/253 [00:00<00:33,  7.51it/s]"
     ]
    },
    {
     "name": "stdout",
     "output_type": "stream",
     "text": [
      "time : 13.29, train_loss : 0.56, train_acc : 68.47,val_acc : 80.92,val_loss : 0.40\n"
     ]
    },
    {
     "name": "stderr",
     "output_type": "stream",
     "text": [
      "100%|██████████| 253/253 [00:09<00:00, 26.68it/s]\n",
      "100%|██████████| 190/190 [00:03<00:00, 50.60it/s]\n",
      "  1%|          | 2/253 [00:00<00:12, 19.33it/s]"
     ]
    },
    {
     "name": "stdout",
     "output_type": "stream",
     "text": [
      "time : 13.24, train_loss : 0.30, train_acc : 87.75,val_acc : 91.49,val_loss : 0.23\n"
     ]
    },
    {
     "name": "stderr",
     "output_type": "stream",
     "text": [
      "100%|██████████| 253/253 [00:09<00:00, 26.38it/s]\n",
      "100%|██████████| 190/190 [00:03<00:00, 50.95it/s]\n",
      "  1%|          | 2/253 [00:00<00:16, 15.04it/s]"
     ]
    },
    {
     "name": "stdout",
     "output_type": "stream",
     "text": [
      "time : 13.32, train_loss : 0.22, train_acc : 91.96,val_acc : 92.15,val_loss : 0.22\n"
     ]
    },
    {
     "name": "stderr",
     "output_type": "stream",
     "text": [
      "100%|██████████| 253/253 [00:09<00:00, 26.65it/s]\n",
      "100%|██████████| 190/190 [00:03<00:00, 52.28it/s]\n",
      "  1%|          | 2/253 [00:00<00:22, 11.34it/s]"
     ]
    },
    {
     "name": "stdout",
     "output_type": "stream",
     "text": [
      "time : 13.13, train_loss : 0.21, train_acc : 92.32,val_acc : 92.39,val_loss : 0.21\n"
     ]
    },
    {
     "name": "stderr",
     "output_type": "stream",
     "text": [
      "100%|██████████| 253/253 [00:09<00:00, 26.45it/s]\n",
      "100%|██████████| 190/190 [00:03<00:00, 54.16it/s]\n",
      "  1%|          | 2/253 [00:00<00:16, 15.23it/s]"
     ]
    },
    {
     "name": "stdout",
     "output_type": "stream",
     "text": [
      "time : 13.08, train_loss : 0.21, train_acc : 92.50,val_acc : 92.57,val_loss : 0.21\n"
     ]
    },
    {
     "name": "stderr",
     "output_type": "stream",
     "text": [
      "100%|██████████| 253/253 [00:09<00:00, 26.28it/s]\n",
      "100%|██████████| 190/190 [00:03<00:00, 54.29it/s]\n",
      "  1%|          | 2/253 [00:00<00:16, 14.97it/s]"
     ]
    },
    {
     "name": "stdout",
     "output_type": "stream",
     "text": [
      "time : 13.13, train_loss : 0.20, train_acc : 92.69,val_acc : 92.82,val_loss : 0.20\n"
     ]
    },
    {
     "name": "stderr",
     "output_type": "stream",
     "text": [
      "100%|██████████| 253/253 [00:09<00:00, 26.40it/s]\n",
      "100%|██████████| 190/190 [00:03<00:00, 51.63it/s]\n",
      "  1%|          | 2/253 [00:00<00:20, 12.20it/s]"
     ]
    },
    {
     "name": "stdout",
     "output_type": "stream",
     "text": [
      "time : 13.27, train_loss : 0.19, train_acc : 93.11,val_acc : 93.34,val_loss : 0.18\n"
     ]
    },
    {
     "name": "stderr",
     "output_type": "stream",
     "text": [
      "100%|██████████| 253/253 [00:09<00:00, 26.50it/s]\n",
      "100%|██████████| 190/190 [00:03<00:00, 53.89it/s]\n",
      "  1%|          | 2/253 [00:00<00:13, 19.09it/s]"
     ]
    },
    {
     "name": "stdout",
     "output_type": "stream",
     "text": [
      "time : 13.08, train_loss : 0.17, train_acc : 93.76,val_acc : 94.08,val_loss : 0.17\n"
     ]
    },
    {
     "name": "stderr",
     "output_type": "stream",
     "text": [
      "100%|██████████| 253/253 [00:09<00:00, 25.87it/s]\n",
      "100%|██████████| 190/190 [00:03<00:00, 54.15it/s]\n",
      "  1%|          | 2/253 [00:00<00:15, 15.79it/s]"
     ]
    },
    {
     "name": "stdout",
     "output_type": "stream",
     "text": [
      "time : 13.29, train_loss : 0.16, train_acc : 94.28,val_acc : 94.43,val_loss : 0.16\n"
     ]
    },
    {
     "name": "stderr",
     "output_type": "stream",
     "text": [
      "100%|██████████| 253/253 [00:09<00:00, 26.51it/s]\n",
      "100%|██████████| 190/190 [00:03<00:00, 55.27it/s]\n",
      "  1%|          | 2/253 [00:00<00:20, 12.01it/s]"
     ]
    },
    {
     "name": "stdout",
     "output_type": "stream",
     "text": [
      "time : 12.98, train_loss : 0.15, train_acc : 94.52,val_acc : 94.64,val_loss : 0.15\n"
     ]
    },
    {
     "name": "stderr",
     "output_type": "stream",
     "text": [
      "100%|██████████| 253/253 [00:09<00:00, 25.68it/s]\n",
      "100%|██████████| 190/190 [00:03<00:00, 55.46it/s]\n",
      "  1%|          | 2/253 [00:00<00:17, 14.08it/s]"
     ]
    },
    {
     "name": "stdout",
     "output_type": "stream",
     "text": [
      "time : 13.28, train_loss : 0.15, train_acc : 94.66,val_acc : 94.68,val_loss : 0.15\n"
     ]
    },
    {
     "name": "stderr",
     "output_type": "stream",
     "text": [
      "100%|██████████| 253/253 [00:09<00:00, 25.44it/s]\n",
      "100%|██████████| 190/190 [00:03<00:00, 53.89it/s]\n",
      "  1%|          | 2/253 [00:00<00:13, 18.94it/s]"
     ]
    },
    {
     "name": "stdout",
     "output_type": "stream",
     "text": [
      "time : 13.47, train_loss : 0.14, train_acc : 94.73,val_acc : 94.70,val_loss : 0.14\n"
     ]
    },
    {
     "name": "stderr",
     "output_type": "stream",
     "text": [
      "100%|██████████| 253/253 [00:09<00:00, 26.06it/s]\n",
      "100%|██████████| 190/190 [00:03<00:00, 51.93it/s]\n",
      "  0%|          | 0/253 [00:00<?, ?it/s]"
     ]
    },
    {
     "name": "stdout",
     "output_type": "stream",
     "text": [
      "time : 13.37, train_loss : 0.14, train_acc : 94.77,val_acc : 94.76,val_loss : 0.14\n"
     ]
    },
    {
     "name": "stderr",
     "output_type": "stream",
     "text": [
      "100%|██████████| 253/253 [00:09<00:00, 26.29it/s]\n",
      "100%|██████████| 190/190 [00:03<00:00, 52.24it/s]\n",
      "  1%|          | 2/253 [00:00<00:12, 19.96it/s]"
     ]
    },
    {
     "name": "stdout",
     "output_type": "stream",
     "text": [
      "time : 13.26, train_loss : 0.14, train_acc : 94.81,val_acc : 94.83,val_loss : 0.14\n"
     ]
    },
    {
     "name": "stderr",
     "output_type": "stream",
     "text": [
      "100%|██████████| 253/253 [00:09<00:00, 26.76it/s]\n",
      "100%|██████████| 190/190 [00:03<00:00, 55.70it/s]\n",
      "  1%|          | 2/253 [00:00<00:13, 18.31it/s]"
     ]
    },
    {
     "name": "stdout",
     "output_type": "stream",
     "text": [
      "time : 12.87, train_loss : 0.14, train_acc : 94.84,val_acc : 94.85,val_loss : 0.14\n"
     ]
    },
    {
     "name": "stderr",
     "output_type": "stream",
     "text": [
      "100%|██████████| 253/253 [00:09<00:00, 26.07it/s]\n",
      "100%|██████████| 190/190 [00:03<00:00, 52.01it/s]\n",
      "  1%|          | 2/253 [00:00<00:22, 11.20it/s]"
     ]
    },
    {
     "name": "stdout",
     "output_type": "stream",
     "text": [
      "time : 13.36, train_loss : 0.14, train_acc : 94.87,val_acc : 94.87,val_loss : 0.14\n"
     ]
    },
    {
     "name": "stderr",
     "output_type": "stream",
     "text": [
      "100%|██████████| 253/253 [00:09<00:00, 26.46it/s]\n",
      "100%|██████████| 190/190 [00:03<00:00, 52.40it/s]\n",
      "  1%|          | 2/253 [00:00<00:14, 17.92it/s]"
     ]
    },
    {
     "name": "stdout",
     "output_type": "stream",
     "text": [
      "time : 13.19, train_loss : 0.14, train_acc : 94.89,val_acc : 94.88,val_loss : 0.14\n"
     ]
    },
    {
     "name": "stderr",
     "output_type": "stream",
     "text": [
      "100%|██████████| 253/253 [00:09<00:00, 26.38it/s]\n",
      "100%|██████████| 190/190 [00:03<00:00, 53.64it/s]\n",
      "  0%|          | 1/253 [00:00<00:34,  7.22it/s]"
     ]
    },
    {
     "name": "stdout",
     "output_type": "stream",
     "text": [
      "time : 13.14, train_loss : 0.14, train_acc : 94.91,val_acc : 94.90,val_loss : 0.14\n"
     ]
    },
    {
     "name": "stderr",
     "output_type": "stream",
     "text": [
      "100%|██████████| 253/253 [00:09<00:00, 25.84it/s]\n",
      "100%|██████████| 190/190 [00:03<00:00, 54.71it/s]\n",
      "  1%|          | 2/253 [00:00<00:12, 19.76it/s]"
     ]
    },
    {
     "name": "stdout",
     "output_type": "stream",
     "text": [
      "time : 13.27, train_loss : 0.14, train_acc : 94.92,val_acc : 94.92,val_loss : 0.14\n"
     ]
    },
    {
     "name": "stderr",
     "output_type": "stream",
     "text": [
      "100%|██████████| 253/253 [00:09<00:00, 26.23it/s]\n",
      "100%|██████████| 190/190 [00:03<00:00, 54.17it/s]\n",
      "  0%|          | 0/190 [00:00<?, ?it/s]"
     ]
    },
    {
     "name": "stdout",
     "output_type": "stream",
     "text": [
      "time : 13.16, train_loss : 0.14, train_acc : 94.93,val_acc : 94.96,val_loss : 0.14\n"
     ]
    },
    {
     "name": "stderr",
     "output_type": "stream",
     "text": [
      "100%|██████████| 190/190 [00:04<00:00, 45.68it/s]\n",
      "  1%|          | 2/253 [00:00<00:13, 19.23it/s]"
     ]
    },
    {
     "name": "stdout",
     "output_type": "stream",
     "text": [
      "Namespace(epoch=20, exp_name='exp_hid', hid_dim=4, hid_dim1=3)\n"
     ]
    },
    {
     "name": "stderr",
     "output_type": "stream",
     "text": [
      "100%|██████████| 253/253 [00:09<00:00, 26.97it/s]\n",
      "100%|██████████| 190/190 [00:03<00:00, 54.20it/s]\n",
      "  0%|          | 1/253 [00:00<00:42,  5.99it/s]"
     ]
    },
    {
     "name": "stdout",
     "output_type": "stream",
     "text": [
      "time : 12.89, train_loss : 0.54, train_acc : 66.12,val_acc : 89.87,val_loss : 0.29\n"
     ]
    },
    {
     "name": "stderr",
     "output_type": "stream",
     "text": [
      "100%|██████████| 253/253 [00:09<00:00, 26.30it/s]\n",
      "100%|██████████| 190/190 [00:03<00:00, 49.89it/s]\n",
      "  1%|          | 2/253 [00:00<00:13, 18.71it/s]"
     ]
    },
    {
     "name": "stdout",
     "output_type": "stream",
     "text": [
      "time : 13.43, train_loss : 0.25, train_acc : 91.30,val_acc : 91.80,val_loss : 0.23\n"
     ]
    },
    {
     "name": "stderr",
     "output_type": "stream",
     "text": [
      "100%|██████████| 253/253 [00:09<00:00, 26.59it/s]\n",
      "100%|██████████| 190/190 [00:03<00:00, 53.94it/s]\n",
      "  1%|          | 2/253 [00:00<00:13, 19.12it/s]"
     ]
    },
    {
     "name": "stdout",
     "output_type": "stream",
     "text": [
      "time : 13.04, train_loss : 0.22, train_acc : 92.10,val_acc : 92.21,val_loss : 0.22\n"
     ]
    },
    {
     "name": "stderr",
     "output_type": "stream",
     "text": [
      "100%|██████████| 253/253 [00:09<00:00, 26.67it/s]\n",
      "100%|██████████| 190/190 [00:03<00:00, 54.48it/s]\n",
      "  0%|          | 1/253 [00:00<00:32,  7.72it/s]"
     ]
    },
    {
     "name": "stdout",
     "output_type": "stream",
     "text": [
      "time : 12.97, train_loss : 0.22, train_acc : 92.33,val_acc : 92.35,val_loss : 0.21\n"
     ]
    },
    {
     "name": "stderr",
     "output_type": "stream",
     "text": [
      "100%|██████████| 253/253 [00:09<00:00, 26.12it/s]\n",
      "100%|██████████| 190/190 [00:03<00:00, 53.18it/s]\n",
      "  1%|          | 2/253 [00:00<00:13, 18.98it/s]"
     ]
    },
    {
     "name": "stdout",
     "output_type": "stream",
     "text": [
      "time : 13.26, train_loss : 0.21, train_acc : 92.50,val_acc : 92.46,val_loss : 0.21\n"
     ]
    },
    {
     "name": "stderr",
     "output_type": "stream",
     "text": [
      "100%|██████████| 253/253 [00:09<00:00, 25.83it/s]\n",
      "100%|██████████| 190/190 [00:03<00:00, 54.74it/s]\n",
      "  1%|          | 2/253 [00:00<00:13, 18.84it/s]"
     ]
    },
    {
     "name": "stdout",
     "output_type": "stream",
     "text": [
      "time : 13.27, train_loss : 0.20, train_acc : 92.67,val_acc : 92.71,val_loss : 0.20\n"
     ]
    },
    {
     "name": "stderr",
     "output_type": "stream",
     "text": [
      "100%|██████████| 253/253 [00:09<00:00, 26.90it/s]\n",
      "100%|██████████| 190/190 [00:04<00:00, 47.42it/s]\n",
      "  0%|          | 1/253 [00:00<00:33,  7.62it/s]"
     ]
    },
    {
     "name": "stdout",
     "output_type": "stream",
     "text": [
      "time : 13.42, train_loss : 0.19, train_acc : 92.91,val_acc : 93.01,val_loss : 0.19\n"
     ]
    },
    {
     "name": "stderr",
     "output_type": "stream",
     "text": [
      "100%|██████████| 253/253 [00:09<00:00, 25.89it/s]\n",
      "100%|██████████| 190/190 [00:03<00:00, 56.00it/s]\n",
      "  1%|          | 2/253 [00:00<00:17, 14.73it/s]"
     ]
    },
    {
     "name": "stdout",
     "output_type": "stream",
     "text": [
      "time : 13.17, train_loss : 0.18, train_acc : 93.30,val_acc : 93.54,val_loss : 0.17\n"
     ]
    },
    {
     "name": "stderr",
     "output_type": "stream",
     "text": [
      "100%|██████████| 253/253 [00:09<00:00, 25.50it/s]\n",
      "100%|██████████| 190/190 [00:03<00:00, 52.46it/s]\n",
      "  1%|          | 2/253 [00:00<00:12, 19.49it/s]"
     ]
    },
    {
     "name": "stdout",
     "output_type": "stream",
     "text": [
      "time : 13.55, train_loss : 0.16, train_acc : 94.00,val_acc : 94.31,val_loss : 0.16\n"
     ]
    },
    {
     "name": "stderr",
     "output_type": "stream",
     "text": [
      "100%|██████████| 253/253 [00:09<00:00, 26.57it/s]\n",
      "100%|██████████| 190/190 [00:03<00:00, 52.02it/s]\n",
      "  1%|          | 2/253 [00:00<00:20, 12.32it/s]"
     ]
    },
    {
     "name": "stdout",
     "output_type": "stream",
     "text": [
      "time : 13.18, train_loss : 0.15, train_acc : 94.60,val_acc : 94.74,val_loss : 0.15\n"
     ]
    },
    {
     "name": "stderr",
     "output_type": "stream",
     "text": [
      "100%|██████████| 253/253 [00:09<00:00, 26.82it/s]\n",
      "100%|██████████| 190/190 [00:03<00:00, 54.32it/s]\n",
      "  1%|          | 2/253 [00:00<00:13, 18.28it/s]"
     ]
    },
    {
     "name": "stdout",
     "output_type": "stream",
     "text": [
      "time : 12.93, train_loss : 0.15, train_acc : 94.84,val_acc : 94.87,val_loss : 0.14\n"
     ]
    },
    {
     "name": "stderr",
     "output_type": "stream",
     "text": [
      "100%|██████████| 253/253 [00:09<00:00, 25.58it/s]\n",
      "100%|██████████| 190/190 [00:03<00:00, 52.81it/s]\n",
      "  1%|          | 2/253 [00:00<00:16, 14.97it/s]"
     ]
    },
    {
     "name": "stdout",
     "output_type": "stream",
     "text": [
      "time : 13.49, train_loss : 0.14, train_acc : 94.92,val_acc : 94.90,val_loss : 0.14\n"
     ]
    },
    {
     "name": "stderr",
     "output_type": "stream",
     "text": [
      "100%|██████████| 253/253 [00:09<00:00, 25.72it/s]\n",
      "100%|██████████| 190/190 [00:03<00:00, 54.36it/s]\n",
      "  1%|          | 2/253 [00:00<00:20, 12.14it/s]"
     ]
    },
    {
     "name": "stdout",
     "output_type": "stream",
     "text": [
      "time : 13.34, train_loss : 0.14, train_acc : 94.95,val_acc : 94.90,val_loss : 0.14\n"
     ]
    },
    {
     "name": "stderr",
     "output_type": "stream",
     "text": [
      "100%|██████████| 253/253 [00:09<00:00, 25.84it/s]\n",
      "100%|██████████| 190/190 [00:03<00:00, 53.47it/s]\n",
      "  1%|          | 2/253 [00:00<00:15, 15.79it/s]"
     ]
    },
    {
     "name": "stdout",
     "output_type": "stream",
     "text": [
      "time : 13.35, train_loss : 0.14, train_acc : 94.96,val_acc : 94.89,val_loss : 0.14\n"
     ]
    },
    {
     "name": "stderr",
     "output_type": "stream",
     "text": [
      "100%|██████████| 253/253 [00:09<00:00, 26.62it/s]\n",
      "100%|██████████| 190/190 [00:03<00:00, 54.26it/s]\n",
      "  1%|          | 2/253 [00:00<00:16, 14.78it/s]"
     ]
    },
    {
     "name": "stdout",
     "output_type": "stream",
     "text": [
      "time : 13.01, train_loss : 0.14, train_acc : 94.96,val_acc : 94.94,val_loss : 0.14\n"
     ]
    },
    {
     "name": "stderr",
     "output_type": "stream",
     "text": [
      "100%|██████████| 253/253 [00:09<00:00, 26.06it/s]\n",
      "100%|██████████| 190/190 [00:03<00:00, 54.22it/s]\n",
      "  1%|          | 2/253 [00:00<00:20, 12.15it/s]"
     ]
    },
    {
     "name": "stdout",
     "output_type": "stream",
     "text": [
      "time : 13.22, train_loss : 0.14, train_acc : 94.96,val_acc : 94.93,val_loss : 0.14\n"
     ]
    },
    {
     "name": "stderr",
     "output_type": "stream",
     "text": [
      "100%|██████████| 253/253 [00:09<00:00, 26.57it/s]\n",
      "100%|██████████| 190/190 [00:03<00:00, 54.18it/s]\n",
      "  1%|          | 2/253 [00:00<00:13, 18.75it/s]"
     ]
    },
    {
     "name": "stdout",
     "output_type": "stream",
     "text": [
      "time : 13.03, train_loss : 0.14, train_acc : 94.96,val_acc : 94.92,val_loss : 0.14\n"
     ]
    },
    {
     "name": "stderr",
     "output_type": "stream",
     "text": [
      "100%|██████████| 253/253 [00:09<00:00, 26.37it/s]\n",
      "100%|██████████| 190/190 [00:03<00:00, 55.06it/s]\n",
      "  1%|          | 2/253 [00:00<00:15, 15.94it/s]"
     ]
    },
    {
     "name": "stdout",
     "output_type": "stream",
     "text": [
      "time : 13.05, train_loss : 0.14, train_acc : 94.97,val_acc : 94.92,val_loss : 0.14\n"
     ]
    },
    {
     "name": "stderr",
     "output_type": "stream",
     "text": [
      "100%|██████████| 253/253 [00:09<00:00, 26.86it/s]\n",
      "100%|██████████| 190/190 [00:03<00:00, 53.38it/s]\n",
      "  1%|          | 2/253 [00:00<00:23, 10.60it/s]"
     ]
    },
    {
     "name": "stdout",
     "output_type": "stream",
     "text": [
      "time : 12.98, train_loss : 0.14, train_acc : 94.97,val_acc : 94.92,val_loss : 0.14\n"
     ]
    },
    {
     "name": "stderr",
     "output_type": "stream",
     "text": [
      "100%|██████████| 253/253 [00:09<00:00, 26.61it/s]\n",
      "100%|██████████| 190/190 [00:03<00:00, 55.21it/s]\n",
      "  0%|          | 0/190 [00:00<?, ?it/s]"
     ]
    },
    {
     "name": "stdout",
     "output_type": "stream",
     "text": [
      "time : 12.95, train_loss : 0.14, train_acc : 94.98,val_acc : 94.95,val_loss : 0.14\n"
     ]
    },
    {
     "name": "stderr",
     "output_type": "stream",
     "text": [
      "100%|██████████| 190/190 [00:03<00:00, 50.72it/s]\n",
      "  1%|          | 2/253 [00:00<00:16, 15.30it/s]"
     ]
    },
    {
     "name": "stdout",
     "output_type": "stream",
     "text": [
      "Namespace(epoch=20, exp_name='exp_hid', hid_dim=4, hid_dim1=4)\n"
     ]
    },
    {
     "name": "stderr",
     "output_type": "stream",
     "text": [
      "100%|██████████| 253/253 [00:09<00:00, 26.21it/s]\n",
      "100%|██████████| 190/190 [00:03<00:00, 54.90it/s]\n",
      "  1%|          | 2/253 [00:00<00:14, 17.12it/s]"
     ]
    },
    {
     "name": "stdout",
     "output_type": "stream",
     "text": [
      "time : 13.12, train_loss : 0.56, train_acc : 66.34,val_acc : 85.77,val_loss : 0.38\n"
     ]
    },
    {
     "name": "stderr",
     "output_type": "stream",
     "text": [
      "100%|██████████| 253/253 [00:09<00:00, 26.83it/s]\n",
      "100%|██████████| 190/190 [00:03<00:00, 54.40it/s]\n",
      "  1%|          | 2/253 [00:00<00:24, 10.36it/s]"
     ]
    },
    {
     "name": "stdout",
     "output_type": "stream",
     "text": [
      "time : 12.93, train_loss : 0.29, train_acc : 90.67,val_acc : 92.66,val_loss : 0.23\n"
     ]
    },
    {
     "name": "stderr",
     "output_type": "stream",
     "text": [
      "100%|██████████| 253/253 [00:09<00:00, 26.31it/s]\n",
      "100%|██████████| 190/190 [00:03<00:00, 54.12it/s]\n",
      "  1%|          | 2/253 [00:00<00:16, 15.33it/s]"
     ]
    },
    {
     "name": "stdout",
     "output_type": "stream",
     "text": [
      "time : 13.13, train_loss : 0.21, train_acc : 93.03,val_acc : 93.27,val_loss : 0.20\n"
     ]
    },
    {
     "name": "stderr",
     "output_type": "stream",
     "text": [
      "100%|██████████| 253/253 [00:09<00:00, 25.97it/s]\n",
      "100%|██████████| 190/190 [00:03<00:00, 54.71it/s]\n",
      "  0%|          | 1/253 [00:00<00:32,  7.69it/s]"
     ]
    },
    {
     "name": "stdout",
     "output_type": "stream",
     "text": [
      "time : 13.22, train_loss : 0.19, train_acc : 93.58,val_acc : 93.79,val_loss : 0.18\n"
     ]
    },
    {
     "name": "stderr",
     "output_type": "stream",
     "text": [
      "100%|██████████| 253/253 [00:09<00:00, 26.23it/s]\n",
      "100%|██████████| 190/190 [00:03<00:00, 53.24it/s]\n",
      "  1%|          | 2/253 [00:00<00:16, 15.29it/s]"
     ]
    },
    {
     "name": "stdout",
     "output_type": "stream",
     "text": [
      "time : 13.22, train_loss : 0.17, train_acc : 94.09,val_acc : 94.33,val_loss : 0.16\n"
     ]
    },
    {
     "name": "stderr",
     "output_type": "stream",
     "text": [
      "100%|██████████| 253/253 [00:09<00:00, 26.35it/s]\n",
      "100%|██████████| 190/190 [00:03<00:00, 54.95it/s]\n",
      "  1%|          | 2/253 [00:00<00:13, 18.59it/s]"
     ]
    },
    {
     "name": "stdout",
     "output_type": "stream",
     "text": [
      "time : 13.06, train_loss : 0.16, train_acc : 94.55,val_acc : 94.74,val_loss : 0.15\n"
     ]
    },
    {
     "name": "stderr",
     "output_type": "stream",
     "text": [
      "100%|██████████| 253/253 [00:09<00:00, 26.03it/s]\n",
      "100%|██████████| 190/190 [00:03<00:00, 52.47it/s]\n",
      "  0%|          | 1/253 [00:00<00:32,  7.66it/s]"
     ]
    },
    {
     "name": "stdout",
     "output_type": "stream",
     "text": [
      "time : 13.34, train_loss : 0.15, train_acc : 94.91,val_acc : 95.00,val_loss : 0.15\n"
     ]
    },
    {
     "name": "stderr",
     "output_type": "stream",
     "text": [
      "100%|██████████| 253/253 [00:09<00:00, 26.37it/s]\n",
      "100%|██████████| 190/190 [00:03<00:00, 52.51it/s]\n",
      "  1%|          | 2/253 [00:00<00:14, 17.00it/s]"
     ]
    },
    {
     "name": "stdout",
     "output_type": "stream",
     "text": [
      "time : 13.21, train_loss : 0.14, train_acc : 95.11,val_acc : 95.14,val_loss : 0.14\n"
     ]
    },
    {
     "name": "stderr",
     "output_type": "stream",
     "text": [
      "100%|██████████| 253/253 [00:09<00:00, 26.48it/s]\n",
      "100%|██████████| 190/190 [00:03<00:00, 52.22it/s]\n",
      "  1%|          | 2/253 [00:00<00:16, 15.37it/s]"
     ]
    },
    {
     "name": "stdout",
     "output_type": "stream",
     "text": [
      "time : 13.19, train_loss : 0.14, train_acc : 95.23,val_acc : 95.27,val_loss : 0.13\n"
     ]
    },
    {
     "name": "stderr",
     "output_type": "stream",
     "text": [
      "100%|██████████| 253/253 [00:09<00:00, 26.08it/s]\n",
      "100%|██████████| 190/190 [00:03<00:00, 53.94it/s]\n",
      "  0%|          | 1/253 [00:00<00:34,  7.34it/s]"
     ]
    },
    {
     "name": "stdout",
     "output_type": "stream",
     "text": [
      "time : 13.22, train_loss : 0.13, train_acc : 95.37,val_acc : 95.47,val_loss : 0.13\n"
     ]
    },
    {
     "name": "stderr",
     "output_type": "stream",
     "text": [
      "100%|██████████| 253/253 [00:09<00:00, 26.81it/s]\n",
      "100%|██████████| 190/190 [00:03<00:00, 55.40it/s]\n",
      "  1%|          | 2/253 [00:00<00:17, 14.72it/s]"
     ]
    },
    {
     "name": "stdout",
     "output_type": "stream",
     "text": [
      "time : 12.87, train_loss : 0.13, train_acc : 95.50,val_acc : 95.52,val_loss : 0.13\n"
     ]
    },
    {
     "name": "stderr",
     "output_type": "stream",
     "text": [
      "100%|██████████| 253/253 [00:09<00:00, 25.98it/s]\n",
      "100%|██████████| 190/190 [00:03<00:00, 56.08it/s]\n",
      "  1%|          | 2/253 [00:00<00:13, 18.75it/s]"
     ]
    },
    {
     "name": "stdout",
     "output_type": "stream",
     "text": [
      "time : 13.13, train_loss : 0.13, train_acc : 95.54,val_acc : 95.56,val_loss : 0.13\n"
     ]
    },
    {
     "name": "stderr",
     "output_type": "stream",
     "text": [
      "100%|██████████| 253/253 [00:09<00:00, 25.98it/s]\n",
      "100%|██████████| 190/190 [00:03<00:00, 52.36it/s]\n",
      "  0%|          | 1/253 [00:00<00:41,  6.05it/s]"
     ]
    },
    {
     "name": "stdout",
     "output_type": "stream",
     "text": [
      "time : 13.37, train_loss : 0.12, train_acc : 95.58,val_acc : 95.59,val_loss : 0.12\n"
     ]
    },
    {
     "name": "stderr",
     "output_type": "stream",
     "text": [
      "100%|██████████| 253/253 [00:09<00:00, 26.34it/s]\n",
      "100%|██████████| 190/190 [00:03<00:00, 55.07it/s]\n",
      "  1%|          | 2/253 [00:00<00:14, 17.20it/s]"
     ]
    },
    {
     "name": "stdout",
     "output_type": "stream",
     "text": [
      "time : 13.06, train_loss : 0.12, train_acc : 95.60,val_acc : 95.61,val_loss : 0.12\n"
     ]
    },
    {
     "name": "stderr",
     "output_type": "stream",
     "text": [
      "100%|██████████| 253/253 [00:09<00:00, 26.59it/s]\n",
      "100%|██████████| 190/190 [00:03<00:00, 55.41it/s]\n",
      "  1%|          | 2/253 [00:00<00:15, 16.65it/s]"
     ]
    },
    {
     "name": "stdout",
     "output_type": "stream",
     "text": [
      "time : 12.95, train_loss : 0.12, train_acc : 95.61,val_acc : 95.60,val_loss : 0.12\n"
     ]
    },
    {
     "name": "stderr",
     "output_type": "stream",
     "text": [
      "100%|██████████| 253/253 [00:09<00:00, 25.97it/s]\n",
      "100%|██████████| 190/190 [00:03<00:00, 55.03it/s]\n",
      "  0%|          | 1/253 [00:00<00:33,  7.46it/s]"
     ]
    },
    {
     "name": "stdout",
     "output_type": "stream",
     "text": [
      "time : 13.20, train_loss : 0.12, train_acc : 95.61,val_acc : 95.61,val_loss : 0.12\n"
     ]
    },
    {
     "name": "stderr",
     "output_type": "stream",
     "text": [
      "100%|██████████| 253/253 [00:09<00:00, 26.72it/s]\n",
      "100%|██████████| 190/190 [00:03<00:00, 56.08it/s]\n",
      "  1%|          | 2/253 [00:00<00:13, 19.12it/s]"
     ]
    },
    {
     "name": "stdout",
     "output_type": "stream",
     "text": [
      "time : 12.86, train_loss : 0.12, train_acc : 95.62,val_acc : 95.60,val_loss : 0.12\n"
     ]
    },
    {
     "name": "stderr",
     "output_type": "stream",
     "text": [
      "100%|██████████| 253/253 [00:09<00:00, 26.31it/s]\n",
      "100%|██████████| 190/190 [00:03<00:00, 50.54it/s]\n",
      "  1%|          | 2/253 [00:00<00:16, 14.87it/s]"
     ]
    },
    {
     "name": "stdout",
     "output_type": "stream",
     "text": [
      "time : 13.38, train_loss : 0.12, train_acc : 95.62,val_acc : 95.58,val_loss : 0.12\n"
     ]
    },
    {
     "name": "stderr",
     "output_type": "stream",
     "text": [
      "100%|██████████| 253/253 [00:09<00:00, 25.64it/s]\n",
      "100%|██████████| 190/190 [00:03<00:00, 51.46it/s]\n",
      "  1%|          | 2/253 [00:00<00:24, 10.41it/s]"
     ]
    },
    {
     "name": "stdout",
     "output_type": "stream",
     "text": [
      "time : 13.56, train_loss : 0.12, train_acc : 95.63,val_acc : 95.60,val_loss : 0.12\n"
     ]
    },
    {
     "name": "stderr",
     "output_type": "stream",
     "text": [
      "100%|██████████| 253/253 [00:09<00:00, 26.63it/s]\n",
      "100%|██████████| 190/190 [00:03<00:00, 55.70it/s]\n",
      "  0%|          | 0/190 [00:00<?, ?it/s]"
     ]
    },
    {
     "name": "stdout",
     "output_type": "stream",
     "text": [
      "time : 12.91, train_loss : 0.12, train_acc : 95.63,val_acc : 95.62,val_loss : 0.12\n"
     ]
    },
    {
     "name": "stderr",
     "output_type": "stream",
     "text": [
      "100%|██████████| 190/190 [00:03<00:00, 52.72it/s]\n",
      "  1%|          | 2/253 [00:00<00:15, 15.74it/s]"
     ]
    },
    {
     "name": "stdout",
     "output_type": "stream",
     "text": [
      "Namespace(epoch=20, exp_name='exp_hid', hid_dim=4, hid_dim1=5)\n"
     ]
    },
    {
     "name": "stderr",
     "output_type": "stream",
     "text": [
      "100%|██████████| 253/253 [00:09<00:00, 26.54it/s]\n",
      "100%|██████████| 190/190 [00:03<00:00, 53.79it/s]\n",
      "  1%|          | 2/253 [00:00<00:13, 18.01it/s]"
     ]
    },
    {
     "name": "stdout",
     "output_type": "stream",
     "text": [
      "time : 13.07, train_loss : 0.55, train_acc : 68.67,val_acc : 86.13,val_loss : 0.38\n"
     ]
    },
    {
     "name": "stderr",
     "output_type": "stream",
     "text": [
      "100%|██████████| 253/253 [00:09<00:00, 25.72it/s]\n",
      "100%|██████████| 190/190 [00:03<00:00, 53.62it/s]\n",
      "  1%|          | 2/253 [00:00<00:23, 10.61it/s]"
     ]
    },
    {
     "name": "stdout",
     "output_type": "stream",
     "text": [
      "time : 13.38, train_loss : 0.28, train_acc : 90.68,val_acc : 92.56,val_loss : 0.23\n"
     ]
    },
    {
     "name": "stderr",
     "output_type": "stream",
     "text": [
      "100%|██████████| 253/253 [00:09<00:00, 25.83it/s]\n",
      "100%|██████████| 190/190 [00:03<00:00, 54.11it/s]\n",
      "  1%|          | 2/253 [00:00<00:13, 18.80it/s]"
     ]
    },
    {
     "name": "stdout",
     "output_type": "stream",
     "text": [
      "time : 13.31, train_loss : 0.21, train_acc : 93.09,val_acc : 93.35,val_loss : 0.19\n"
     ]
    },
    {
     "name": "stderr",
     "output_type": "stream",
     "text": [
      "100%|██████████| 253/253 [00:09<00:00, 26.50it/s]\n",
      "100%|██████████| 190/190 [00:03<00:00, 55.49it/s]\n",
      "  1%|          | 2/253 [00:00<00:13, 18.79it/s]"
     ]
    },
    {
     "name": "stdout",
     "output_type": "stream",
     "text": [
      "time : 12.97, train_loss : 0.18, train_acc : 93.61,val_acc : 93.78,val_loss : 0.18\n"
     ]
    },
    {
     "name": "stderr",
     "output_type": "stream",
     "text": [
      "100%|██████████| 253/253 [00:09<00:00, 25.71it/s]\n",
      "100%|██████████| 190/190 [00:03<00:00, 54.28it/s]\n",
      "  1%|          | 2/253 [00:00<00:24, 10.05it/s]"
     ]
    },
    {
     "name": "stdout",
     "output_type": "stream",
     "text": [
      "time : 13.34, train_loss : 0.17, train_acc : 93.99,val_acc : 94.07,val_loss : 0.17\n"
     ]
    },
    {
     "name": "stderr",
     "output_type": "stream",
     "text": [
      "100%|██████████| 253/253 [00:09<00:00, 26.45it/s]\n",
      "100%|██████████| 190/190 [00:03<00:00, 55.79it/s]\n",
      "  1%|          | 2/253 [00:00<00:16, 15.18it/s]"
     ]
    },
    {
     "name": "stdout",
     "output_type": "stream",
     "text": [
      "time : 12.97, train_loss : 0.16, train_acc : 94.22,val_acc : 94.26,val_loss : 0.16\n"
     ]
    },
    {
     "name": "stderr",
     "output_type": "stream",
     "text": [
      "100%|██████████| 253/253 [00:09<00:00, 26.66it/s]\n",
      "100%|██████████| 190/190 [00:03<00:00, 52.74it/s]\n",
      "  1%|          | 2/253 [00:00<00:13, 19.13it/s]"
     ]
    },
    {
     "name": "stdout",
     "output_type": "stream",
     "text": [
      "time : 13.09, train_loss : 0.15, train_acc : 94.43,val_acc : 94.49,val_loss : 0.15\n"
     ]
    },
    {
     "name": "stderr",
     "output_type": "stream",
     "text": [
      "100%|██████████| 253/253 [00:09<00:00, 26.83it/s]\n",
      "100%|██████████| 190/190 [00:03<00:00, 51.42it/s]\n",
      "  1%|          | 2/253 [00:00<00:20, 12.28it/s]"
     ]
    },
    {
     "name": "stdout",
     "output_type": "stream",
     "text": [
      "time : 13.13, train_loss : 0.15, train_acc : 94.69,val_acc : 94.75,val_loss : 0.14\n"
     ]
    },
    {
     "name": "stderr",
     "output_type": "stream",
     "text": [
      "100%|██████████| 253/253 [00:09<00:00, 26.41it/s]\n",
      "100%|██████████| 190/190 [00:03<00:00, 54.33it/s]\n",
      "  1%|          | 2/253 [00:00<00:14, 17.71it/s]"
     ]
    },
    {
     "name": "stdout",
     "output_type": "stream",
     "text": [
      "time : 13.08, train_loss : 0.14, train_acc : 94.92,val_acc : 94.93,val_loss : 0.14\n"
     ]
    },
    {
     "name": "stderr",
     "output_type": "stream",
     "text": [
      "100%|██████████| 253/253 [00:09<00:00, 26.02it/s]\n",
      "100%|██████████| 190/190 [00:03<00:00, 51.19it/s]\n",
      "  0%|          | 1/253 [00:00<00:33,  7.43it/s]"
     ]
    },
    {
     "name": "stdout",
     "output_type": "stream",
     "text": [
      "time : 13.44, train_loss : 0.14, train_acc : 95.03,val_acc : 95.00,val_loss : 0.14\n"
     ]
    },
    {
     "name": "stderr",
     "output_type": "stream",
     "text": [
      "100%|██████████| 253/253 [00:09<00:00, 26.00it/s]\n",
      "100%|██████████| 190/190 [00:03<00:00, 49.24it/s]\n",
      "  1%|          | 2/253 [00:00<00:13, 18.88it/s]"
     ]
    },
    {
     "name": "stdout",
     "output_type": "stream",
     "text": [
      "time : 13.59, train_loss : 0.14, train_acc : 95.09,val_acc : 95.05,val_loss : 0.14\n"
     ]
    },
    {
     "name": "stderr",
     "output_type": "stream",
     "text": [
      "100%|██████████| 253/253 [00:09<00:00, 25.91it/s]\n",
      "100%|██████████| 190/190 [00:03<00:00, 54.67it/s]\n",
      "  1%|          | 2/253 [00:00<00:13, 18.97it/s]"
     ]
    },
    {
     "name": "stdout",
     "output_type": "stream",
     "text": [
      "time : 13.24, train_loss : 0.13, train_acc : 95.12,val_acc : 95.08,val_loss : 0.13\n"
     ]
    },
    {
     "name": "stderr",
     "output_type": "stream",
     "text": [
      "100%|██████████| 253/253 [00:09<00:00, 26.85it/s]\n",
      "100%|██████████| 190/190 [00:03<00:00, 54.69it/s]\n",
      "  0%|          | 1/253 [00:00<00:37,  6.76it/s]"
     ]
    },
    {
     "name": "stdout",
     "output_type": "stream",
     "text": [
      "time : 12.90, train_loss : 0.13, train_acc : 95.15,val_acc : 95.12,val_loss : 0.13\n"
     ]
    },
    {
     "name": "stderr",
     "output_type": "stream",
     "text": [
      "100%|██████████| 253/253 [00:09<00:00, 25.84it/s]\n",
      "100%|██████████| 190/190 [00:03<00:00, 55.55it/s]\n",
      "  1%|          | 2/253 [00:00<00:13, 19.30it/s]"
     ]
    },
    {
     "name": "stdout",
     "output_type": "stream",
     "text": [
      "time : 13.21, train_loss : 0.13, train_acc : 95.18,val_acc : 95.14,val_loss : 0.13\n"
     ]
    },
    {
     "name": "stderr",
     "output_type": "stream",
     "text": [
      "100%|██████████| 253/253 [00:09<00:00, 26.64it/s]\n",
      "100%|██████████| 190/190 [00:03<00:00, 53.79it/s]\n",
      "  1%|          | 2/253 [00:00<00:16, 15.01it/s]"
     ]
    },
    {
     "name": "stdout",
     "output_type": "stream",
     "text": [
      "time : 13.03, train_loss : 0.13, train_acc : 95.20,val_acc : 95.19,val_loss : 0.13\n"
     ]
    },
    {
     "name": "stderr",
     "output_type": "stream",
     "text": [
      "100%|██████████| 253/253 [00:09<00:00, 26.65it/s]\n",
      "100%|██████████| 190/190 [00:04<00:00, 46.90it/s]\n",
      "  0%|          | 1/253 [00:00<00:35,  7.07it/s]"
     ]
    },
    {
     "name": "stdout",
     "output_type": "stream",
     "text": [
      "time : 13.55, train_loss : 0.13, train_acc : 95.24,val_acc : 95.23,val_loss : 0.13\n"
     ]
    },
    {
     "name": "stderr",
     "output_type": "stream",
     "text": [
      "100%|██████████| 253/253 [00:09<00:00, 25.93it/s]\n",
      "100%|██████████| 190/190 [00:03<00:00, 54.51it/s]\n",
      "  1%|          | 2/253 [00:00<00:13, 19.01it/s]"
     ]
    },
    {
     "name": "stdout",
     "output_type": "stream",
     "text": [
      "time : 13.24, train_loss : 0.13, train_acc : 95.27,val_acc : 95.24,val_loss : 0.13\n"
     ]
    },
    {
     "name": "stderr",
     "output_type": "stream",
     "text": [
      "100%|██████████| 253/253 [00:09<00:00, 26.55it/s]\n",
      "100%|██████████| 190/190 [00:03<00:00, 55.13it/s]\n",
      "  1%|          | 2/253 [00:00<00:13, 19.28it/s]"
     ]
    },
    {
     "name": "stdout",
     "output_type": "stream",
     "text": [
      "time : 12.98, train_loss : 0.13, train_acc : 95.30,val_acc : 95.25,val_loss : 0.13\n"
     ]
    },
    {
     "name": "stderr",
     "output_type": "stream",
     "text": [
      "100%|██████████| 253/253 [00:09<00:00, 26.69it/s]\n",
      "100%|██████████| 190/190 [00:03<00:00, 50.21it/s]\n",
      "  0%|          | 1/253 [00:00<00:38,  6.48it/s]"
     ]
    },
    {
     "name": "stdout",
     "output_type": "stream",
     "text": [
      "time : 13.26, train_loss : 0.13, train_acc : 95.32,val_acc : 95.28,val_loss : 0.13\n"
     ]
    },
    {
     "name": "stderr",
     "output_type": "stream",
     "text": [
      "100%|██████████| 253/253 [00:09<00:00, 25.82it/s]\n",
      "100%|██████████| 190/190 [00:03<00:00, 51.37it/s]\n",
      "  0%|          | 0/190 [00:00<?, ?it/s]"
     ]
    },
    {
     "name": "stdout",
     "output_type": "stream",
     "text": [
      "time : 13.50, train_loss : 0.13, train_acc : 95.34,val_acc : 95.31,val_loss : 0.13\n"
     ]
    },
    {
     "name": "stderr",
     "output_type": "stream",
     "text": [
      "100%|██████████| 190/190 [00:03<00:00, 48.21it/s]\n",
      "  1%|          | 2/253 [00:00<00:16, 15.00it/s]"
     ]
    },
    {
     "name": "stdout",
     "output_type": "stream",
     "text": [
      "Namespace(epoch=20, exp_name='exp_hid', hid_dim=4, hid_dim1=6)\n"
     ]
    },
    {
     "name": "stderr",
     "output_type": "stream",
     "text": [
      "100%|██████████| 253/253 [00:09<00:00, 25.66it/s]\n",
      "100%|██████████| 190/190 [00:03<00:00, 49.10it/s]\n",
      "  1%|          | 2/253 [00:00<00:13, 18.89it/s]"
     ]
    },
    {
     "name": "stdout",
     "output_type": "stream",
     "text": [
      "time : 13.73, train_loss : 0.54, train_acc : 69.33,val_acc : 88.66,val_loss : 0.34\n"
     ]
    },
    {
     "name": "stderr",
     "output_type": "stream",
     "text": [
      "100%|██████████| 253/253 [00:09<00:00, 26.51it/s]\n",
      "100%|██████████| 190/190 [00:03<00:00, 55.18it/s]\n",
      "  0%|          | 1/253 [00:00<00:36,  6.87it/s]"
     ]
    },
    {
     "name": "stdout",
     "output_type": "stream",
     "text": [
      "time : 12.99, train_loss : 0.24, train_acc : 91.91,val_acc : 92.98,val_loss : 0.19\n"
     ]
    },
    {
     "name": "stderr",
     "output_type": "stream",
     "text": [
      "100%|██████████| 253/253 [00:09<00:00, 26.53it/s]\n",
      "100%|██████████| 190/190 [00:03<00:00, 55.02it/s]\n",
      "  1%|          | 2/253 [00:00<00:16, 15.26it/s]"
     ]
    },
    {
     "name": "stdout",
     "output_type": "stream",
     "text": [
      "time : 12.99, train_loss : 0.18, train_acc : 93.39,val_acc : 93.66,val_loss : 0.17\n"
     ]
    },
    {
     "name": "stderr",
     "output_type": "stream",
     "text": [
      "100%|██████████| 253/253 [00:09<00:00, 25.71it/s]\n",
      "100%|██████████| 190/190 [00:03<00:00, 55.10it/s]\n",
      "  1%|          | 2/253 [00:00<00:17, 14.64it/s]"
     ]
    },
    {
     "name": "stdout",
     "output_type": "stream",
     "text": [
      "time : 13.29, train_loss : 0.16, train_acc : 93.96,val_acc : 94.16,val_loss : 0.16\n"
     ]
    },
    {
     "name": "stderr",
     "output_type": "stream",
     "text": [
      "100%|██████████| 253/253 [00:09<00:00, 25.89it/s]\n",
      "100%|██████████| 190/190 [00:03<00:00, 51.16it/s]\n",
      "  1%|          | 2/253 [00:00<00:20, 12.49it/s]"
     ]
    },
    {
     "name": "stdout",
     "output_type": "stream",
     "text": [
      "time : 13.49, train_loss : 0.15, train_acc : 94.41,val_acc : 94.55,val_loss : 0.15\n"
     ]
    },
    {
     "name": "stderr",
     "output_type": "stream",
     "text": [
      "100%|██████████| 253/253 [00:09<00:00, 26.64it/s]\n",
      "100%|██████████| 190/190 [00:03<00:00, 53.70it/s]\n",
      "  1%|          | 2/253 [00:00<00:12, 19.32it/s]"
     ]
    },
    {
     "name": "stdout",
     "output_type": "stream",
     "text": [
      "time : 13.04, train_loss : 0.15, train_acc : 94.67,val_acc : 94.71,val_loss : 0.14\n"
     ]
    },
    {
     "name": "stderr",
     "output_type": "stream",
     "text": [
      "100%|██████████| 253/253 [00:09<00:00, 26.70it/s]\n",
      "100%|██████████| 190/190 [00:03<00:00, 55.21it/s]\n",
      "  1%|          | 2/253 [00:00<00:14, 17.01it/s]"
     ]
    },
    {
     "name": "stdout",
     "output_type": "stream",
     "text": [
      "time : 12.92, train_loss : 0.14, train_acc : 94.82,val_acc : 94.82,val_loss : 0.14\n"
     ]
    },
    {
     "name": "stderr",
     "output_type": "stream",
     "text": [
      "100%|██████████| 253/253 [00:09<00:00, 26.83it/s]\n",
      "100%|██████████| 190/190 [00:03<00:00, 53.56it/s]\n",
      "  1%|          | 2/253 [00:00<00:21, 11.73it/s]"
     ]
    },
    {
     "name": "stdout",
     "output_type": "stream",
     "text": [
      "time : 12.98, train_loss : 0.14, train_acc : 94.91,val_acc : 94.89,val_loss : 0.14\n"
     ]
    },
    {
     "name": "stderr",
     "output_type": "stream",
     "text": [
      "100%|██████████| 253/253 [00:09<00:00, 25.60it/s]\n",
      "100%|██████████| 190/190 [00:03<00:00, 54.42it/s]\n",
      "  1%|          | 2/253 [00:00<00:14, 17.69it/s]"
     ]
    },
    {
     "name": "stdout",
     "output_type": "stream",
     "text": [
      "time : 13.38, train_loss : 0.14, train_acc : 94.98,val_acc : 94.93,val_loss : 0.14\n"
     ]
    },
    {
     "name": "stderr",
     "output_type": "stream",
     "text": [
      "100%|██████████| 253/253 [00:09<00:00, 26.64it/s]\n",
      "100%|██████████| 190/190 [00:03<00:00, 55.46it/s]\n",
      "  1%|          | 2/253 [00:00<00:12, 19.49it/s]"
     ]
    },
    {
     "name": "stdout",
     "output_type": "stream",
     "text": [
      "time : 12.92, train_loss : 0.14, train_acc : 95.04,val_acc : 94.96,val_loss : 0.14\n"
     ]
    },
    {
     "name": "stderr",
     "output_type": "stream",
     "text": [
      "100%|██████████| 253/253 [00:09<00:00, 26.76it/s]\n",
      "100%|██████████| 190/190 [00:03<00:00, 47.77it/s]\n",
      "  0%|          | 0/253 [00:00<?, ?it/s]"
     ]
    },
    {
     "name": "stdout",
     "output_type": "stream",
     "text": [
      "time : 13.43, train_loss : 0.14, train_acc : 95.06,val_acc : 95.00,val_loss : 0.14\n"
     ]
    },
    {
     "name": "stderr",
     "output_type": "stream",
     "text": [
      "100%|██████████| 253/253 [00:09<00:00, 25.83it/s]\n",
      "100%|██████████| 190/190 [00:03<00:00, 55.80it/s]\n",
      "  1%|          | 2/253 [00:00<00:16, 14.91it/s]"
     ]
    },
    {
     "name": "stdout",
     "output_type": "stream",
     "text": [
      "time : 13.20, train_loss : 0.14, train_acc : 95.08,val_acc : 95.02,val_loss : 0.14\n"
     ]
    },
    {
     "name": "stderr",
     "output_type": "stream",
     "text": [
      "100%|██████████| 253/253 [00:09<00:00, 25.77it/s]\n",
      "100%|██████████| 190/190 [00:03<00:00, 56.02it/s]\n",
      "  1%|          | 2/253 [00:00<00:16, 14.90it/s]"
     ]
    },
    {
     "name": "stdout",
     "output_type": "stream",
     "text": [
      "time : 13.21, train_loss : 0.13, train_acc : 95.09,val_acc : 95.06,val_loss : 0.13\n"
     ]
    },
    {
     "name": "stderr",
     "output_type": "stream",
     "text": [
      "100%|██████████| 253/253 [00:09<00:00, 26.40it/s]\n",
      "100%|██████████| 190/190 [00:03<00:00, 54.54it/s]\n",
      "  1%|          | 2/253 [00:00<00:24, 10.42it/s]"
     ]
    },
    {
     "name": "stdout",
     "output_type": "stream",
     "text": [
      "time : 13.07, train_loss : 0.13, train_acc : 95.11,val_acc : 95.06,val_loss : 0.13\n"
     ]
    },
    {
     "name": "stderr",
     "output_type": "stream",
     "text": [
      "100%|██████████| 253/253 [00:09<00:00, 25.51it/s]\n",
      "100%|██████████| 190/190 [00:03<00:00, 56.65it/s]\n",
      "  1%|          | 2/253 [00:00<00:16, 15.24it/s]"
     ]
    },
    {
     "name": "stdout",
     "output_type": "stream",
     "text": [
      "time : 13.28, train_loss : 0.13, train_acc : 95.12,val_acc : 95.08,val_loss : 0.13\n"
     ]
    },
    {
     "name": "stderr",
     "output_type": "stream",
     "text": [
      "100%|██████████| 253/253 [00:09<00:00, 25.95it/s]\n",
      "100%|██████████| 190/190 [00:03<00:00, 53.45it/s]\n",
      "  0%|          | 1/253 [00:00<00:38,  6.63it/s]"
     ]
    },
    {
     "name": "stdout",
     "output_type": "stream",
     "text": [
      "time : 13.31, train_loss : 0.13, train_acc : 95.13,val_acc : 95.07,val_loss : 0.13\n"
     ]
    },
    {
     "name": "stderr",
     "output_type": "stream",
     "text": [
      "100%|██████████| 253/253 [00:09<00:00, 26.61it/s]\n",
      "100%|██████████| 190/190 [00:03<00:00, 51.77it/s]\n",
      "  1%|          | 2/253 [00:00<00:13, 19.08it/s]"
     ]
    },
    {
     "name": "stdout",
     "output_type": "stream",
     "text": [
      "time : 13.18, train_loss : 0.13, train_acc : 95.13,val_acc : 95.09,val_loss : 0.13\n"
     ]
    },
    {
     "name": "stderr",
     "output_type": "stream",
     "text": [
      "100%|██████████| 253/253 [00:09<00:00, 25.83it/s]\n",
      "100%|██████████| 190/190 [00:03<00:00, 52.52it/s]\n",
      "  1%|          | 2/253 [00:00<00:13, 18.73it/s]"
     ]
    },
    {
     "name": "stdout",
     "output_type": "stream",
     "text": [
      "time : 13.41, train_loss : 0.13, train_acc : 95.13,val_acc : 95.09,val_loss : 0.13\n"
     ]
    },
    {
     "name": "stderr",
     "output_type": "stream",
     "text": [
      "100%|██████████| 253/253 [00:09<00:00, 26.46it/s]\n",
      "100%|██████████| 190/190 [00:03<00:00, 54.05it/s]\n",
      "  0%|          | 1/253 [00:00<00:34,  7.25it/s]"
     ]
    },
    {
     "name": "stdout",
     "output_type": "stream",
     "text": [
      "time : 13.08, train_loss : 0.13, train_acc : 95.18,val_acc : 95.17,val_loss : 0.13\n"
     ]
    },
    {
     "name": "stderr",
     "output_type": "stream",
     "text": [
      "100%|██████████| 253/253 [00:09<00:00, 25.87it/s]\n",
      "100%|██████████| 190/190 [00:03<00:00, 54.83it/s]\n",
      "  0%|          | 0/190 [00:00<?, ?it/s]"
     ]
    },
    {
     "name": "stdout",
     "output_type": "stream",
     "text": [
      "time : 13.25, train_loss : 0.13, train_acc : 95.22,val_acc : 95.23,val_loss : 0.13\n"
     ]
    },
    {
     "name": "stderr",
     "output_type": "stream",
     "text": [
      "100%|██████████| 190/190 [00:03<00:00, 51.66it/s]\n",
      "  1%|          | 2/253 [00:00<00:12, 19.52it/s]"
     ]
    },
    {
     "name": "stdout",
     "output_type": "stream",
     "text": [
      "Namespace(epoch=20, exp_name='exp_hid', hid_dim=5, hid_dim1=3)\n"
     ]
    },
    {
     "name": "stderr",
     "output_type": "stream",
     "text": [
      "100%|██████████| 253/253 [00:09<00:00, 25.54it/s]\n",
      "100%|██████████| 190/190 [00:03<00:00, 51.52it/s]\n",
      "  1%|          | 2/253 [00:00<00:15, 15.69it/s]"
     ]
    },
    {
     "name": "stdout",
     "output_type": "stream",
     "text": [
      "time : 13.60, train_loss : 0.62, train_acc : 62.55,val_acc : 62.47,val_loss : 0.46\n"
     ]
    },
    {
     "name": "stderr",
     "output_type": "stream",
     "text": [
      "100%|██████████| 253/253 [00:09<00:00, 26.51it/s]\n",
      "100%|██████████| 190/190 [00:03<00:00, 51.36it/s]\n",
      "  0%|          | 1/253 [00:00<00:34,  7.26it/s]"
     ]
    },
    {
     "name": "stdout",
     "output_type": "stream",
     "text": [
      "time : 13.24, train_loss : 0.31, train_acc : 89.39,val_acc : 93.03,val_loss : 0.24\n"
     ]
    },
    {
     "name": "stderr",
     "output_type": "stream",
     "text": [
      "100%|██████████| 253/253 [00:09<00:00, 25.87it/s]\n",
      "100%|██████████| 190/190 [00:03<00:00, 51.90it/s]\n",
      "  1%|          | 2/253 [00:00<00:14, 17.54it/s]"
     ]
    },
    {
     "name": "stdout",
     "output_type": "stream",
     "text": [
      "time : 13.44, train_loss : 0.21, train_acc : 93.47,val_acc : 93.74,val_loss : 0.20\n"
     ]
    },
    {
     "name": "stderr",
     "output_type": "stream",
     "text": [
      "100%|██████████| 253/253 [00:09<00:00, 25.61it/s]\n",
      "100%|██████████| 190/190 [00:03<00:00, 55.08it/s]\n",
      "  1%|          | 2/253 [00:00<00:13, 18.63it/s]"
     ]
    },
    {
     "name": "stdout",
     "output_type": "stream",
     "text": [
      "time : 13.33, train_loss : 0.18, train_acc : 93.98,val_acc : 94.14,val_loss : 0.18\n"
     ]
    },
    {
     "name": "stderr",
     "output_type": "stream",
     "text": [
      "100%|██████████| 253/253 [00:09<00:00, 26.01it/s]\n",
      "100%|██████████| 190/190 [00:03<00:00, 51.46it/s]\n",
      "  0%|          | 1/253 [00:00<00:38,  6.52it/s]"
     ]
    },
    {
     "name": "stdout",
     "output_type": "stream",
     "text": [
      "time : 13.42, train_loss : 0.17, train_acc : 94.34,val_acc : 94.49,val_loss : 0.16\n"
     ]
    },
    {
     "name": "stderr",
     "output_type": "stream",
     "text": [
      "100%|██████████| 253/253 [00:09<00:00, 25.85it/s]\n",
      "100%|██████████| 190/190 [00:03<00:00, 55.39it/s]\n",
      "  1%|          | 2/253 [00:00<00:13, 18.68it/s]"
     ]
    },
    {
     "name": "stdout",
     "output_type": "stream",
     "text": [
      "time : 13.22, train_loss : 0.15, train_acc : 94.73,val_acc : 94.89,val_loss : 0.15\n"
     ]
    },
    {
     "name": "stderr",
     "output_type": "stream",
     "text": [
      "100%|██████████| 253/253 [00:09<00:00, 25.93it/s]\n",
      "100%|██████████| 190/190 [00:03<00:00, 50.97it/s]\n",
      "  1%|          | 2/253 [00:00<00:16, 15.31it/s]"
     ]
    },
    {
     "name": "stdout",
     "output_type": "stream",
     "text": [
      "time : 13.49, train_loss : 0.14, train_acc : 95.10,val_acc : 95.17,val_loss : 0.14\n"
     ]
    },
    {
     "name": "stderr",
     "output_type": "stream",
     "text": [
      "100%|██████████| 253/253 [00:09<00:00, 26.35it/s]\n",
      "100%|██████████| 190/190 [00:03<00:00, 54.66it/s]\n",
      "  0%|          | 1/253 [00:00<00:35,  7.13it/s]"
     ]
    },
    {
     "name": "stdout",
     "output_type": "stream",
     "text": [
      "time : 13.08, train_loss : 0.14, train_acc : 95.26,val_acc : 95.29,val_loss : 0.13\n"
     ]
    },
    {
     "name": "stderr",
     "output_type": "stream",
     "text": [
      "100%|██████████| 253/253 [00:09<00:00, 25.64it/s]\n",
      "100%|██████████| 190/190 [00:03<00:00, 50.40it/s]\n",
      "  1%|          | 2/253 [00:00<00:13, 18.74it/s]"
     ]
    },
    {
     "name": "stdout",
     "output_type": "stream",
     "text": [
      "time : 13.64, train_loss : 0.13, train_acc : 95.41,val_acc : 95.46,val_loss : 0.13\n"
     ]
    },
    {
     "name": "stderr",
     "output_type": "stream",
     "text": [
      "100%|██████████| 253/253 [00:09<00:00, 25.59it/s]\n",
      "100%|██████████| 190/190 [00:03<00:00, 54.86it/s]\n",
      "  1%|          | 2/253 [00:00<00:16, 15.23it/s]"
     ]
    },
    {
     "name": "stdout",
     "output_type": "stream",
     "text": [
      "time : 13.35, train_loss : 0.13, train_acc : 95.51,val_acc : 95.49,val_loss : 0.13\n"
     ]
    },
    {
     "name": "stderr",
     "output_type": "stream",
     "text": [
      "100%|██████████| 253/253 [00:09<00:00, 26.50it/s]\n",
      "100%|██████████| 190/190 [00:03<00:00, 51.03it/s]\n",
      "  1%|          | 2/253 [00:00<00:20, 12.35it/s]"
     ]
    },
    {
     "name": "stdout",
     "output_type": "stream",
     "text": [
      "time : 13.27, train_loss : 0.13, train_acc : 95.54,val_acc : 95.53,val_loss : 0.13\n"
     ]
    },
    {
     "name": "stderr",
     "output_type": "stream",
     "text": [
      "100%|██████████| 253/253 [00:09<00:00, 26.40it/s]\n",
      "100%|██████████| 190/190 [00:03<00:00, 54.75it/s]\n",
      "  1%|          | 2/253 [00:00<00:16, 14.93it/s]"
     ]
    },
    {
     "name": "stdout",
     "output_type": "stream",
     "text": [
      "time : 13.06, train_loss : 0.12, train_acc : 95.56,val_acc : 95.58,val_loss : 0.12\n"
     ]
    },
    {
     "name": "stderr",
     "output_type": "stream",
     "text": [
      "100%|██████████| 253/253 [00:09<00:00, 25.73it/s]\n",
      "100%|██████████| 190/190 [00:03<00:00, 54.76it/s]\n",
      "  1%|          | 2/253 [00:00<00:12, 19.38it/s]"
     ]
    },
    {
     "name": "stdout",
     "output_type": "stream",
     "text": [
      "time : 13.31, train_loss : 0.12, train_acc : 95.61,val_acc : 95.62,val_loss : 0.12\n"
     ]
    },
    {
     "name": "stderr",
     "output_type": "stream",
     "text": [
      "100%|██████████| 253/253 [00:09<00:00, 27.01it/s]\n",
      "100%|██████████| 190/190 [00:03<00:00, 53.29it/s]\n",
      "  1%|          | 2/253 [00:00<00:24, 10.37it/s]"
     ]
    },
    {
     "name": "stdout",
     "output_type": "stream",
     "text": [
      "time : 12.93, train_loss : 0.12, train_acc : 95.68,val_acc : 95.69,val_loss : 0.12\n"
     ]
    },
    {
     "name": "stderr",
     "output_type": "stream",
     "text": [
      "100%|██████████| 253/253 [00:09<00:00, 26.69it/s]\n",
      "100%|██████████| 190/190 [00:03<00:00, 54.00it/s]\n",
      "  1%|          | 2/253 [00:00<00:16, 15.02it/s]"
     ]
    },
    {
     "name": "stdout",
     "output_type": "stream",
     "text": [
      "time : 13.00, train_loss : 0.12, train_acc : 95.72,val_acc : 95.73,val_loss : 0.12\n"
     ]
    },
    {
     "name": "stderr",
     "output_type": "stream",
     "text": [
      "100%|██████████| 253/253 [00:09<00:00, 26.27it/s]\n",
      "100%|██████████| 190/190 [00:03<00:00, 51.93it/s]\n",
      "  1%|          | 2/253 [00:00<00:16, 15.27it/s]"
     ]
    },
    {
     "name": "stdout",
     "output_type": "stream",
     "text": [
      "time : 13.29, train_loss : 0.12, train_acc : 95.76,val_acc : 95.75,val_loss : 0.12\n"
     ]
    },
    {
     "name": "stderr",
     "output_type": "stream",
     "text": [
      "100%|██████████| 253/253 [00:09<00:00, 26.14it/s]\n",
      "100%|██████████| 190/190 [00:03<00:00, 54.46it/s]\n",
      "  0%|          | 0/253 [00:00<?, ?it/s]"
     ]
    },
    {
     "name": "stdout",
     "output_type": "stream",
     "text": [
      "time : 13.17, train_loss : 0.12, train_acc : 95.78,val_acc : 95.76,val_loss : 0.12\n"
     ]
    },
    {
     "name": "stderr",
     "output_type": "stream",
     "text": [
      "100%|██████████| 253/253 [00:09<00:00, 25.85it/s]\n",
      "100%|██████████| 190/190 [00:03<00:00, 53.73it/s]\n",
      "  1%|          | 2/253 [00:00<00:16, 15.33it/s]"
     ]
    },
    {
     "name": "stdout",
     "output_type": "stream",
     "text": [
      "time : 13.33, train_loss : 0.12, train_acc : 95.79,val_acc : 95.78,val_loss : 0.12\n"
     ]
    },
    {
     "name": "stderr",
     "output_type": "stream",
     "text": [
      "100%|██████████| 253/253 [00:09<00:00, 26.61it/s]\n",
      "100%|██████████| 190/190 [00:03<00:00, 55.23it/s]\n",
      "  1%|          | 2/253 [00:00<00:13, 18.76it/s]"
     ]
    },
    {
     "name": "stdout",
     "output_type": "stream",
     "text": [
      "time : 12.95, train_loss : 0.12, train_acc : 95.80,val_acc : 95.78,val_loss : 0.12\n"
     ]
    },
    {
     "name": "stderr",
     "output_type": "stream",
     "text": [
      "100%|██████████| 253/253 [00:09<00:00, 25.93it/s]\n",
      "100%|██████████| 190/190 [00:03<00:00, 53.67it/s]\n",
      "  0%|          | 0/190 [00:00<?, ?it/s]"
     ]
    },
    {
     "name": "stdout",
     "output_type": "stream",
     "text": [
      "time : 13.30, train_loss : 0.12, train_acc : 95.80,val_acc : 95.79,val_loss : 0.12\n"
     ]
    },
    {
     "name": "stderr",
     "output_type": "stream",
     "text": [
      "100%|██████████| 190/190 [00:04<00:00, 44.85it/s]\n",
      "  1%|          | 2/253 [00:00<00:21, 11.73it/s]"
     ]
    },
    {
     "name": "stdout",
     "output_type": "stream",
     "text": [
      "Namespace(epoch=20, exp_name='exp_hid', hid_dim=5, hid_dim1=4)\n"
     ]
    },
    {
     "name": "stderr",
     "output_type": "stream",
     "text": [
      "100%|██████████| 253/253 [00:09<00:00, 25.83it/s]\n",
      "100%|██████████| 190/190 [00:03<00:00, 55.82it/s]\n",
      "  1%|          | 2/253 [00:00<00:12, 19.32it/s]"
     ]
    },
    {
     "name": "stdout",
     "output_type": "stream",
     "text": [
      "time : 13.20, train_loss : 0.55, train_acc : 68.90,val_acc : 79.46,val_loss : 0.42\n"
     ]
    },
    {
     "name": "stderr",
     "output_type": "stream",
     "text": [
      "100%|██████████| 253/253 [00:09<00:00, 26.36it/s]\n",
      "100%|██████████| 190/190 [00:03<00:00, 54.22it/s]\n",
      "  1%|          | 2/253 [00:00<00:16, 15.12it/s]"
     ]
    },
    {
     "name": "stdout",
     "output_type": "stream",
     "text": [
      "time : 13.11, train_loss : 0.39, train_acc : 81.33,val_acc : 82.54,val_loss : 0.37\n"
     ]
    },
    {
     "name": "stderr",
     "output_type": "stream",
     "text": [
      "100%|██████████| 253/253 [00:09<00:00, 26.29it/s]\n",
      "100%|██████████| 190/190 [00:03<00:00, 53.22it/s]\n",
      "  1%|          | 2/253 [00:00<00:25, 10.02it/s]"
     ]
    },
    {
     "name": "stdout",
     "output_type": "stream",
     "text": [
      "time : 13.20, train_loss : 0.36, train_acc : 83.40,val_acc : 84.59,val_loss : 0.34\n"
     ]
    },
    {
     "name": "stderr",
     "output_type": "stream",
     "text": [
      "100%|██████████| 253/253 [00:09<00:00, 26.41it/s]\n",
      "100%|██████████| 190/190 [00:03<00:00, 55.31it/s]\n",
      "  1%|          | 2/253 [00:00<00:13, 18.73it/s]"
     ]
    },
    {
     "name": "stdout",
     "output_type": "stream",
     "text": [
      "time : 13.02, train_loss : 0.29, train_acc : 88.02,val_acc : 91.43,val_loss : 0.22\n"
     ]
    },
    {
     "name": "stderr",
     "output_type": "stream",
     "text": [
      "100%|██████████| 253/253 [00:09<00:00, 26.76it/s]\n",
      "100%|██████████| 190/190 [00:03<00:00, 48.70it/s]\n",
      "  0%|          | 1/253 [00:00<00:34,  7.38it/s]"
     ]
    },
    {
     "name": "stdout",
     "output_type": "stream",
     "text": [
      "time : 13.36, train_loss : 0.22, train_acc : 91.67,val_acc : 91.84,val_loss : 0.21\n"
     ]
    },
    {
     "name": "stderr",
     "output_type": "stream",
     "text": [
      "100%|██████████| 253/253 [00:09<00:00, 26.11it/s]\n",
      "100%|██████████| 190/190 [00:03<00:00, 51.15it/s]\n",
      "  1%|          | 2/253 [00:00<00:13, 19.18it/s]"
     ]
    },
    {
     "name": "stdout",
     "output_type": "stream",
     "text": [
      "time : 13.41, train_loss : 0.21, train_acc : 92.03,val_acc : 92.17,val_loss : 0.21\n"
     ]
    },
    {
     "name": "stderr",
     "output_type": "stream",
     "text": [
      "100%|██████████| 253/253 [00:09<00:00, 25.49it/s]\n",
      "100%|██████████| 190/190 [00:03<00:00, 55.31it/s]\n",
      "  1%|          | 2/253 [00:00<00:15, 16.63it/s]"
     ]
    },
    {
     "name": "stdout",
     "output_type": "stream",
     "text": [
      "time : 13.36, train_loss : 0.21, train_acc : 92.25,val_acc : 92.30,val_loss : 0.21\n"
     ]
    },
    {
     "name": "stderr",
     "output_type": "stream",
     "text": [
      "100%|██████████| 253/253 [00:09<00:00, 25.91it/s]\n",
      "100%|██████████| 190/190 [00:03<00:00, 51.74it/s]\n",
      "  0%|          | 1/253 [00:00<00:33,  7.44it/s]"
     ]
    },
    {
     "name": "stdout",
     "output_type": "stream",
     "text": [
      "time : 13.44, train_loss : 0.20, train_acc : 92.40,val_acc : 92.46,val_loss : 0.20\n"
     ]
    },
    {
     "name": "stderr",
     "output_type": "stream",
     "text": [
      "100%|██████████| 253/253 [00:09<00:00, 26.36it/s]\n",
      "100%|██████████| 190/190 [00:03<00:00, 51.71it/s]\n",
      "  1%|          | 2/253 [00:00<00:15, 16.45it/s]"
     ]
    },
    {
     "name": "stdout",
     "output_type": "stream",
     "text": [
      "time : 13.28, train_loss : 0.19, train_acc : 92.83,val_acc : 94.04,val_loss : 0.17\n"
     ]
    },
    {
     "name": "stderr",
     "output_type": "stream",
     "text": [
      "100%|██████████| 253/253 [00:09<00:00, 26.66it/s]\n",
      "100%|██████████| 190/190 [00:03<00:00, 55.37it/s]\n",
      "  1%|          | 2/253 [00:00<00:16, 14.94it/s]"
     ]
    },
    {
     "name": "stdout",
     "output_type": "stream",
     "text": [
      "time : 12.93, train_loss : 0.16, train_acc : 94.30,val_acc : 94.44,val_loss : 0.15\n"
     ]
    },
    {
     "name": "stderr",
     "output_type": "stream",
     "text": [
      "100%|██████████| 253/253 [00:09<00:00, 26.59it/s]\n",
      "100%|██████████| 190/190 [00:03<00:00, 53.20it/s]\n",
      "  0%|          | 1/253 [00:00<00:33,  7.58it/s]"
     ]
    },
    {
     "name": "stdout",
     "output_type": "stream",
     "text": [
      "time : 13.09, train_loss : 0.15, train_acc : 94.58,val_acc : 94.69,val_loss : 0.15\n"
     ]
    },
    {
     "name": "stderr",
     "output_type": "stream",
     "text": [
      "100%|██████████| 253/253 [00:09<00:00, 26.81it/s]\n",
      "100%|██████████| 190/190 [00:03<00:00, 55.49it/s]\n",
      "  1%|          | 2/253 [00:00<00:13, 19.23it/s]"
     ]
    },
    {
     "name": "stdout",
     "output_type": "stream",
     "text": [
      "time : 12.86, train_loss : 0.15, train_acc : 94.80,val_acc : 94.89,val_loss : 0.14\n"
     ]
    },
    {
     "name": "stderr",
     "output_type": "stream",
     "text": [
      "100%|██████████| 253/253 [00:09<00:00, 26.38it/s]\n",
      "100%|██████████| 190/190 [00:03<00:00, 55.30it/s]\n",
      "  1%|          | 2/253 [00:00<00:16, 14.88it/s]"
     ]
    },
    {
     "name": "stdout",
     "output_type": "stream",
     "text": [
      "time : 13.03, train_loss : 0.14, train_acc : 94.90,val_acc : 94.90,val_loss : 0.14\n"
     ]
    },
    {
     "name": "stderr",
     "output_type": "stream",
     "text": [
      "100%|██████████| 253/253 [00:09<00:00, 26.31it/s]\n",
      "100%|██████████| 190/190 [00:03<00:00, 53.69it/s]\n",
      "  0%|          | 1/253 [00:00<00:40,  6.16it/s]"
     ]
    },
    {
     "name": "stdout",
     "output_type": "stream",
     "text": [
      "time : 13.16, train_loss : 0.14, train_acc : 94.92,val_acc : 94.95,val_loss : 0.14\n"
     ]
    },
    {
     "name": "stderr",
     "output_type": "stream",
     "text": [
      "100%|██████████| 253/253 [00:09<00:00, 26.57it/s]\n",
      "100%|██████████| 190/190 [00:03<00:00, 55.60it/s]\n",
      "  1%|          | 2/253 [00:00<00:16, 15.36it/s]"
     ]
    },
    {
     "name": "stdout",
     "output_type": "stream",
     "text": [
      "time : 12.94, train_loss : 0.14, train_acc : 94.92,val_acc : 94.92,val_loss : 0.14\n"
     ]
    },
    {
     "name": "stderr",
     "output_type": "stream",
     "text": [
      "100%|██████████| 253/253 [00:09<00:00, 26.02it/s]\n",
      "100%|██████████| 190/190 [00:03<00:00, 53.98it/s]\n",
      "  1%|          | 2/253 [00:00<00:13, 18.46it/s]"
     ]
    },
    {
     "name": "stdout",
     "output_type": "stream",
     "text": [
      "time : 13.25, train_loss : 0.14, train_acc : 94.93,val_acc : 94.91,val_loss : 0.14\n"
     ]
    },
    {
     "name": "stderr",
     "output_type": "stream",
     "text": [
      "100%|██████████| 253/253 [00:09<00:00, 26.04it/s]\n",
      "100%|██████████| 190/190 [00:03<00:00, 54.01it/s]\n",
      "  1%|          | 2/253 [00:00<00:20, 12.11it/s]"
     ]
    },
    {
     "name": "stdout",
     "output_type": "stream",
     "text": [
      "time : 13.23, train_loss : 0.14, train_acc : 94.93,val_acc : 94.92,val_loss : 0.14\n"
     ]
    },
    {
     "name": "stderr",
     "output_type": "stream",
     "text": [
      "100%|██████████| 253/253 [00:09<00:00, 26.12it/s]\n",
      "100%|██████████| 190/190 [00:03<00:00, 50.57it/s]\n",
      "  1%|          | 2/253 [00:00<00:15, 16.59it/s]"
     ]
    },
    {
     "name": "stdout",
     "output_type": "stream",
     "text": [
      "time : 13.45, train_loss : 0.14, train_acc : 94.94,val_acc : 94.94,val_loss : 0.14\n"
     ]
    },
    {
     "name": "stderr",
     "output_type": "stream",
     "text": [
      "100%|██████████| 253/253 [00:09<00:00, 26.45it/s]\n",
      "100%|██████████| 190/190 [00:03<00:00, 54.92it/s]\n",
      "  1%|          | 2/253 [00:00<00:16, 15.25it/s]"
     ]
    },
    {
     "name": "stdout",
     "output_type": "stream",
     "text": [
      "time : 13.03, train_loss : 0.14, train_acc : 94.94,val_acc : 94.94,val_loss : 0.14\n"
     ]
    },
    {
     "name": "stderr",
     "output_type": "stream",
     "text": [
      "100%|██████████| 253/253 [00:09<00:00, 25.56it/s]\n",
      "100%|██████████| 190/190 [00:03<00:00, 53.59it/s]\n",
      "  0%|          | 0/190 [00:00<?, ?it/s]"
     ]
    },
    {
     "name": "stdout",
     "output_type": "stream",
     "text": [
      "time : 13.45, train_loss : 0.14, train_acc : 94.96,val_acc : 94.95,val_loss : 0.14\n"
     ]
    },
    {
     "name": "stderr",
     "output_type": "stream",
     "text": [
      "100%|██████████| 190/190 [00:03<00:00, 51.18it/s]\n",
      "  1%|          | 2/253 [00:00<00:24, 10.42it/s]"
     ]
    },
    {
     "name": "stdout",
     "output_type": "stream",
     "text": [
      "Namespace(epoch=20, exp_name='exp_hid', hid_dim=5, hid_dim1=5)\n"
     ]
    },
    {
     "name": "stderr",
     "output_type": "stream",
     "text": [
      "100%|██████████| 253/253 [00:09<00:00, 26.38it/s]\n",
      "100%|██████████| 190/190 [00:03<00:00, 53.90it/s]\n",
      "  1%|          | 2/253 [00:00<00:16, 15.16it/s]"
     ]
    },
    {
     "name": "stdout",
     "output_type": "stream",
     "text": [
      "time : 13.12, train_loss : 0.52, train_acc : 72.88,val_acc : 91.32,val_loss : 0.26\n"
     ]
    },
    {
     "name": "stderr",
     "output_type": "stream",
     "text": [
      "100%|██████████| 253/253 [00:09<00:00, 25.60it/s]\n",
      "100%|██████████| 190/190 [00:03<00:00, 56.07it/s]\n",
      "  1%|          | 2/253 [00:00<00:15, 15.99it/s]"
     ]
    },
    {
     "name": "stdout",
     "output_type": "stream",
     "text": [
      "time : 13.27, train_loss : 0.20, train_acc : 92.64,val_acc : 93.26,val_loss : 0.19\n"
     ]
    },
    {
     "name": "stderr",
     "output_type": "stream",
     "text": [
      "100%|██████████| 253/253 [00:09<00:00, 26.67it/s]\n",
      "100%|██████████| 190/190 [00:03<00:00, 51.87it/s]\n",
      "  0%|          | 0/253 [00:00<?, ?it/s]"
     ]
    },
    {
     "name": "stdout",
     "output_type": "stream",
     "text": [
      "time : 13.15, train_loss : 0.18, train_acc : 93.54,val_acc : 93.72,val_loss : 0.17\n"
     ]
    },
    {
     "name": "stderr",
     "output_type": "stream",
     "text": [
      "100%|██████████| 253/253 [00:09<00:00, 25.54it/s]\n",
      "100%|██████████| 190/190 [00:03<00:00, 53.71it/s]\n",
      "  1%|          | 2/253 [00:00<00:13, 18.58it/s]"
     ]
    },
    {
     "name": "stdout",
     "output_type": "stream",
     "text": [
      "time : 13.44, train_loss : 0.17, train_acc : 93.89,val_acc : 94.00,val_loss : 0.16\n"
     ]
    },
    {
     "name": "stderr",
     "output_type": "stream",
     "text": [
      "100%|██████████| 253/253 [00:09<00:00, 25.79it/s]\n",
      "100%|██████████| 190/190 [00:03<00:00, 53.62it/s]\n",
      "  1%|          | 2/253 [00:00<00:13, 18.90it/s]"
     ]
    },
    {
     "name": "stdout",
     "output_type": "stream",
     "text": [
      "time : 13.36, train_loss : 0.16, train_acc : 94.14,val_acc : 94.19,val_loss : 0.16\n"
     ]
    },
    {
     "name": "stderr",
     "output_type": "stream",
     "text": [
      "100%|██████████| 253/253 [00:09<00:00, 26.06it/s]\n",
      "100%|██████████| 190/190 [00:03<00:00, 54.31it/s]\n",
      "  1%|          | 2/253 [00:00<00:20, 12.39it/s]"
     ]
    },
    {
     "name": "stdout",
     "output_type": "stream",
     "text": [
      "time : 13.21, train_loss : 0.15, train_acc : 94.35,val_acc : 94.45,val_loss : 0.15\n"
     ]
    },
    {
     "name": "stderr",
     "output_type": "stream",
     "text": [
      "100%|██████████| 253/253 [00:09<00:00, 26.30it/s]\n",
      "100%|██████████| 190/190 [00:03<00:00, 54.21it/s]\n",
      "  1%|          | 2/253 [00:00<00:12, 19.68it/s]"
     ]
    },
    {
     "name": "stdout",
     "output_type": "stream",
     "text": [
      "time : 13.13, train_loss : 0.14, train_acc : 94.68,val_acc : 94.80,val_loss : 0.14\n"
     ]
    },
    {
     "name": "stderr",
     "output_type": "stream",
     "text": [
      "100%|██████████| 253/253 [00:09<00:00, 25.52it/s]\n",
      "100%|██████████| 190/190 [00:03<00:00, 54.84it/s]\n",
      "  1%|          | 2/253 [00:00<00:16, 15.43it/s]"
     ]
    },
    {
     "name": "stdout",
     "output_type": "stream",
     "text": [
      "time : 13.38, train_loss : 0.14, train_acc : 95.01,val_acc : 95.09,val_loss : 0.13\n"
     ]
    },
    {
     "name": "stderr",
     "output_type": "stream",
     "text": [
      "100%|██████████| 253/253 [00:09<00:00, 26.70it/s]\n",
      "100%|██████████| 190/190 [00:03<00:00, 52.07it/s]\n",
      "  1%|          | 2/253 [00:00<00:24, 10.07it/s]"
     ]
    },
    {
     "name": "stdout",
     "output_type": "stream",
     "text": [
      "time : 13.13, train_loss : 0.13, train_acc : 95.18,val_acc : 95.18,val_loss : 0.13\n"
     ]
    },
    {
     "name": "stderr",
     "output_type": "stream",
     "text": [
      "100%|██████████| 253/253 [00:09<00:00, 25.62it/s]\n",
      "100%|██████████| 190/190 [00:03<00:00, 53.76it/s]\n",
      "  1%|          | 2/253 [00:00<00:13, 18.64it/s]"
     ]
    },
    {
     "name": "stdout",
     "output_type": "stream",
     "text": [
      "time : 13.41, train_loss : 0.13, train_acc : 95.28,val_acc : 95.25,val_loss : 0.13\n"
     ]
    },
    {
     "name": "stderr",
     "output_type": "stream",
     "text": [
      "100%|██████████| 253/253 [00:09<00:00, 26.13it/s]\n",
      "100%|██████████| 190/190 [00:03<00:00, 54.30it/s]\n",
      "  0%|          | 1/253 [00:00<00:43,  5.76it/s]"
     ]
    },
    {
     "name": "stdout",
     "output_type": "stream",
     "text": [
      "time : 13.18, train_loss : 0.13, train_acc : 95.35,val_acc : 95.39,val_loss : 0.13\n"
     ]
    },
    {
     "name": "stderr",
     "output_type": "stream",
     "text": [
      "100%|██████████| 253/253 [00:09<00:00, 25.70it/s]\n",
      "100%|██████████| 190/190 [00:03<00:00, 54.54it/s]\n",
      "  1%|          | 2/253 [00:00<00:15, 16.03it/s]"
     ]
    },
    {
     "name": "stdout",
     "output_type": "stream",
     "text": [
      "time : 13.33, train_loss : 0.12, train_acc : 95.47,val_acc : 95.40,val_loss : 0.12\n"
     ]
    },
    {
     "name": "stderr",
     "output_type": "stream",
     "text": [
      "100%|██████████| 253/253 [00:09<00:00, 26.49it/s]\n",
      "100%|██████████| 190/190 [00:03<00:00, 54.88it/s]\n",
      "  1%|          | 2/253 [00:00<00:14, 17.61it/s]"
     ]
    },
    {
     "name": "stdout",
     "output_type": "stream",
     "text": [
      "time : 13.02, train_loss : 0.12, train_acc : 95.51,val_acc : 95.50,val_loss : 0.12\n"
     ]
    },
    {
     "name": "stderr",
     "output_type": "stream",
     "text": [
      "100%|██████████| 253/253 [00:09<00:00, 26.24it/s]\n",
      "100%|██████████| 190/190 [00:03<00:00, 51.05it/s]\n",
      "  0%|          | 1/253 [00:00<00:34,  7.26it/s]"
     ]
    },
    {
     "name": "stdout",
     "output_type": "stream",
     "text": [
      "time : 13.37, train_loss : 0.12, train_acc : 95.55,val_acc : 95.52,val_loss : 0.12\n"
     ]
    },
    {
     "name": "stderr",
     "output_type": "stream",
     "text": [
      "100%|██████████| 253/253 [00:09<00:00, 25.87it/s]\n",
      "100%|██████████| 190/190 [00:03<00:00, 54.28it/s]\n",
      "  1%|          | 2/253 [00:00<00:16, 15.22it/s]"
     ]
    },
    {
     "name": "stdout",
     "output_type": "stream",
     "text": [
      "time : 13.28, train_loss : 0.12, train_acc : 95.57,val_acc : 95.55,val_loss : 0.12\n"
     ]
    },
    {
     "name": "stderr",
     "output_type": "stream",
     "text": [
      "100%|██████████| 253/253 [00:09<00:00, 26.73it/s]\n",
      "100%|██████████| 190/190 [00:03<00:00, 55.77it/s]\n",
      "  1%|          | 2/253 [00:00<00:16, 14.87it/s]"
     ]
    },
    {
     "name": "stdout",
     "output_type": "stream",
     "text": [
      "time : 12.87, train_loss : 0.12, train_acc : 95.60,val_acc : 95.54,val_loss : 0.12\n"
     ]
    },
    {
     "name": "stderr",
     "output_type": "stream",
     "text": [
      "100%|██████████| 253/253 [00:09<00:00, 25.61it/s]\n",
      "100%|██████████| 190/190 [00:03<00:00, 52.27it/s]\n",
      "  0%|          | 1/253 [00:00<00:34,  7.40it/s]"
     ]
    },
    {
     "name": "stdout",
     "output_type": "stream",
     "text": [
      "time : 13.52, train_loss : 0.12, train_acc : 95.61,val_acc : 95.55,val_loss : 0.12\n"
     ]
    },
    {
     "name": "stderr",
     "output_type": "stream",
     "text": [
      "100%|██████████| 253/253 [00:09<00:00, 25.87it/s]\n",
      "100%|██████████| 190/190 [00:03<00:00, 54.33it/s]\n",
      "  1%|          | 2/253 [00:00<00:16, 14.90it/s]"
     ]
    },
    {
     "name": "stdout",
     "output_type": "stream",
     "text": [
      "time : 13.28, train_loss : 0.12, train_acc : 95.63,val_acc : 95.60,val_loss : 0.12\n"
     ]
    },
    {
     "name": "stderr",
     "output_type": "stream",
     "text": [
      "100%|██████████| 253/253 [00:09<00:00, 25.77it/s]\n",
      "100%|██████████| 190/190 [00:03<00:00, 51.41it/s]\n",
      "  1%|          | 2/253 [00:00<00:16, 14.91it/s]"
     ]
    },
    {
     "name": "stdout",
     "output_type": "stream",
     "text": [
      "time : 13.51, train_loss : 0.12, train_acc : 95.65,val_acc : 95.63,val_loss : 0.12\n"
     ]
    },
    {
     "name": "stderr",
     "output_type": "stream",
     "text": [
      "100%|██████████| 253/253 [00:09<00:00, 26.67it/s]\n",
      "100%|██████████| 190/190 [00:03<00:00, 54.24it/s]\n",
      "  0%|          | 0/190 [00:00<?, ?it/s]"
     ]
    },
    {
     "name": "stdout",
     "output_type": "stream",
     "text": [
      "time : 12.99, train_loss : 0.12, train_acc : 95.65,val_acc : 95.62,val_loss : 0.12\n"
     ]
    },
    {
     "name": "stderr",
     "output_type": "stream",
     "text": [
      "100%|██████████| 190/190 [00:03<00:00, 48.37it/s]\n",
      "  0%|          | 1/253 [00:00<00:39,  6.45it/s]"
     ]
    },
    {
     "name": "stdout",
     "output_type": "stream",
     "text": [
      "Namespace(epoch=20, exp_name='exp_hid', hid_dim=5, hid_dim1=6)\n"
     ]
    },
    {
     "name": "stderr",
     "output_type": "stream",
     "text": [
      "100%|██████████| 253/253 [00:09<00:00, 25.80it/s]\n",
      "100%|██████████| 190/190 [00:03<00:00, 51.58it/s]\n",
      "  1%|          | 2/253 [00:00<00:13, 18.81it/s]"
     ]
    },
    {
     "name": "stdout",
     "output_type": "stream",
     "text": [
      "time : 13.49, train_loss : 0.60, train_acc : 73.92,val_acc : 92.23,val_loss : 0.41\n"
     ]
    },
    {
     "name": "stderr",
     "output_type": "stream",
     "text": [
      "100%|██████████| 253/253 [00:09<00:00, 26.04it/s]\n",
      "100%|██████████| 190/190 [00:03<00:00, 55.81it/s]\n",
      "  1%|          | 2/253 [00:00<00:12, 19.50it/s]"
     ]
    },
    {
     "name": "stdout",
     "output_type": "stream",
     "text": [
      "time : 13.12, train_loss : 0.32, train_acc : 93.06,val_acc : 93.38,val_loss : 0.27\n"
     ]
    },
    {
     "name": "stderr",
     "output_type": "stream",
     "text": [
      "100%|██████████| 253/253 [00:09<00:00, 26.09it/s]\n",
      "100%|██████████| 190/190 [00:03<00:00, 51.52it/s]\n",
      "  1%|          | 2/253 [00:00<00:20, 12.31it/s]"
     ]
    },
    {
     "name": "stdout",
     "output_type": "stream",
     "text": [
      "time : 13.39, train_loss : 0.24, train_acc : 93.66,val_acc : 93.88,val_loss : 0.22\n"
     ]
    },
    {
     "name": "stderr",
     "output_type": "stream",
     "text": [
      "100%|██████████| 253/253 [00:09<00:00, 25.86it/s]\n",
      "100%|██████████| 190/190 [00:03<00:00, 52.85it/s]\n",
      "  1%|          | 2/253 [00:00<00:16, 15.22it/s]"
     ]
    },
    {
     "name": "stdout",
     "output_type": "stream",
     "text": [
      "time : 13.38, train_loss : 0.18, train_acc : 94.10,val_acc : 94.31,val_loss : 0.16\n"
     ]
    },
    {
     "name": "stderr",
     "output_type": "stream",
     "text": [
      "100%|██████████| 253/253 [00:09<00:00, 26.26it/s]\n",
      "100%|██████████| 190/190 [00:03<00:00, 53.42it/s]\n",
      "  1%|          | 2/253 [00:00<00:13, 18.32it/s]"
     ]
    },
    {
     "name": "stdout",
     "output_type": "stream",
     "text": [
      "time : 13.19, train_loss : 0.15, train_acc : 94.54,val_acc : 94.69,val_loss : 0.14\n"
     ]
    },
    {
     "name": "stderr",
     "output_type": "stream",
     "text": [
      "100%|██████████| 253/253 [00:09<00:00, 26.10it/s]\n",
      "100%|██████████| 190/190 [00:03<00:00, 51.61it/s]\n",
      "  1%|          | 2/253 [00:00<00:20, 11.97it/s]"
     ]
    },
    {
     "name": "stdout",
     "output_type": "stream",
     "text": [
      "time : 13.38, train_loss : 0.14, train_acc : 94.85,val_acc : 94.87,val_loss : 0.14\n"
     ]
    },
    {
     "name": "stderr",
     "output_type": "stream",
     "text": [
      "100%|██████████| 253/253 [00:09<00:00, 25.91it/s]\n",
      "100%|██████████| 190/190 [00:03<00:00, 55.05it/s]\n",
      "  1%|          | 2/253 [00:00<00:12, 19.41it/s]"
     ]
    },
    {
     "name": "stdout",
     "output_type": "stream",
     "text": [
      "time : 13.22, train_loss : 0.14, train_acc : 94.97,val_acc : 94.99,val_loss : 0.14\n"
     ]
    },
    {
     "name": "stderr",
     "output_type": "stream",
     "text": [
      "100%|██████████| 253/253 [00:09<00:00, 26.43it/s]\n",
      "100%|██████████| 190/190 [00:03<00:00, 55.35it/s]\n",
      "  1%|          | 2/253 [00:00<00:13, 19.09it/s]"
     ]
    },
    {
     "name": "stdout",
     "output_type": "stream",
     "text": [
      "time : 13.01, train_loss : 0.14, train_acc : 95.05,val_acc : 95.04,val_loss : 0.14\n"
     ]
    },
    {
     "name": "stderr",
     "output_type": "stream",
     "text": [
      "100%|██████████| 253/253 [00:09<00:00, 25.99it/s]\n",
      "100%|██████████| 190/190 [00:03<00:00, 53.43it/s]\n",
      "  0%|          | 0/253 [00:00<?, ?it/s]"
     ]
    },
    {
     "name": "stdout",
     "output_type": "stream",
     "text": [
      "time : 13.29, train_loss : 0.13, train_acc : 95.09,val_acc : 95.05,val_loss : 0.13\n"
     ]
    },
    {
     "name": "stderr",
     "output_type": "stream",
     "text": [
      "100%|██████████| 253/253 [00:09<00:00, 26.38it/s]\n",
      "100%|██████████| 190/190 [00:03<00:00, 54.74it/s]\n",
      "  1%|          | 2/253 [00:00<00:13, 18.21it/s]"
     ]
    },
    {
     "name": "stdout",
     "output_type": "stream",
     "text": [
      "time : 13.07, train_loss : 0.13, train_acc : 95.12,val_acc : 95.11,val_loss : 0.13\n"
     ]
    },
    {
     "name": "stderr",
     "output_type": "stream",
     "text": [
      "100%|██████████| 253/253 [00:09<00:00, 26.64it/s]\n",
      "100%|██████████| 190/190 [00:03<00:00, 54.90it/s]\n",
      "  1%|          | 2/253 [00:00<00:16, 14.97it/s]"
     ]
    },
    {
     "name": "stdout",
     "output_type": "stream",
     "text": [
      "time : 12.96, train_loss : 0.13, train_acc : 95.15,val_acc : 95.14,val_loss : 0.13\n"
     ]
    },
    {
     "name": "stderr",
     "output_type": "stream",
     "text": [
      "100%|██████████| 253/253 [00:09<00:00, 25.59it/s]\n",
      "100%|██████████| 190/190 [00:03<00:00, 54.81it/s]\n",
      "  1%|          | 2/253 [00:00<00:20, 12.24it/s]"
     ]
    },
    {
     "name": "stdout",
     "output_type": "stream",
     "text": [
      "time : 13.36, train_loss : 0.13, train_acc : 95.18,val_acc : 95.17,val_loss : 0.13\n"
     ]
    },
    {
     "name": "stderr",
     "output_type": "stream",
     "text": [
      "100%|██████████| 253/253 [00:09<00:00, 25.95it/s]\n",
      "100%|██████████| 190/190 [00:03<00:00, 56.05it/s]\n",
      "  1%|          | 2/253 [00:00<00:13, 18.74it/s]"
     ]
    },
    {
     "name": "stdout",
     "output_type": "stream",
     "text": [
      "time : 13.14, train_loss : 0.13, train_acc : 95.19,val_acc : 95.18,val_loss : 0.13\n"
     ]
    },
    {
     "name": "stderr",
     "output_type": "stream",
     "text": [
      "100%|██████████| 253/253 [00:09<00:00, 25.82it/s]\n",
      "100%|██████████| 190/190 [00:03<00:00, 55.09it/s]\n",
      "  1%|          | 2/253 [00:00<00:16, 14.88it/s]"
     ]
    },
    {
     "name": "stdout",
     "output_type": "stream",
     "text": [
      "time : 13.25, train_loss : 0.13, train_acc : 95.21,val_acc : 95.19,val_loss : 0.13\n"
     ]
    },
    {
     "name": "stderr",
     "output_type": "stream",
     "text": [
      "100%|██████████| 253/253 [00:09<00:00, 25.59it/s]\n",
      "100%|██████████| 190/190 [00:03<00:00, 54.10it/s]\n",
      "  1%|          | 2/253 [00:00<00:25,  9.98it/s]"
     ]
    },
    {
     "name": "stdout",
     "output_type": "stream",
     "text": [
      "time : 13.40, train_loss : 0.13, train_acc : 95.21,val_acc : 95.19,val_loss : 0.13\n"
     ]
    },
    {
     "name": "stderr",
     "output_type": "stream",
     "text": [
      "100%|██████████| 253/253 [00:09<00:00, 26.41it/s]\n",
      "100%|██████████| 190/190 [00:03<00:00, 55.02it/s]\n",
      "  1%|          | 2/253 [00:00<00:13, 18.67it/s]"
     ]
    },
    {
     "name": "stdout",
     "output_type": "stream",
     "text": [
      "time : 13.03, train_loss : 0.13, train_acc : 95.22,val_acc : 95.20,val_loss : 0.13\n"
     ]
    },
    {
     "name": "stderr",
     "output_type": "stream",
     "text": [
      "100%|██████████| 253/253 [00:09<00:00, 26.81it/s]\n",
      "100%|██████████| 190/190 [00:03<00:00, 53.41it/s]\n",
      "  0%|          | 1/253 [00:00<00:41,  6.04it/s]"
     ]
    },
    {
     "name": "stdout",
     "output_type": "stream",
     "text": [
      "time : 13.00, train_loss : 0.13, train_acc : 95.22,val_acc : 95.20,val_loss : 0.13\n"
     ]
    },
    {
     "name": "stderr",
     "output_type": "stream",
     "text": [
      "100%|██████████| 253/253 [00:09<00:00, 26.33it/s]\n",
      "100%|██████████| 190/190 [00:03<00:00, 54.88it/s]\n",
      "  1%|          | 2/253 [00:00<00:16, 15.03it/s]"
     ]
    },
    {
     "name": "stdout",
     "output_type": "stream",
     "text": [
      "time : 13.08, train_loss : 0.13, train_acc : 95.24,val_acc : 95.18,val_loss : 0.13\n"
     ]
    },
    {
     "name": "stderr",
     "output_type": "stream",
     "text": [
      "100%|██████████| 253/253 [00:09<00:00, 25.69it/s]\n",
      "100%|██████████| 190/190 [00:03<00:00, 52.85it/s]\n",
      "  1%|          | 2/253 [00:00<00:13, 18.97it/s]"
     ]
    },
    {
     "name": "stdout",
     "output_type": "stream",
     "text": [
      "time : 13.45, train_loss : 0.13, train_acc : 95.24,val_acc : 95.21,val_loss : 0.13\n"
     ]
    },
    {
     "name": "stderr",
     "output_type": "stream",
     "text": [
      "100%|██████████| 253/253 [00:09<00:00, 26.04it/s]\n",
      "100%|██████████| 190/190 [00:03<00:00, 52.64it/s]\n",
      "  0%|          | 0/190 [00:00<?, ?it/s]"
     ]
    },
    {
     "name": "stdout",
     "output_type": "stream",
     "text": [
      "time : 13.33, train_loss : 0.13, train_acc : 95.24,val_acc : 95.20,val_loss : 0.13\n"
     ]
    },
    {
     "name": "stderr",
     "output_type": "stream",
     "text": [
      "100%|██████████| 190/190 [00:04<00:00, 47.41it/s]\n",
      "  0%|          | 1/253 [00:00<00:37,  6.78it/s]"
     ]
    },
    {
     "name": "stdout",
     "output_type": "stream",
     "text": [
      "Namespace(epoch=20, exp_name='exp_hid', hid_dim=6, hid_dim1=3)\n"
     ]
    },
    {
     "name": "stderr",
     "output_type": "stream",
     "text": [
      "100%|██████████| 253/253 [00:09<00:00, 26.34it/s]\n",
      "100%|██████████| 190/190 [00:03<00:00, 49.59it/s]\n",
      "  1%|          | 2/253 [00:00<00:13, 19.29it/s]"
     ]
    },
    {
     "name": "stdout",
     "output_type": "stream",
     "text": [
      "time : 13.44, train_loss : 0.51, train_acc : 71.48,val_acc : 82.74,val_loss : 0.39\n"
     ]
    },
    {
     "name": "stderr",
     "output_type": "stream",
     "text": [
      "100%|██████████| 253/253 [00:09<00:00, 26.32it/s]\n",
      "100%|██████████| 190/190 [00:03<00:00, 55.93it/s]\n",
      "  1%|          | 2/253 [00:00<00:13, 19.06it/s]"
     ]
    },
    {
     "name": "stdout",
     "output_type": "stream",
     "text": [
      "time : 13.01, train_loss : 0.31, train_acc : 88.13,val_acc : 92.44,val_loss : 0.23\n"
     ]
    },
    {
     "name": "stderr",
     "output_type": "stream",
     "text": [
      "100%|██████████| 253/253 [00:09<00:00, 26.54it/s]\n",
      "100%|██████████| 190/190 [00:03<00:00, 52.35it/s]\n",
      "  0%|          | 1/253 [00:00<00:34,  7.31it/s]"
     ]
    },
    {
     "name": "stdout",
     "output_type": "stream",
     "text": [
      "time : 13.17, train_loss : 0.21, train_acc : 92.75,val_acc : 92.92,val_loss : 0.20\n"
     ]
    },
    {
     "name": "stderr",
     "output_type": "stream",
     "text": [
      "100%|██████████| 253/253 [00:09<00:00, 26.43it/s]\n",
      "100%|██████████| 190/190 [00:03<00:00, 52.28it/s]\n",
      "  1%|          | 2/253 [00:00<00:14, 17.37it/s]"
     ]
    },
    {
     "name": "stdout",
     "output_type": "stream",
     "text": [
      "time : 13.21, train_loss : 0.20, train_acc : 93.00,val_acc : 93.06,val_loss : 0.19\n"
     ]
    },
    {
     "name": "stderr",
     "output_type": "stream",
     "text": [
      "100%|██████████| 253/253 [00:09<00:00, 25.76it/s]\n",
      "100%|██████████| 190/190 [00:03<00:00, 52.27it/s]\n",
      "  1%|          | 2/253 [00:00<00:16, 15.32it/s]"
     ]
    },
    {
     "name": "stdout",
     "output_type": "stream",
     "text": [
      "time : 13.46, train_loss : 0.19, train_acc : 93.19,val_acc : 93.26,val_loss : 0.19\n"
     ]
    },
    {
     "name": "stderr",
     "output_type": "stream",
     "text": [
      "100%|██████████| 253/253 [00:09<00:00, 26.51it/s]\n",
      "100%|██████████| 190/190 [00:03<00:00, 54.32it/s]\n",
      "  0%|          | 1/253 [00:00<00:33,  7.61it/s]"
     ]
    },
    {
     "name": "stdout",
     "output_type": "stream",
     "text": [
      "time : 13.05, train_loss : 0.18, train_acc : 93.34,val_acc : 93.36,val_loss : 0.18\n"
     ]
    },
    {
     "name": "stderr",
     "output_type": "stream",
     "text": [
      "100%|██████████| 253/253 [00:09<00:00, 26.61it/s]\n",
      "100%|██████████| 190/190 [00:03<00:00, 55.12it/s]\n",
      "  1%|          | 2/253 [00:00<00:16, 14.99it/s]"
     ]
    },
    {
     "name": "stdout",
     "output_type": "stream",
     "text": [
      "time : 12.96, train_loss : 0.18, train_acc : 93.47,val_acc : 93.61,val_loss : 0.18\n"
     ]
    },
    {
     "name": "stderr",
     "output_type": "stream",
     "text": [
      "100%|██████████| 253/253 [00:09<00:00, 26.26it/s]\n",
      "100%|██████████| 190/190 [00:03<00:00, 54.57it/s]\n",
      "  1%|          | 2/253 [00:00<00:12, 19.73it/s]"
     ]
    },
    {
     "name": "stdout",
     "output_type": "stream",
     "text": [
      "time : 13.12, train_loss : 0.17, train_acc : 93.89,val_acc : 94.12,val_loss : 0.16\n"
     ]
    },
    {
     "name": "stderr",
     "output_type": "stream",
     "text": [
      "100%|██████████| 253/253 [00:09<00:00, 25.70it/s]\n",
      "100%|██████████| 190/190 [00:03<00:00, 51.90it/s]\n",
      "  0%|          | 1/253 [00:00<00:33,  7.50it/s]"
     ]
    },
    {
     "name": "stdout",
     "output_type": "stream",
     "text": [
      "time : 13.51, train_loss : 0.15, train_acc : 94.50,val_acc : 94.68,val_loss : 0.15\n"
     ]
    },
    {
     "name": "stderr",
     "output_type": "stream",
     "text": [
      "100%|██████████| 253/253 [00:09<00:00, 26.37it/s]\n",
      "100%|██████████| 190/190 [00:03<00:00, 55.94it/s]\n",
      "  1%|          | 2/253 [00:00<00:16, 15.00it/s]"
     ]
    },
    {
     "name": "stdout",
     "output_type": "stream",
     "text": [
      "time : 12.99, train_loss : 0.15, train_acc : 94.84,val_acc : 94.86,val_loss : 0.14\n"
     ]
    },
    {
     "name": "stderr",
     "output_type": "stream",
     "text": [
      "100%|██████████| 253/253 [00:09<00:00, 26.01it/s]\n",
      "100%|██████████| 190/190 [00:03<00:00, 56.26it/s]\n",
      "  1%|          | 2/253 [00:00<00:13, 18.52it/s]"
     ]
    },
    {
     "name": "stdout",
     "output_type": "stream",
     "text": [
      "time : 13.11, train_loss : 0.14, train_acc : 94.91,val_acc : 94.91,val_loss : 0.14\n"
     ]
    },
    {
     "name": "stderr",
     "output_type": "stream",
     "text": [
      "100%|██████████| 253/253 [00:09<00:00, 26.03it/s]\n",
      "100%|██████████| 190/190 [00:03<00:00, 55.85it/s]\n",
      "  1%|          | 2/253 [00:00<00:24, 10.21it/s]"
     ]
    },
    {
     "name": "stdout",
     "output_type": "stream",
     "text": [
      "time : 13.12, train_loss : 0.14, train_acc : 94.94,val_acc : 94.92,val_loss : 0.14\n"
     ]
    },
    {
     "name": "stderr",
     "output_type": "stream",
     "text": [
      "100%|██████████| 253/253 [00:09<00:00, 26.68it/s]\n",
      "100%|██████████| 190/190 [00:03<00:00, 55.67it/s]\n",
      "  1%|          | 2/253 [00:00<00:12, 19.83it/s]"
     ]
    },
    {
     "name": "stdout",
     "output_type": "stream",
     "text": [
      "time : 12.90, train_loss : 0.14, train_acc : 94.96,val_acc : 94.95,val_loss : 0.14\n"
     ]
    },
    {
     "name": "stderr",
     "output_type": "stream",
     "text": [
      "100%|██████████| 253/253 [00:09<00:00, 26.43it/s]\n",
      "100%|██████████| 190/190 [00:03<00:00, 53.26it/s]\n",
      "  1%|          | 2/253 [00:00<00:13, 18.11it/s]"
     ]
    },
    {
     "name": "stdout",
     "output_type": "stream",
     "text": [
      "time : 13.14, train_loss : 0.14, train_acc : 94.98,val_acc : 94.97,val_loss : 0.14\n"
     ]
    },
    {
     "name": "stderr",
     "output_type": "stream",
     "text": [
      "100%|██████████| 253/253 [00:09<00:00, 26.53it/s]\n",
      "100%|██████████| 190/190 [00:03<00:00, 52.14it/s]\n",
      "  0%|          | 0/253 [00:00<?, ?it/s]"
     ]
    },
    {
     "name": "stdout",
     "output_type": "stream",
     "text": [
      "time : 13.18, train_loss : 0.14, train_acc : 94.99,val_acc : 94.96,val_loss : 0.14\n"
     ]
    },
    {
     "name": "stderr",
     "output_type": "stream",
     "text": [
      "100%|██████████| 253/253 [00:09<00:00, 25.42it/s]\n",
      "100%|██████████| 190/190 [00:03<00:00, 55.24it/s]\n",
      "  1%|          | 2/253 [00:00<00:13, 18.08it/s]"
     ]
    },
    {
     "name": "stdout",
     "output_type": "stream",
     "text": [
      "time : 13.39, train_loss : 0.14, train_acc : 95.00,val_acc : 94.98,val_loss : 0.14\n"
     ]
    },
    {
     "name": "stderr",
     "output_type": "stream",
     "text": [
      "100%|██████████| 253/253 [00:09<00:00, 26.49it/s]\n",
      "100%|██████████| 190/190 [00:03<00:00, 54.20it/s]\n",
      "  1%|          | 2/253 [00:00<00:16, 15.22it/s]"
     ]
    },
    {
     "name": "stdout",
     "output_type": "stream",
     "text": [
      "time : 13.06, train_loss : 0.14, train_acc : 95.00,val_acc : 94.96,val_loss : 0.14\n"
     ]
    },
    {
     "name": "stderr",
     "output_type": "stream",
     "text": [
      "100%|██████████| 253/253 [00:09<00:00, 26.63it/s]\n",
      "100%|██████████| 190/190 [00:03<00:00, 54.21it/s]\n",
      "  1%|          | 2/253 [00:00<00:19, 12.70it/s]"
     ]
    },
    {
     "name": "stdout",
     "output_type": "stream",
     "text": [
      "time : 13.01, train_loss : 0.14, train_acc : 95.01,val_acc : 94.99,val_loss : 0.14\n"
     ]
    },
    {
     "name": "stderr",
     "output_type": "stream",
     "text": [
      "100%|██████████| 253/253 [00:09<00:00, 26.43it/s]\n",
      "100%|██████████| 190/190 [00:03<00:00, 54.76it/s]\n",
      "  1%|          | 2/253 [00:00<00:16, 15.62it/s]"
     ]
    },
    {
     "name": "stdout",
     "output_type": "stream",
     "text": [
      "time : 13.04, train_loss : 0.14, train_acc : 95.02,val_acc : 94.98,val_loss : 0.14\n"
     ]
    },
    {
     "name": "stderr",
     "output_type": "stream",
     "text": [
      "100%|██████████| 253/253 [00:09<00:00, 26.49it/s]\n",
      "100%|██████████| 190/190 [00:03<00:00, 51.20it/s]\n",
      "  0%|          | 0/190 [00:00<?, ?it/s]"
     ]
    },
    {
     "name": "stdout",
     "output_type": "stream",
     "text": [
      "time : 13.26, train_loss : 0.14, train_acc : 95.03,val_acc : 94.99,val_loss : 0.14\n"
     ]
    },
    {
     "name": "stderr",
     "output_type": "stream",
     "text": [
      "100%|██████████| 190/190 [00:03<00:00, 49.68it/s]\n",
      "  1%|          | 2/253 [00:00<00:13, 18.83it/s]"
     ]
    },
    {
     "name": "stdout",
     "output_type": "stream",
     "text": [
      "Namespace(epoch=20, exp_name='exp_hid', hid_dim=6, hid_dim1=4)\n"
     ]
    },
    {
     "name": "stderr",
     "output_type": "stream",
     "text": [
      "100%|██████████| 253/253 [00:09<00:00, 25.93it/s]\n",
      "100%|██████████| 190/190 [00:03<00:00, 49.83it/s]\n",
      "  1%|          | 2/253 [00:00<00:21, 11.76it/s]"
     ]
    },
    {
     "name": "stdout",
     "output_type": "stream",
     "text": [
      "time : 13.57, train_loss : 0.57, train_acc : 82.86,val_acc : 91.59,val_loss : 0.41\n"
     ]
    },
    {
     "name": "stderr",
     "output_type": "stream",
     "text": [
      "100%|██████████| 253/253 [00:09<00:00, 26.00it/s]\n",
      "100%|██████████| 190/190 [00:03<00:00, 54.37it/s]\n",
      "  1%|          | 2/253 [00:00<00:12, 19.44it/s]"
     ]
    },
    {
     "name": "stdout",
     "output_type": "stream",
     "text": [
      "time : 13.23, train_loss : 0.33, train_acc : 92.78,val_acc : 93.17,val_loss : 0.28\n"
     ]
    },
    {
     "name": "stderr",
     "output_type": "stream",
     "text": [
      "100%|██████████| 253/253 [00:09<00:00, 26.01it/s]\n",
      "100%|██████████| 190/190 [00:03<00:00, 53.59it/s]\n",
      "  0%|          | 1/253 [00:00<00:38,  6.48it/s]"
     ]
    },
    {
     "name": "stdout",
     "output_type": "stream",
     "text": [
      "time : 13.28, train_loss : 0.25, train_acc : 93.69,val_acc : 94.16,val_loss : 0.22\n"
     ]
    },
    {
     "name": "stderr",
     "output_type": "stream",
     "text": [
      "100%|██████████| 253/253 [00:09<00:00, 26.07it/s]\n",
      "100%|██████████| 190/190 [00:03<00:00, 50.32it/s]\n",
      "  1%|          | 2/253 [00:00<00:13, 19.20it/s]"
     ]
    },
    {
     "name": "stdout",
     "output_type": "stream",
     "text": [
      "time : 13.48, train_loss : 0.20, train_acc : 94.51,val_acc : 94.72,val_loss : 0.19\n"
     ]
    },
    {
     "name": "stderr",
     "output_type": "stream",
     "text": [
      "100%|██████████| 253/253 [00:09<00:00, 26.38it/s]\n",
      "100%|██████████| 190/190 [00:03<00:00, 55.92it/s]\n",
      "  1%|          | 2/253 [00:00<00:13, 19.18it/s]"
     ]
    },
    {
     "name": "stdout",
     "output_type": "stream",
     "text": [
      "time : 12.99, train_loss : 0.18, train_acc : 94.88,val_acc : 95.00,val_loss : 0.17\n"
     ]
    },
    {
     "name": "stderr",
     "output_type": "stream",
     "text": [
      "100%|██████████| 253/253 [00:09<00:00, 26.40it/s]\n",
      "100%|██████████| 190/190 [00:03<00:00, 54.47it/s]\n",
      "  0%|          | 1/253 [00:00<00:42,  5.87it/s]"
     ]
    },
    {
     "name": "stdout",
     "output_type": "stream",
     "text": [
      "time : 13.07, train_loss : 0.14, train_acc : 95.16,val_acc : 95.24,val_loss : 0.13\n"
     ]
    },
    {
     "name": "stderr",
     "output_type": "stream",
     "text": [
      "100%|██████████| 253/253 [00:09<00:00, 25.49it/s]\n",
      "100%|██████████| 190/190 [00:03<00:00, 51.47it/s]\n",
      "  1%|          | 2/253 [00:00<00:13, 18.78it/s]"
     ]
    },
    {
     "name": "stdout",
     "output_type": "stream",
     "text": [
      "time : 13.62, train_loss : 0.13, train_acc : 95.30,val_acc : 95.34,val_loss : 0.12\n"
     ]
    },
    {
     "name": "stderr",
     "output_type": "stream",
     "text": [
      "100%|██████████| 253/253 [00:09<00:00, 25.84it/s]\n",
      "100%|██████████| 190/190 [00:03<00:00, 55.89it/s]\n",
      "  1%|          | 2/253 [00:00<00:16, 15.34it/s]"
     ]
    },
    {
     "name": "stdout",
     "output_type": "stream",
     "text": [
      "time : 13.19, train_loss : 0.12, train_acc : 95.40,val_acc : 95.40,val_loss : 0.12\n"
     ]
    },
    {
     "name": "stderr",
     "output_type": "stream",
     "text": [
      "100%|██████████| 253/253 [00:09<00:00, 26.33it/s]\n",
      "100%|██████████| 190/190 [00:03<00:00, 50.72it/s]\n",
      "  0%|          | 1/253 [00:00<00:32,  7.70it/s]"
     ]
    },
    {
     "name": "stdout",
     "output_type": "stream",
     "text": [
      "time : 13.36, train_loss : 0.12, train_acc : 95.45,val_acc : 95.43,val_loss : 0.12\n"
     ]
    },
    {
     "name": "stderr",
     "output_type": "stream",
     "text": [
      "100%|██████████| 253/253 [00:09<00:00, 26.85it/s]\n",
      "100%|██████████| 190/190 [00:03<00:00, 55.64it/s]\n",
      "  1%|          | 2/253 [00:00<00:13, 18.26it/s]"
     ]
    },
    {
     "name": "stdout",
     "output_type": "stream",
     "text": [
      "time : 12.84, train_loss : 0.12, train_acc : 95.48,val_acc : 95.48,val_loss : 0.12\n"
     ]
    },
    {
     "name": "stderr",
     "output_type": "stream",
     "text": [
      "100%|██████████| 253/253 [00:09<00:00, 26.40it/s]\n",
      "100%|██████████| 190/190 [00:03<00:00, 55.56it/s]\n",
      "  1%|          | 2/253 [00:00<00:16, 14.89it/s]"
     ]
    },
    {
     "name": "stdout",
     "output_type": "stream",
     "text": [
      "time : 13.00, train_loss : 0.12, train_acc : 95.50,val_acc : 95.51,val_loss : 0.12\n"
     ]
    },
    {
     "name": "stderr",
     "output_type": "stream",
     "text": [
      "100%|██████████| 253/253 [00:09<00:00, 26.70it/s]\n",
      "100%|██████████| 190/190 [00:04<00:00, 47.49it/s]\n",
      "  0%|          | 1/253 [00:00<00:42,  5.90it/s]"
     ]
    },
    {
     "name": "stdout",
     "output_type": "stream",
     "text": [
      "time : 13.48, train_loss : 0.12, train_acc : 95.53,val_acc : 95.51,val_loss : 0.12\n"
     ]
    },
    {
     "name": "stderr",
     "output_type": "stream",
     "text": [
      "100%|██████████| 253/253 [00:09<00:00, 26.51it/s]\n",
      "100%|██████████| 190/190 [00:03<00:00, 55.84it/s]\n",
      "  1%|          | 2/253 [00:00<00:13, 18.79it/s]"
     ]
    },
    {
     "name": "stdout",
     "output_type": "stream",
     "text": [
      "time : 12.95, train_loss : 0.12, train_acc : 95.56,val_acc : 95.56,val_loss : 0.12\n"
     ]
    },
    {
     "name": "stderr",
     "output_type": "stream",
     "text": [
      "100%|██████████| 253/253 [00:09<00:00, 26.35it/s]\n",
      "100%|██████████| 190/190 [00:03<00:00, 53.34it/s]\n",
      "  1%|          | 2/253 [00:00<00:13, 18.91it/s]"
     ]
    },
    {
     "name": "stdout",
     "output_type": "stream",
     "text": [
      "time : 13.17, train_loss : 0.12, train_acc : 95.58,val_acc : 95.54,val_loss : 0.12\n"
     ]
    },
    {
     "name": "stderr",
     "output_type": "stream",
     "text": [
      "100%|██████████| 253/253 [00:09<00:00, 26.53it/s]\n",
      "100%|██████████| 190/190 [00:03<00:00, 52.33it/s]\n",
      "  0%|          | 1/253 [00:00<00:43,  5.81it/s]"
     ]
    },
    {
     "name": "stdout",
     "output_type": "stream",
     "text": [
      "time : 13.17, train_loss : 0.12, train_acc : 95.59,val_acc : 95.58,val_loss : 0.12\n"
     ]
    },
    {
     "name": "stderr",
     "output_type": "stream",
     "text": [
      "100%|██████████| 253/253 [00:09<00:00, 25.96it/s]\n",
      "100%|██████████| 190/190 [00:03<00:00, 53.81it/s]\n",
      "  1%|          | 2/253 [00:00<00:12, 19.68it/s]"
     ]
    },
    {
     "name": "stdout",
     "output_type": "stream",
     "text": [
      "time : 13.28, train_loss : 0.12, train_acc : 95.60,val_acc : 95.60,val_loss : 0.12\n"
     ]
    },
    {
     "name": "stderr",
     "output_type": "stream",
     "text": [
      "100%|██████████| 253/253 [00:09<00:00, 26.69it/s]\n",
      "100%|██████████| 190/190 [00:03<00:00, 50.70it/s]\n",
      "  1%|          | 2/253 [00:00<00:13, 18.44it/s]"
     ]
    },
    {
     "name": "stdout",
     "output_type": "stream",
     "text": [
      "time : 13.23, train_loss : 0.12, train_acc : 95.62,val_acc : 95.61,val_loss : 0.12\n"
     ]
    },
    {
     "name": "stderr",
     "output_type": "stream",
     "text": [
      "100%|██████████| 253/253 [00:09<00:00, 25.71it/s]\n",
      "100%|██████████| 190/190 [00:03<00:00, 50.24it/s]\n",
      "  1%|          | 2/253 [00:00<00:21, 11.55it/s]"
     ]
    },
    {
     "name": "stdout",
     "output_type": "stream",
     "text": [
      "time : 13.63, train_loss : 0.12, train_acc : 95.62,val_acc : 95.60,val_loss : 0.12\n"
     ]
    },
    {
     "name": "stderr",
     "output_type": "stream",
     "text": [
      "100%|██████████| 253/253 [00:09<00:00, 25.54it/s]\n",
      "100%|██████████| 190/190 [00:03<00:00, 54.41it/s]\n",
      "  1%|          | 2/253 [00:00<00:13, 18.93it/s]"
     ]
    },
    {
     "name": "stdout",
     "output_type": "stream",
     "text": [
      "time : 13.40, train_loss : 0.12, train_acc : 95.65,val_acc : 95.62,val_loss : 0.12\n"
     ]
    },
    {
     "name": "stderr",
     "output_type": "stream",
     "text": [
      "100%|██████████| 253/253 [00:09<00:00, 26.38it/s]\n",
      "100%|██████████| 190/190 [00:03<00:00, 50.10it/s]\n",
      "  0%|          | 0/190 [00:00<?, ?it/s]"
     ]
    },
    {
     "name": "stdout",
     "output_type": "stream",
     "text": [
      "time : 13.39, train_loss : 0.12, train_acc : 95.65,val_acc : 95.64,val_loss : 0.12\n"
     ]
    },
    {
     "name": "stderr",
     "output_type": "stream",
     "text": [
      "100%|██████████| 190/190 [00:03<00:00, 53.09it/s]\n",
      "  1%|          | 2/253 [00:00<00:13, 19.16it/s]"
     ]
    },
    {
     "name": "stdout",
     "output_type": "stream",
     "text": [
      "Namespace(epoch=20, exp_name='exp_hid', hid_dim=6, hid_dim1=5)\n"
     ]
    },
    {
     "name": "stderr",
     "output_type": "stream",
     "text": [
      "100%|██████████| 253/253 [00:09<00:00, 26.88it/s]\n",
      "100%|██████████| 190/190 [00:03<00:00, 54.44it/s]\n",
      "  0%|          | 0/253 [00:00<?, ?it/s]"
     ]
    },
    {
     "name": "stdout",
     "output_type": "stream",
     "text": [
      "time : 12.90, train_loss : 0.60, train_acc : 60.80,val_acc : 81.03,val_loss : 0.44\n"
     ]
    },
    {
     "name": "stderr",
     "output_type": "stream",
     "text": [
      "100%|██████████| 253/253 [00:09<00:00, 25.99it/s]\n",
      "100%|██████████| 190/190 [00:03<00:00, 52.31it/s]\n",
      "  1%|          | 2/253 [00:00<00:13, 19.02it/s]"
     ]
    },
    {
     "name": "stdout",
     "output_type": "stream",
     "text": [
      "time : 13.37, train_loss : 0.27, train_acc : 90.52,val_acc : 92.70,val_loss : 0.20\n"
     ]
    },
    {
     "name": "stderr",
     "output_type": "stream",
     "text": [
      "100%|██████████| 253/253 [00:09<00:00, 25.54it/s]\n",
      "100%|██████████| 190/190 [00:03<00:00, 51.96it/s]\n",
      "  1%|          | 2/253 [00:00<00:12, 19.49it/s]"
     ]
    },
    {
     "name": "stdout",
     "output_type": "stream",
     "text": [
      "time : 13.57, train_loss : 0.19, train_acc : 93.09,val_acc : 93.34,val_loss : 0.18\n"
     ]
    },
    {
     "name": "stderr",
     "output_type": "stream",
     "text": [
      "100%|██████████| 253/253 [00:09<00:00, 26.79it/s]\n",
      "100%|██████████| 190/190 [00:03<00:00, 53.68it/s]\n",
      "  1%|          | 2/253 [00:00<00:23, 10.48it/s]"
     ]
    },
    {
     "name": "stdout",
     "output_type": "stream",
     "text": [
      "time : 12.98, train_loss : 0.17, train_acc : 93.60,val_acc : 93.84,val_loss : 0.17\n"
     ]
    },
    {
     "name": "stderr",
     "output_type": "stream",
     "text": [
      "100%|██████████| 253/253 [00:09<00:00, 25.51it/s]\n",
      "100%|██████████| 190/190 [00:03<00:00, 55.54it/s]\n",
      "  1%|          | 2/253 [00:00<00:17, 14.67it/s]"
     ]
    },
    {
     "name": "stdout",
     "output_type": "stream",
     "text": [
      "time : 13.34, train_loss : 0.16, train_acc : 94.19,val_acc : 94.39,val_loss : 0.15\n"
     ]
    },
    {
     "name": "stderr",
     "output_type": "stream",
     "text": [
      "100%|██████████| 253/253 [00:09<00:00, 25.81it/s]\n",
      "100%|██████████| 190/190 [00:03<00:00, 56.32it/s]\n",
      "  1%|          | 2/253 [00:00<00:15, 16.51it/s]"
     ]
    },
    {
     "name": "stdout",
     "output_type": "stream",
     "text": [
      "time : 13.18, train_loss : 0.15, train_acc : 94.59,val_acc : 94.68,val_loss : 0.14\n"
     ]
    },
    {
     "name": "stderr",
     "output_type": "stream",
     "text": [
      "100%|██████████| 253/253 [00:09<00:00, 26.70it/s]\n",
      "100%|██████████| 190/190 [00:03<00:00, 52.23it/s]\n",
      "  1%|          | 2/253 [00:00<00:20, 12.22it/s]"
     ]
    },
    {
     "name": "stdout",
     "output_type": "stream",
     "text": [
      "time : 13.12, train_loss : 0.14, train_acc : 94.80,val_acc : 94.86,val_loss : 0.14\n"
     ]
    },
    {
     "name": "stderr",
     "output_type": "stream",
     "text": [
      "100%|██████████| 253/253 [00:09<00:00, 26.41it/s]\n",
      "100%|██████████| 190/190 [00:03<00:00, 55.69it/s]\n",
      "  1%|          | 2/253 [00:00<00:16, 15.11it/s]"
     ]
    },
    {
     "name": "stdout",
     "output_type": "stream",
     "text": [
      "time : 13.00, train_loss : 0.14, train_acc : 94.93,val_acc : 94.94,val_loss : 0.13\n"
     ]
    },
    {
     "name": "stderr",
     "output_type": "stream",
     "text": [
      "100%|██████████| 253/253 [00:09<00:00, 26.64it/s]\n",
      "100%|██████████| 190/190 [00:03<00:00, 49.91it/s]\n",
      "  0%|          | 1/253 [00:00<00:34,  7.27it/s]"
     ]
    },
    {
     "name": "stdout",
     "output_type": "stream",
     "text": [
      "time : 13.31, train_loss : 0.13, train_acc : 94.99,val_acc : 95.00,val_loss : 0.13\n"
     ]
    },
    {
     "name": "stderr",
     "output_type": "stream",
     "text": [
      "100%|██████████| 253/253 [00:09<00:00, 25.51it/s]\n",
      "100%|██████████| 190/190 [00:03<00:00, 54.48it/s]\n",
      "  1%|          | 2/253 [00:00<00:13, 18.68it/s]"
     ]
    },
    {
     "name": "stdout",
     "output_type": "stream",
     "text": [
      "time : 13.41, train_loss : 0.13, train_acc : 95.05,val_acc : 95.03,val_loss : 0.13\n"
     ]
    },
    {
     "name": "stderr",
     "output_type": "stream",
     "text": [
      "100%|██████████| 253/253 [00:09<00:00, 25.72it/s]\n",
      "100%|██████████| 190/190 [00:03<00:00, 55.78it/s]\n",
      "  1%|          | 2/253 [00:00<00:14, 16.93it/s]"
     ]
    },
    {
     "name": "stdout",
     "output_type": "stream",
     "text": [
      "time : 13.24, train_loss : 0.13, train_acc : 95.09,val_acc : 95.09,val_loss : 0.13\n"
     ]
    },
    {
     "name": "stderr",
     "output_type": "stream",
     "text": [
      "100%|██████████| 253/253 [00:09<00:00, 25.70it/s]\n",
      "100%|██████████| 190/190 [00:03<00:00, 51.63it/s]\n",
      "  0%|          | 1/253 [00:00<00:40,  6.29it/s]"
     ]
    },
    {
     "name": "stdout",
     "output_type": "stream",
     "text": [
      "time : 13.53, train_loss : 0.13, train_acc : 95.14,val_acc : 95.15,val_loss : 0.13\n"
     ]
    },
    {
     "name": "stderr",
     "output_type": "stream",
     "text": [
      "100%|██████████| 253/253 [00:09<00:00, 26.29it/s]\n",
      "100%|██████████| 190/190 [00:03<00:00, 54.94it/s]\n",
      "  1%|          | 2/253 [00:00<00:16, 15.15it/s]"
     ]
    },
    {
     "name": "stdout",
     "output_type": "stream",
     "text": [
      "time : 13.08, train_loss : 0.13, train_acc : 95.17,val_acc : 95.15,val_loss : 0.13\n"
     ]
    },
    {
     "name": "stderr",
     "output_type": "stream",
     "text": [
      "100%|██████████| 253/253 [00:10<00:00, 25.28it/s]\n",
      "100%|██████████| 190/190 [00:03<00:00, 55.80it/s]\n",
      "  1%|          | 2/253 [00:00<00:15, 15.77it/s]"
     ]
    },
    {
     "name": "stdout",
     "output_type": "stream",
     "text": [
      "time : 13.42, train_loss : 0.13, train_acc : 95.18,val_acc : 95.18,val_loss : 0.13\n"
     ]
    },
    {
     "name": "stderr",
     "output_type": "stream",
     "text": [
      "100%|██████████| 253/253 [00:09<00:00, 26.52it/s]\n",
      "100%|██████████| 190/190 [00:03<00:00, 52.65it/s]\n",
      "  0%|          | 1/253 [00:00<00:33,  7.63it/s]"
     ]
    },
    {
     "name": "stdout",
     "output_type": "stream",
     "text": [
      "time : 13.15, train_loss : 0.13, train_acc : 95.19,val_acc : 95.17,val_loss : 0.13\n"
     ]
    },
    {
     "name": "stderr",
     "output_type": "stream",
     "text": [
      "100%|██████████| 253/253 [00:09<00:00, 26.14it/s]\n",
      "100%|██████████| 190/190 [00:03<00:00, 52.49it/s]\n",
      "  1%|          | 2/253 [00:00<00:13, 18.81it/s]"
     ]
    },
    {
     "name": "stdout",
     "output_type": "stream",
     "text": [
      "time : 13.30, train_loss : 0.13, train_acc : 95.21,val_acc : 95.20,val_loss : 0.13\n"
     ]
    },
    {
     "name": "stderr",
     "output_type": "stream",
     "text": [
      "100%|██████████| 253/253 [00:09<00:00, 26.08it/s]\n",
      "100%|██████████| 190/190 [00:03<00:00, 53.09it/s]\n",
      "  1%|          | 2/253 [00:00<00:13, 19.30it/s]"
     ]
    },
    {
     "name": "stdout",
     "output_type": "stream",
     "text": [
      "time : 13.28, train_loss : 0.13, train_acc : 95.22,val_acc : 95.23,val_loss : 0.13\n"
     ]
    },
    {
     "name": "stderr",
     "output_type": "stream",
     "text": [
      "100%|██████████| 253/253 [00:09<00:00, 26.92it/s]\n",
      "100%|██████████| 190/190 [00:03<00:00, 54.53it/s]\n",
      "  0%|          | 1/253 [00:00<00:40,  6.15it/s]"
     ]
    },
    {
     "name": "stdout",
     "output_type": "stream",
     "text": [
      "time : 12.88, train_loss : 0.13, train_acc : 95.24,val_acc : 95.22,val_loss : 0.13\n"
     ]
    },
    {
     "name": "stderr",
     "output_type": "stream",
     "text": [
      "100%|██████████| 253/253 [00:09<00:00, 26.33it/s]\n",
      "100%|██████████| 190/190 [00:03<00:00, 50.92it/s]\n",
      "  1%|          | 2/253 [00:00<00:15, 15.98it/s]"
     ]
    },
    {
     "name": "stdout",
     "output_type": "stream",
     "text": [
      "time : 13.34, train_loss : 0.13, train_acc : 95.25,val_acc : 95.24,val_loss : 0.13\n"
     ]
    },
    {
     "name": "stderr",
     "output_type": "stream",
     "text": [
      "100%|██████████| 253/253 [00:09<00:00, 26.13it/s]\n",
      "100%|██████████| 190/190 [00:03<00:00, 54.98it/s]\n",
      "  0%|          | 0/190 [00:00<?, ?it/s]"
     ]
    },
    {
     "name": "stdout",
     "output_type": "stream",
     "text": [
      "time : 13.14, train_loss : 0.13, train_acc : 95.26,val_acc : 95.25,val_loss : 0.13\n"
     ]
    },
    {
     "name": "stderr",
     "output_type": "stream",
     "text": [
      "100%|██████████| 190/190 [00:03<00:00, 48.97it/s]\n",
      "  1%|          | 2/253 [00:00<00:16, 14.96it/s]"
     ]
    },
    {
     "name": "stdout",
     "output_type": "stream",
     "text": [
      "Namespace(epoch=20, exp_name='exp_hid', hid_dim=6, hid_dim1=6)\n"
     ]
    },
    {
     "name": "stderr",
     "output_type": "stream",
     "text": [
      "100%|██████████| 253/253 [00:09<00:00, 25.86it/s]\n",
      "100%|██████████| 190/190 [00:03<00:00, 53.11it/s]\n",
      "  0%|          | 1/253 [00:00<00:35,  7.01it/s]"
     ]
    },
    {
     "name": "stdout",
     "output_type": "stream",
     "text": [
      "time : 13.36, train_loss : 0.44, train_acc : 79.82,val_acc : 91.63,val_loss : 0.24\n"
     ]
    },
    {
     "name": "stderr",
     "output_type": "stream",
     "text": [
      "100%|██████████| 253/253 [00:09<00:00, 26.19it/s]\n",
      "100%|██████████| 190/190 [00:03<00:00, 53.90it/s]\n",
      "  1%|          | 2/253 [00:00<00:16, 14.93it/s]"
     ]
    },
    {
     "name": "stdout",
     "output_type": "stream",
     "text": [
      "time : 13.19, train_loss : 0.22, train_acc : 92.45,val_acc : 92.81,val_loss : 0.21\n"
     ]
    },
    {
     "name": "stderr",
     "output_type": "stream",
     "text": [
      "100%|██████████| 253/253 [00:09<00:00, 26.12it/s]\n",
      "100%|██████████| 190/190 [00:03<00:00, 56.07it/s]\n",
      "  1%|          | 2/253 [00:00<00:13, 18.77it/s]"
     ]
    },
    {
     "name": "stdout",
     "output_type": "stream",
     "text": [
      "time : 13.08, train_loss : 0.20, train_acc : 93.02,val_acc : 93.07,val_loss : 0.19\n"
     ]
    },
    {
     "name": "stderr",
     "output_type": "stream",
     "text": [
      "100%|██████████| 253/253 [00:09<00:00, 25.73it/s]\n",
      "100%|██████████| 190/190 [00:03<00:00, 50.87it/s]\n",
      "  1%|          | 2/253 [00:00<00:19, 12.90it/s]"
     ]
    },
    {
     "name": "stdout",
     "output_type": "stream",
     "text": [
      "time : 13.57, train_loss : 0.18, train_acc : 93.35,val_acc : 93.59,val_loss : 0.18\n"
     ]
    },
    {
     "name": "stderr",
     "output_type": "stream",
     "text": [
      "100%|██████████| 253/253 [00:09<00:00, 26.74it/s]\n",
      "100%|██████████| 190/190 [00:03<00:00, 53.17it/s]\n",
      "  1%|          | 2/253 [00:00<00:16, 15.01it/s]"
     ]
    },
    {
     "name": "stdout",
     "output_type": "stream",
     "text": [
      "time : 13.04, train_loss : 0.17, train_acc : 93.82,val_acc : 94.03,val_loss : 0.16\n"
     ]
    },
    {
     "name": "stderr",
     "output_type": "stream",
     "text": [
      "100%|██████████| 253/253 [00:09<00:00, 25.77it/s]\n",
      "100%|██████████| 190/190 [00:03<00:00, 56.25it/s]\n",
      "  1%|          | 2/253 [00:00<00:13, 19.02it/s]"
     ]
    },
    {
     "name": "stdout",
     "output_type": "stream",
     "text": [
      "time : 13.20, train_loss : 0.16, train_acc : 94.35,val_acc : 94.49,val_loss : 0.15\n"
     ]
    },
    {
     "name": "stderr",
     "output_type": "stream",
     "text": [
      "100%|██████████| 253/253 [00:09<00:00, 26.54it/s]\n",
      "100%|██████████| 190/190 [00:03<00:00, 50.47it/s]\n",
      "  1%|          | 2/253 [00:00<00:21, 11.90it/s]"
     ]
    },
    {
     "name": "stdout",
     "output_type": "stream",
     "text": [
      "time : 13.30, train_loss : 0.15, train_acc : 94.63,val_acc : 94.66,val_loss : 0.15\n"
     ]
    },
    {
     "name": "stderr",
     "output_type": "stream",
     "text": [
      "100%|██████████| 253/253 [00:09<00:00, 26.06it/s]\n",
      "100%|██████████| 190/190 [00:03<00:00, 52.56it/s]\n",
      "  1%|          | 2/253 [00:00<00:12, 19.57it/s]"
     ]
    },
    {
     "name": "stdout",
     "output_type": "stream",
     "text": [
      "time : 13.32, train_loss : 0.15, train_acc : 94.73,val_acc : 94.73,val_loss : 0.14\n"
     ]
    },
    {
     "name": "stderr",
     "output_type": "stream",
     "text": [
      "100%|██████████| 253/253 [00:09<00:00, 26.36it/s]\n",
      "100%|██████████| 190/190 [00:03<00:00, 54.32it/s]\n",
      "  1%|          | 2/253 [00:00<00:13, 19.10it/s]"
     ]
    },
    {
     "name": "stdout",
     "output_type": "stream",
     "text": [
      "time : 13.10, train_loss : 0.14, train_acc : 94.79,val_acc : 94.82,val_loss : 0.14\n"
     ]
    },
    {
     "name": "stderr",
     "output_type": "stream",
     "text": [
      "100%|██████████| 253/253 [00:09<00:00, 25.84it/s]\n",
      "100%|██████████| 190/190 [00:03<00:00, 52.08it/s]\n",
      "  1%|          | 2/253 [00:00<00:20, 12.13it/s]"
     ]
    },
    {
     "name": "stdout",
     "output_type": "stream",
     "text": [
      "time : 13.44, train_loss : 0.14, train_acc : 94.86,val_acc : 94.83,val_loss : 0.14\n"
     ]
    },
    {
     "name": "stderr",
     "output_type": "stream",
     "text": [
      "100%|██████████| 253/253 [00:09<00:00, 26.61it/s]\n",
      "100%|██████████| 190/190 [00:03<00:00, 51.92it/s]\n",
      "  1%|          | 2/253 [00:00<00:13, 19.25it/s]"
     ]
    },
    {
     "name": "stdout",
     "output_type": "stream",
     "text": [
      "time : 13.17, train_loss : 0.14, train_acc : 94.88,val_acc : 94.88,val_loss : 0.14\n"
     ]
    },
    {
     "name": "stderr",
     "output_type": "stream",
     "text": [
      "100%|██████████| 253/253 [00:09<00:00, 25.96it/s]\n",
      "100%|██████████| 190/190 [00:03<00:00, 53.11it/s]\n",
      "  1%|          | 2/253 [00:00<00:13, 19.04it/s]"
     ]
    },
    {
     "name": "stdout",
     "output_type": "stream",
     "text": [
      "time : 13.33, train_loss : 0.14, train_acc : 94.90,val_acc : 94.87,val_loss : 0.14\n"
     ]
    },
    {
     "name": "stderr",
     "output_type": "stream",
     "text": [
      "100%|██████████| 253/253 [00:09<00:00, 26.59it/s]\n",
      "100%|██████████| 190/190 [00:03<00:00, 51.73it/s]\n",
      "  1%|          | 2/253 [00:00<00:22, 11.41it/s]"
     ]
    },
    {
     "name": "stdout",
     "output_type": "stream",
     "text": [
      "time : 13.19, train_loss : 0.14, train_acc : 94.90,val_acc : 94.85,val_loss : 0.14\n"
     ]
    },
    {
     "name": "stderr",
     "output_type": "stream",
     "text": [
      "100%|██████████| 253/253 [00:09<00:00, 25.87it/s]\n",
      "100%|██████████| 190/190 [00:03<00:00, 55.18it/s]\n",
      "  1%|          | 2/253 [00:00<00:14, 17.86it/s]"
     ]
    },
    {
     "name": "stdout",
     "output_type": "stream",
     "text": [
      "time : 13.23, train_loss : 0.14, train_acc : 94.89,val_acc : 94.88,val_loss : 0.14\n"
     ]
    },
    {
     "name": "stderr",
     "output_type": "stream",
     "text": [
      "100%|██████████| 253/253 [00:09<00:00, 26.07it/s]\n",
      "100%|██████████| 190/190 [00:03<00:00, 56.18it/s]\n",
      "  1%|          | 2/253 [00:00<00:13, 18.94it/s]"
     ]
    },
    {
     "name": "stdout",
     "output_type": "stream",
     "text": [
      "time : 13.09, train_loss : 0.14, train_acc : 94.90,val_acc : 94.87,val_loss : 0.14\n"
     ]
    },
    {
     "name": "stderr",
     "output_type": "stream",
     "text": [
      "100%|██████████| 253/253 [00:09<00:00, 26.18it/s]\n",
      "100%|██████████| 190/190 [00:03<00:00, 54.20it/s]\n",
      "  1%|          | 2/253 [00:00<00:24, 10.18it/s]"
     ]
    },
    {
     "name": "stdout",
     "output_type": "stream",
     "text": [
      "time : 13.17, train_loss : 0.14, train_acc : 94.89,val_acc : 94.86,val_loss : 0.14\n"
     ]
    },
    {
     "name": "stderr",
     "output_type": "stream",
     "text": [
      "100%|██████████| 253/253 [00:09<00:00, 26.23it/s]\n",
      "100%|██████████| 190/190 [00:03<00:00, 55.55it/s]\n",
      "  1%|          | 2/253 [00:00<00:13, 18.82it/s]"
     ]
    },
    {
     "name": "stdout",
     "output_type": "stream",
     "text": [
      "time : 13.07, train_loss : 0.14, train_acc : 94.88,val_acc : 94.83,val_loss : 0.14\n"
     ]
    },
    {
     "name": "stderr",
     "output_type": "stream",
     "text": [
      "100%|██████████| 253/253 [00:09<00:00, 26.67it/s]\n",
      "100%|██████████| 190/190 [00:03<00:00, 50.92it/s]\n",
      "  0%|          | 1/253 [00:00<00:42,  5.98it/s]"
     ]
    },
    {
     "name": "stdout",
     "output_type": "stream",
     "text": [
      "time : 13.22, train_loss : 0.14, train_acc : 94.88,val_acc : 94.84,val_loss : 0.14\n"
     ]
    },
    {
     "name": "stderr",
     "output_type": "stream",
     "text": [
      "100%|██████████| 253/253 [00:09<00:00, 25.78it/s]\n",
      "100%|██████████| 190/190 [00:03<00:00, 52.42it/s]\n",
      "  1%|          | 2/253 [00:00<00:13, 18.34it/s]"
     ]
    },
    {
     "name": "stdout",
     "output_type": "stream",
     "text": [
      "time : 13.44, train_loss : 0.14, train_acc : 94.88,val_acc : 94.86,val_loss : 0.14\n"
     ]
    },
    {
     "name": "stderr",
     "output_type": "stream",
     "text": [
      "100%|██████████| 253/253 [00:09<00:00, 25.82it/s]\n",
      "100%|██████████| 190/190 [00:03<00:00, 53.07it/s]\n",
      "  0%|          | 0/190 [00:00<?, ?it/s]"
     ]
    },
    {
     "name": "stdout",
     "output_type": "stream",
     "text": [
      "time : 13.38, train_loss : 0.14, train_acc : 94.89,val_acc : 94.90,val_loss : 0.14\n"
     ]
    },
    {
     "name": "stderr",
     "output_type": "stream",
     "text": [
      "100%|██████████| 190/190 [00:03<00:00, 51.52it/s]\n"
     ]
    }
   ],
   "source": [
    "seed = 123\n",
    "np.random.seed(seed)\n",
    "torch.manual_seed(seed)\n",
    "\n",
    "parser = argparse.ArgumentParser()\n",
    "args = parser.parse_args(\"\")\n",
    "args.exp_name = \"exp_hid\"\n",
    "args.epoch = 20\n",
    "name_var1='hid_dim'\n",
    "name_var2='hid_dim1'\n",
    "list_var1=[3,4,5,6]\n",
    "list_var2=[3,4,5,6]\n",
    "for var1 in list_var1:\n",
    "    for var2 in list_var2:\n",
    "        setattr(args, name_var1, var1) #args.name_var1 = var1\n",
    "        setattr(args, name_var2, var2)\n",
    "        print(args)\n",
    "                \n",
    "        setting, result = experiment(partition, deepcopy(args))\n",
    "        save_exp_result(setting, result)"
   ]
  },
  {
   "cell_type": "code",
   "execution_count": 32,
   "id": "nonprofit-cabinet",
   "metadata": {},
   "outputs": [],
   "source": [
    "def plot_acc(var1, var2, df):\n",
    "\n",
    "    fig, ax = plt.subplots(1, 3)\n",
    "    fig.set_size_inches(15, 6)\n",
    "    sns.set_style(\"darkgrid\", {\"axes.facecolor\": \".9\"})\n",
    "\n",
    "    sns.barplot(x=var1, y='train_acc', hue=var2, data=df, ax=ax[0])\n",
    "    sns.barplot(x=var1, y='val_acc', hue=var2, data=df, ax=ax[1])\n",
    "    sns.barplot(x=var1, y='test_acc', hue=var2, data=df, ax=ax[2])\n",
    "    \n",
    "    ax[0].set_title('Train Accuracy')\n",
    "    ax[1].set_title('Validation Accuracy')\n",
    "    ax[2].set_title('Test Accuracy')\n",
    "\n",
    "    \n",
    "def plot_loss_variation(var1, var2, df, **kwargs):\n",
    "\n",
    "    list_v1 = df[var1].unique()\n",
    "    list_v2 = df[var2].unique()\n",
    "    list_data = []\n",
    "\n",
    "    for value1 in list_v1:\n",
    "        for value2 in list_v2:\n",
    "            row = df.loc[df[var1]==value1]\n",
    "            row = row.loc[df[var2]==value2]\n",
    "\n",
    "            train_losses = list(row.train_losses)[0]\n",
    "            val_losses = list(row.val_losses)[0]\n",
    "\n",
    "            for epoch, train_loss in enumerate(train_losses):\n",
    "                list_data.append({'type':'train', 'loss':train_loss, 'epoch':epoch, var1:value1, var2:value2})\n",
    "            for epoch, val_loss in enumerate(val_losses):\n",
    "                list_data.append({'type':'val', 'loss':val_loss, 'epoch':epoch, var1:value1, var2:value2})\n",
    "\n",
    "    df = pd.DataFrame(list_data)\n",
    "    g = sns.FacetGrid(df, row=var2, col=var1, hue='type', **kwargs)\n",
    "    g = g.map(plt.plot, 'epoch', 'loss', marker='.')\n",
    "    g.add_legend()\n",
    "    g.fig.suptitle('Train loss vs Val loss')\n",
    "    plt.subplots_adjust(top=0.89) # 만약 Title이 그래프랑 겹친다면 top 값을 조정해주면 됩니다! 함수 인자로 받으면 그래프마다 조절할 수 있겠죠?\n",
    "\n",
    "\n",
    "def plot_acc_variation(var1, var2, df, **kwargs):\n",
    "    list_v1 = df[var1].unique()\n",
    "    list_v2 = df[var2].unique()\n",
    "    list_data = []\n",
    "\n",
    "    for value1 in list_v1:\n",
    "        for value2 in list_v2:\n",
    "            row = df.loc[df[var1]==value1]\n",
    "            row = row.loc[df[var2]==value2]\n",
    "\n",
    "            train_accs = list(row.train_accs)[0]\n",
    "            val_accs = list(row.val_accs)[0]\n",
    "            test_acc = list(row.test_acc)[0]\n",
    "\n",
    "            for epoch, train_acc in enumerate(train_accs):\n",
    "                list_data.append({'type':'train', 'Acc':train_acc, 'test_acc':test_acc, 'epoch':epoch, var1:value1, var2:value2})\n",
    "            for epoch, val_acc in enumerate(val_accs):\n",
    "                list_data.append({'type':'val', 'Acc':val_acc, 'test_acc':test_acc, 'epoch':epoch, var1:value1, var2:value2})\n",
    "\n",
    "    df = pd.DataFrame(list_data)\n",
    "    g = sns.FacetGrid(df, row=var2, col=var1, hue='type', **kwargs)\n",
    "    g = g.map(plt.plot, 'epoch', 'Acc', marker='.')\n",
    "\n",
    "    def show_acc(x, y, metric, **kwargs):\n",
    "        plt.scatter(x, y, alpha=0.3, s=1)\n",
    "        metric = \"Test Acc: {:1.3f}\".format(list(metric.values)[0])\n",
    "        plt.text(0.05, 0.95, metric,  horizontalalignment='left', verticalalignment='center', transform=plt.gca().transAxes, bbox=dict(facecolor='yellow', alpha=0.5, boxstyle=\"round,pad=0.1\"))\n",
    "    g = g.map(show_acc, 'epoch', 'Acc', 'test_acc')\n",
    "\n",
    "    g.add_legend()\n",
    "    g.fig.suptitle('Train Accuracy vs Val Accuracy')\n",
    "    plt.subplots_adjust(top=0.89)"
   ]
  },
  {
   "cell_type": "code",
   "execution_count": 37,
   "id": "affected-jumping",
   "metadata": {},
   "outputs": [
    {
     "data": {
      "image/png": "[encoded data removed]",
      "text/plain": [
       "<Figure size 1080x432 with 3 Axes>"
      ]
     },
     "metadata": {},
     "output_type": "display_data"
    },
    {
     "data": {
      "image/png": "[encoded data removed]",
      "text/plain": [
       "<Figure size 923.375x864 with 16 Axes>"
      ]
     },
     "metadata": {},
     "output_type": "display_data"
    },
    {
     "data": {
      "image/png": "[encoded data removed]",
      "text/plain": [
       "<Figure size 923.375x864 with 16 Axes>"
      ]
     },
     "metadata": {},
     "output_type": "display_data"
    }
   ],
   "source": [
    "var1 = 'hid_dim'\n",
    "var2 = 'hid_dim1'\n",
    "df = load_exp_result('exp')\n",
    "\n",
    "plot_acc(var1, var2, df)\n",
    "plot_loss_variation(var1, var2, df, sharey=False) #sharey를 True로 하면 모둔 subplot의 y축의 스케일이 같아집니다.\n",
    "plot_acc_variation(var1, var2, df, margin_titles=True, sharey=True) #margin_titles를 True로 하면 그래프의 가장자리에 var1과 var2 값이 표시되고 False로 하면 각 subplot 위에 표시됩니다."
   ]
  },
  {
   "cell_type": "code",
   "execution_count": null,
   "id": "furnished-latitude",
   "metadata": {},
   "outputs": [],
   "source": []
  }
 ],
 "metadata": {
  "kernelspec": {
   "display_name": "Python 3",
   "language": "python",
   "name": "python3"
  },
  "language_info": {
   "codemirror_mode": {
    "name": "ipython",
    "version": 3
   },
   "file_extension": ".py",
   "mimetype": "text/x-python",
   "name": "python",
   "nbconvert_exporter": "python",
   "pygments_lexer": "ipython3",
   "version": "3.6.12"
  }
 },
 "nbformat": 4,
 "nbformat_minor": 5
}
